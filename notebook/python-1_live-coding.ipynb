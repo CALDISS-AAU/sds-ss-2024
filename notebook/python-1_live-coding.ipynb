{
 "cells": [
  {
   "cell_type": "markdown",
   "id": "13ca5e8f-a7eb-48b2-8518-e2f0400903c2",
   "metadata": {
    "editable": true,
    "jp-MarkdownHeadingCollapsed": true,
    "slideshow": {
     "slide_type": ""
    },
    "tags": []
   },
   "source": [
    "# Opstart af UCloud (live coding)"
   ]
  },
  {
   "cell_type": "markdown",
   "id": "bfb316c3-e765-4095-9739-826093c0cfec",
   "metadata": {},
   "source": [
    "## Fundamentale koncepter i Python\n",
    "\n",
    "Som nævnt arbejder man med Python ved at skrive kommandoer i Python sproget. Kommandoer bliver “evalueret” af fortolkeren. Hvis koden forstås, bliver den kørt, og der gives et output, en ændring eller andet afhængigt af, hvad man beder om."
   ]
  },
  {
   "cell_type": "code",
   "execution_count": 76,
   "id": "d8e45b0d-9647-462f-934d-327f8d4eafba",
   "metadata": {},
   "outputs": [
    {
     "data": {
      "text/plain": [
       "46"
      ]
     },
     "execution_count": 76,
     "metadata": {},
     "output_type": "execute_result"
    }
   ],
   "source": [
    "42 + 4"
   ]
  },
  {
   "cell_type": "markdown",
   "id": "40921d40-76d0-4ded-b767-c5daa03e7c87",
   "metadata": {},
   "source": [
    "### Objekter/varaible\n",
    "\n",
    "Python er et objekt-orienteret programmeringssprog. Dette indebærer, at man kontinuerligt arbejder med forskellige objekter, som indeholder en eller anden for for information.\n",
    "\n",
    "I Python kaldes objekter “variable”. Dette er ikke at forveksle med en variabel, som forstået i statistik som en egenskab ved en observation, da en variabel i Python blot er en beholder for en eller anden form for information."
   ]
  },
  {
   "cell_type": "code",
   "execution_count": 77,
   "id": "bc317a01-aaff-464a-9d73-0c231aa1304d",
   "metadata": {},
   "outputs": [
    {
     "name": "stdout",
     "output_type": "stream",
     "text": [
      "44\n"
     ]
    }
   ],
   "source": [
    "number = 42\n",
    "print(number + 2)"
   ]
  },
  {
   "cell_type": "code",
   "execution_count": 78,
   "id": "ca064a76-60b1-49ad-9115-66a22b276058",
   "metadata": {},
   "outputs": [
    {
     "name": "stdout",
     "output_type": "stream",
     "text": [
      "kenobi\n"
     ]
    }
   ],
   "source": [
    "name = \"kenobi\"\n",
    "print(name)"
   ]
  },
  {
   "cell_type": "markdown",
   "id": "ba5ad168-61ec-4508-87e5-654c80a53b50",
   "metadata": {},
   "source": [
    "### Funktioner\n",
    "\n",
    "En central del af det at arbejde med et programmeringssprog er at bruge funktioner. Funktioner tager et eller flere input (kaldet “argumenter”), foretager et eller andet med disse og returnerer (for det meste) et output.\n",
    "\n",
    "Funktioner i Python har følgende format:\n",
    "\n",
    "```\n",
    "function(argument1, argument2, ...)\n",
    "```\n"
   ]
  },
  {
   "cell_type": "code",
   "execution_count": 79,
   "id": "c4f18e9f-3f30-4609-ae15-eab8ddafb312",
   "metadata": {},
   "outputs": [
    {
     "name": "stdout",
     "output_type": "stream",
     "text": [
      "hello, there\n"
     ]
    }
   ],
   "source": [
    "print(\"hello\", \"there\", sep = \", \")"
   ]
  },
  {
   "cell_type": "markdown",
   "id": "e438c673-37e7-429f-87cd-cb9f59a5cbcc",
   "metadata": {},
   "source": [
    "### Metoder\n",
    "\n",
    "Udover funktioner i Python findes der også “metoder”. Lig funktioner tager metoder også en form for input og returnerer et output.\n",
    "\n",
    "I modsætning til funktioner er metoder bundet op på bestemte variabeltyper. Det vil sige at variablen skal være en bestemt type for, at metoden kan bruges. Metoder kaldes med `variabel.method(option1 = something)`. Tekstværdier (strings) har fx en række metoder tilknyttet til at ændre teksten:"
   ]
  },
  {
   "cell_type": "code",
   "execution_count": 80,
   "id": "d0216e6d-75a0-4538-9b48-8db256707326",
   "metadata": {},
   "outputs": [
    {
     "data": {
      "text/plain": [
       "'KENOBI'"
      ]
     },
     "execution_count": 80,
     "metadata": {},
     "output_type": "execute_result"
    }
   ],
   "source": [
    "name = \"kenobi\"\n",
    "name.upper()"
   ]
  },
  {
   "cell_type": "markdown",
   "id": "c32ebf6a-908e-49e8-acb1-8a90a1e49300",
   "metadata": {},
   "source": [
    "### Pakker\n",
    "\n",
    "Pakker i Python er samlinger af funktioner, metoder, værdier osv. Selvom man kan meget i Python, så når man ikke særlig langt uden at importere pakker.\n",
    "\n",
    "Funktioner, metoder, værdier osv. fra pakker kan nemt indlæses ved at importere dem. Så snart pakken er importeret, er pakkens indhold tilgængeligt."
   ]
  },
  {
   "cell_type": "code",
   "execution_count": 81,
   "id": "ce83751f-6454-4f58-bae1-29a697cbcd4e",
   "metadata": {},
   "outputs": [
    {
     "name": "stdout",
     "output_type": "stream",
     "text": [
      "3.141592653589793\n"
     ]
    }
   ],
   "source": [
    "import math\n",
    "\n",
    "print(math.pi)"
   ]
  },
  {
   "cell_type": "markdown",
   "id": "74324c56-90ae-4089-9f06-07b0f4a38a58",
   "metadata": {
    "editable": true,
    "jp-MarkdownHeadingCollapsed": true,
    "slideshow": {
     "slide_type": ""
    },
    "tags": []
   },
   "source": [
    "# Introduktion til pandas data frames (live coding)"
   ]
  },
  {
   "cell_type": "markdown",
   "id": "0ef9f08a-287f-4dd6-b638-e6dfdeffa343",
   "metadata": {
    "tags": []
   },
   "source": [
    "Pakken `pandas` (https://pandas.pydata.org/) er et Python bibliotek til datahåndtering og dataanalyse. Pandas egner sig særligt til data i tabeller struktureret i rækker og kolonner. En datatabel kaldes inden for pandas en \"DataFrame\"; et bestemt Python objekt specifikt til at lagre og bearbejde data i tabeller.\n",
    "\n",
    "Denne lektion gennemgår diverse basale funktioner til at indlæse, udforske og håndtere en pandas data frame. Se også den officielle dokumentation for flere guides, introduktioner og beskrivelser til at arbejde med pandas: https://pandas.pydata.org/docs/\n",
    "\n",
    "## Indlæs data med `pandas`\n",
    "\n",
    "`pandas` pakken indeholder funktioner til at indlæse data i forskellige formater; herunder CSV, JSON, Excel, Stata, SAS osv.\n",
    "\n",
    "I det nedenstående indlæses pandas biblioteket, hvorefter datasættet \"eurobarometer-96_dk_subset.csv\" indlæses."
   ]
  },
  {
   "cell_type": "code",
   "execution_count": 2,
   "id": "e87ec74c-6b55-45e1-b794-36d0d2ac0518",
   "metadata": {},
   "outputs": [],
   "source": [
    "import pandas as pd\n",
    "\n",
    "eurob = pd.read_csv(data_path)"
   ]
  },
  {
   "cell_type": "markdown",
   "id": "600bc931-e7e4-4892-9ebd-05121a66a58a",
   "metadata": {},
   "source": [
    "*Bemærk importkonventionerne for `pandas`. `pandas` typisk som `pd`.*\n",
    "\n",
    "**Navngivning af datasæt**\n",
    "\n",
    "Der er forskellige præferencer og holdninger til, hvordan man bør navngive sine objekter. \n",
    "\n",
    "Som hovedregel bør man gå efter navne, som både er relativt korte (man kan ende med at skulle skrive det mange gange) og som er sigende for, hvad objektet indeholder.\n",
    "\n",
    "Dog kan man også argumentere for at navngive meget generisk, sådan at ens kode kan anvendes på andet data."
   ]
  },
  {
   "cell_type": "markdown",
   "id": "5ae2de1d-dbb5-41eb-8ac6-8eae152ecf4e",
   "metadata": {},
   "source": [
    "### Om datasættet\n",
    "Datasættet, som indlæses her, er et uddrag af datasættet fra Eurobarometer 96.1 fra 2021 (https://search.gesis.org/research_data/ZA7846).\n",
    "\n",
    "Eurobarometer er en gentaget holdningsundersøgelse, der både indeholder standardrunder og \"specialrunder\", hvor der sættes fokus på specifikke temaer. I Eurobarometer 96.1 sættes bl.a. fokus på \"Future of Europe, and Digital rights and principles \". I dette uddrag er der kun inkluderet de danske respondenter og et mindre udpluk variable.\n",
    "\n",
    "I kan finde en variabel-beskrivelse i fællesmappen på UCloud under mappen \"doc\": `varlist_eurobarometer-96_dk_subset.pdf`."
   ]
  },
  {
   "cell_type": "markdown",
   "id": "b789c5e9-ee9a-4da0-b231-a75492bbe4f0",
   "metadata": {},
   "source": [
    "## Inspicer data med `pandas`\n",
    "\n",
    "Datasættet er nu indlæst som et dataframe objekt i Python, som man kan interagere med. \n",
    "\n",
    "Metoden `.head()` printer de første fem rækker af datasættet:"
   ]
  },
  {
   "cell_type": "code",
   "execution_count": 96,
   "id": "8479e135-5469-40b0-b6d3-44df86bdca59",
   "metadata": {},
   "outputs": [
    {
     "data": {
      "text/html": [
       "<div>\n",
       "<style scoped>\n",
       "    .dataframe tbody tr th:only-of-type {\n",
       "        vertical-align: middle;\n",
       "    }\n",
       "\n",
       "    .dataframe tbody tr th {\n",
       "        vertical-align: top;\n",
       "    }\n",
       "\n",
       "    .dataframe thead th {\n",
       "        text-align: right;\n",
       "    }\n",
       "</style>\n",
       "<table border=\"1\" class=\"dataframe\">\n",
       "  <thead>\n",
       "    <tr style=\"text-align: right;\">\n",
       "      <th></th>\n",
       "      <th>uniqid</th>\n",
       "      <th>d11</th>\n",
       "      <th>polintr</th>\n",
       "      <th>qb1</th>\n",
       "      <th>qb3_1</th>\n",
       "      <th>qb3_2</th>\n",
       "      <th>qb3_3</th>\n",
       "      <th>qb3_4</th>\n",
       "      <th>qb3_5</th>\n",
       "      <th>qb3_6</th>\n",
       "      <th>...</th>\n",
       "      <th>d10</th>\n",
       "      <th>d15a</th>\n",
       "      <th>d15b</th>\n",
       "      <th>d25</th>\n",
       "      <th>d63</th>\n",
       "      <th>d1</th>\n",
       "      <th>p1</th>\n",
       "      <th>p2</th>\n",
       "      <th>p3</th>\n",
       "      <th>region_denmark</th>\n",
       "    </tr>\n",
       "  </thead>\n",
       "  <tbody>\n",
       "    <tr>\n",
       "      <th>0</th>\n",
       "      <td>110005573</td>\n",
       "      <td>71</td>\n",
       "      <td>Not at all</td>\n",
       "      <td>Fairly important</td>\n",
       "      <td>Not mentioned</td>\n",
       "      <td>Not mentioned</td>\n",
       "      <td>Not mentioned</td>\n",
       "      <td>Not mentioned</td>\n",
       "      <td>Not mentioned</td>\n",
       "      <td>Not mentioned</td>\n",
       "      <td>...</td>\n",
       "      <td>Man</td>\n",
       "      <td>Retired, unable to work</td>\n",
       "      <td>Middle management, etc.</td>\n",
       "      <td>Large town</td>\n",
       "      <td>The middle class of society</td>\n",
       "      <td>9</td>\n",
       "      <td>16 Sep 21</td>\n",
       "      <td>13 - 16 h</td>\n",
       "      <td>2099</td>\n",
       "      <td>DK05 - Nordjylland</td>\n",
       "    </tr>\n",
       "    <tr>\n",
       "      <th>1</th>\n",
       "      <td>110005574</td>\n",
       "      <td>23</td>\n",
       "      <td>Medium</td>\n",
       "      <td>Very important</td>\n",
       "      <td>Use of personal data and information by compan...</td>\n",
       "      <td>Cyber-attacks and cybercrime such as theft or ...</td>\n",
       "      <td>Not mentioned</td>\n",
       "      <td>Not mentioned</td>\n",
       "      <td>Not mentioned</td>\n",
       "      <td>Not mentioned</td>\n",
       "      <td>...</td>\n",
       "      <td>Man</td>\n",
       "      <td>Student</td>\n",
       "      <td>Unskilled manual worker, etc.</td>\n",
       "      <td>Large town</td>\n",
       "      <td>The middle class of society</td>\n",
       "      <td>6</td>\n",
       "      <td>16 Sep 21</td>\n",
       "      <td>17 - 19 h</td>\n",
       "      <td>2784</td>\n",
       "      <td>DK05 - Nordjylland</td>\n",
       "    </tr>\n",
       "    <tr>\n",
       "      <th>2</th>\n",
       "      <td>110005575</td>\n",
       "      <td>53</td>\n",
       "      <td>Medium</td>\n",
       "      <td>Very important</td>\n",
       "      <td>Not mentioned</td>\n",
       "      <td>Cyber-attacks and cybercrime such as theft or ...</td>\n",
       "      <td>The difficulty of learning new digital skills ...</td>\n",
       "      <td>Not mentioned</td>\n",
       "      <td>Not mentioned</td>\n",
       "      <td>Not mentioned</td>\n",
       "      <td>...</td>\n",
       "      <td>Woman</td>\n",
       "      <td>Unskilled manual worker, etc.</td>\n",
       "      <td>Inap. (not 1 to 4 in d15a)</td>\n",
       "      <td>Rural area or village</td>\n",
       "      <td>The middle class of society</td>\n",
       "      <td>8</td>\n",
       "      <td>17 Sep 21</td>\n",
       "      <td>13 - 16 h</td>\n",
       "      <td>1738</td>\n",
       "      <td>DK02 - Sjaelland</td>\n",
       "    </tr>\n",
       "    <tr>\n",
       "      <th>3</th>\n",
       "      <td>110005576</td>\n",
       "      <td>70</td>\n",
       "      <td>Medium</td>\n",
       "      <td>Very important</td>\n",
       "      <td>Not mentioned</td>\n",
       "      <td>Cyber-attacks and cybercrime such as theft or ...</td>\n",
       "      <td>Not mentioned</td>\n",
       "      <td>The safety and well-being of children</td>\n",
       "      <td>The difficulty some people have accessing the ...</td>\n",
       "      <td>Not mentioned</td>\n",
       "      <td>...</td>\n",
       "      <td>Man</td>\n",
       "      <td>Retired, unable to work</td>\n",
       "      <td>Middle management, etc.</td>\n",
       "      <td>Rural area or village</td>\n",
       "      <td>The middle class of society</td>\n",
       "      <td>8</td>\n",
       "      <td>17 Sep 21</td>\n",
       "      <td>13 - 16 h</td>\n",
       "      <td>2759</td>\n",
       "      <td>DK02 - Sjaelland</td>\n",
       "    </tr>\n",
       "    <tr>\n",
       "      <th>4</th>\n",
       "      <td>110005577</td>\n",
       "      <td>71</td>\n",
       "      <td>Medium</td>\n",
       "      <td>Fairly important</td>\n",
       "      <td>Not mentioned</td>\n",
       "      <td>Not mentioned</td>\n",
       "      <td>Not mentioned</td>\n",
       "      <td>Not mentioned</td>\n",
       "      <td>Not mentioned</td>\n",
       "      <td>Not mentioned</td>\n",
       "      <td>...</td>\n",
       "      <td>Woman</td>\n",
       "      <td>Employed position, service job</td>\n",
       "      <td>Inap. (not 1 to 4 in d15a)</td>\n",
       "      <td>Small/middle town</td>\n",
       "      <td>The working class of society</td>\n",
       "      <td>5</td>\n",
       "      <td>17 Sep 21</td>\n",
       "      <td>8 - 12 h</td>\n",
       "      <td>1768</td>\n",
       "      <td>DK01 - Hovedstaden</td>\n",
       "    </tr>\n",
       "  </tbody>\n",
       "</table>\n",
       "<p>5 rows × 23 columns</p>\n",
       "</div>"
      ],
      "text/plain": [
       "      uniqid d11     polintr               qb1  \\\n",
       "0  110005573  71  Not at all  Fairly important   \n",
       "1  110005574  23      Medium    Very important   \n",
       "2  110005575  53      Medium    Very important   \n",
       "3  110005576  70      Medium    Very important   \n",
       "4  110005577  71      Medium  Fairly important   \n",
       "\n",
       "                                               qb3_1  \\\n",
       "0                                      Not mentioned   \n",
       "1  Use of personal data and information by compan...   \n",
       "2                                      Not mentioned   \n",
       "3                                      Not mentioned   \n",
       "4                                      Not mentioned   \n",
       "\n",
       "                                               qb3_2  \\\n",
       "0                                      Not mentioned   \n",
       "1  Cyber-attacks and cybercrime such as theft or ...   \n",
       "2  Cyber-attacks and cybercrime such as theft or ...   \n",
       "3  Cyber-attacks and cybercrime such as theft or ...   \n",
       "4                                      Not mentioned   \n",
       "\n",
       "                                               qb3_3  \\\n",
       "0                                      Not mentioned   \n",
       "1                                      Not mentioned   \n",
       "2  The difficulty of learning new digital skills ...   \n",
       "3                                      Not mentioned   \n",
       "4                                      Not mentioned   \n",
       "\n",
       "                                   qb3_4  \\\n",
       "0                          Not mentioned   \n",
       "1                          Not mentioned   \n",
       "2                          Not mentioned   \n",
       "3  The safety and well-being of children   \n",
       "4                          Not mentioned   \n",
       "\n",
       "                                               qb3_5          qb3_6  ...  \\\n",
       "0                                      Not mentioned  Not mentioned  ...   \n",
       "1                                      Not mentioned  Not mentioned  ...   \n",
       "2                                      Not mentioned  Not mentioned  ...   \n",
       "3  The difficulty some people have accessing the ...  Not mentioned  ...   \n",
       "4                                      Not mentioned  Not mentioned  ...   \n",
       "\n",
       "     d10                            d15a                           d15b  \\\n",
       "0    Man         Retired, unable to work        Middle management, etc.   \n",
       "1    Man                         Student  Unskilled manual worker, etc.   \n",
       "2  Woman   Unskilled manual worker, etc.     Inap. (not 1 to 4 in d15a)   \n",
       "3    Man         Retired, unable to work        Middle management, etc.   \n",
       "4  Woman  Employed position, service job     Inap. (not 1 to 4 in d15a)   \n",
       "\n",
       "                     d25                           d63 d1         p1  \\\n",
       "0             Large town   The middle class of society  9  16 Sep 21   \n",
       "1             Large town   The middle class of society  6  16 Sep 21   \n",
       "2  Rural area or village   The middle class of society  8  17 Sep 21   \n",
       "3  Rural area or village   The middle class of society  8  17 Sep 21   \n",
       "4      Small/middle town  The working class of society  5  17 Sep 21   \n",
       "\n",
       "          p2    p3      region_denmark  \n",
       "0  13 - 16 h  2099  DK05 - Nordjylland  \n",
       "1  17 - 19 h  2784  DK05 - Nordjylland  \n",
       "2  13 - 16 h  1738    DK02 - Sjaelland  \n",
       "3  13 - 16 h  2759    DK02 - Sjaelland  \n",
       "4   8 - 12 h  1768  DK01 - Hovedstaden  \n",
       "\n",
       "[5 rows x 23 columns]"
      ]
     },
     "execution_count": 96,
     "metadata": {},
     "output_type": "execute_result"
    }
   ],
   "source": [
    "eurob.head()"
   ]
  },
  {
   "cell_type": "markdown",
   "id": "c5dd2e92-0ef4-48a1-bea7-c0ef9f873cfb",
   "metadata": {},
   "source": [
    "Dataframes er et tabulært dataformat. Når en fil indlæses som en pandas dataframe, skal filen derfor være i et format, der kan konverteres til tabelformat (data i rækker og kolonner).\n",
    "\n",
    "I dette datasæt udgør observationerne (rækkerne) enkeltpersoner, som har besvaret spørgeskemaet. De enkelte kolonner indeholder oplysninger om de enkelte personer. "
   ]
  },
  {
   "cell_type": "markdown",
   "id": "5a120701-b054-4463-b933-b3ed5437cc46",
   "metadata": {},
   "source": [
    "### Kolonner/variable \n",
    "\n",
    "En dataframe består af en samling af kolonner. En kolonne i en dataframe kaldes en `series`.\n",
    "\n",
    "Navnene på kolonnerne, som en dataframe indeholder, kan ses af attributen `.columns`:"
   ]
  },
  {
   "cell_type": "code",
   "execution_count": 97,
   "id": "fc43052d-0f00-4440-ae4d-b9bc5e1c626f",
   "metadata": {},
   "outputs": [
    {
     "data": {
      "text/plain": [
       "Index(['uniqid', 'd11', 'polintr', 'qb1', 'qb3_1', 'qb3_2', 'qb3_3', 'qb3_4',\n",
       "       'qb3_5', 'qb3_6', 'qb3_7', 'd7r', 'd9b', 'd10', 'd15a', 'd15b', 'd25',\n",
       "       'd63', 'd1', 'p1', 'p2', 'p3', 'region_denmark'],\n",
       "      dtype='object')"
      ]
     },
     "execution_count": 97,
     "metadata": {},
     "output_type": "execute_result"
    }
   ],
   "source": [
    "eurob.columns"
   ]
  },
  {
   "cell_type": "markdown",
   "id": "5a799051-7004-4efe-be9b-fa90befbc811",
   "metadata": {},
   "source": [
    "## Inspicer variable\n",
    "\n",
    "En enkelt variabel/kolonne i datasættet referes til med `[]`:"
   ]
  },
  {
   "cell_type": "code",
   "execution_count": 98,
   "id": "aed06ab5-a402-4856-bc74-13f30f3b2716",
   "metadata": {},
   "outputs": [
    {
     "data": {
      "text/plain": [
       "0    Not at all\n",
       "1        Medium\n",
       "2        Medium\n",
       "3        Medium\n",
       "4        Medium\n",
       "Name: polintr, dtype: object"
      ]
     },
     "execution_count": 98,
     "metadata": {},
     "output_type": "execute_result"
    }
   ],
   "source": [
    "eurob['polintr'].head()"
   ]
  },
  {
   "cell_type": "markdown",
   "id": "b1a721d9-9ec0-4a16-b3d8-677918f3de99",
   "metadata": {},
   "source": [
    "Vi kan bruge en metode som `.value_counts()` til at optælle værdierne inden for én kolonne:"
   ]
  },
  {
   "cell_type": "code",
   "execution_count": 99,
   "id": "4326db6c-9cf9-4dda-adf0-2cff6fabd910",
   "metadata": {},
   "outputs": [
    {
     "data": {
      "text/plain": [
       "Medium        508\n",
       "Strong        234\n",
       "Low           159\n",
       "Not at all     92\n",
       "Name: polintr, dtype: int64"
      ]
     },
     "execution_count": 99,
     "metadata": {},
     "output_type": "execute_result"
    }
   ],
   "source": [
    "eurob['polintr'].value_counts()"
   ]
  },
  {
   "cell_type": "markdown",
   "id": "f976f5f9-23ea-4222-85d8-27880095cf2b",
   "metadata": {
    "jp-MarkdownHeadingCollapsed": true,
    "tags": []
   },
   "source": [
    "# Basal datahåndtering i pandas (live coding)"
   ]
  },
  {
   "cell_type": "markdown",
   "id": "2a246e5f-1cf8-4c08-8256-150ad31cf661",
   "metadata": {},
   "source": [
    "## Subsetting\n",
    "\n",
    "\"Subsetting\" vil sige at udvælge specifikke dele af data.\n",
    "\n",
    "Man subsetter pandas med metoderne `.loc()` og `.iloc()`. `.loc()` bruges til at subsette ud fra række- og kolonnenavne, mens `.iloc()` bruges til at subsette ud fra række- og kolnneindeks.\n",
    "\n",
    "Format for subsetting: `data.loc[rækker, kolonner]`\n",
    "\n",
    "Selekter bestemte rækker:"
   ]
  },
  {
   "cell_type": "code",
   "execution_count": 100,
   "id": "16f802e3-89d7-4549-93ff-0e680bf6f64d",
   "metadata": {},
   "outputs": [
    {
     "data": {
      "text/html": [
       "<div>\n",
       "<style scoped>\n",
       "    .dataframe tbody tr th:only-of-type {\n",
       "        vertical-align: middle;\n",
       "    }\n",
       "\n",
       "    .dataframe tbody tr th {\n",
       "        vertical-align: top;\n",
       "    }\n",
       "\n",
       "    .dataframe thead th {\n",
       "        text-align: right;\n",
       "    }\n",
       "</style>\n",
       "<table border=\"1\" class=\"dataframe\">\n",
       "  <thead>\n",
       "    <tr style=\"text-align: right;\">\n",
       "      <th></th>\n",
       "      <th>uniqid</th>\n",
       "      <th>d11</th>\n",
       "      <th>polintr</th>\n",
       "      <th>qb1</th>\n",
       "      <th>qb3_1</th>\n",
       "      <th>qb3_2</th>\n",
       "      <th>qb3_3</th>\n",
       "      <th>qb3_4</th>\n",
       "      <th>qb3_5</th>\n",
       "      <th>qb3_6</th>\n",
       "      <th>...</th>\n",
       "      <th>d10</th>\n",
       "      <th>d15a</th>\n",
       "      <th>d15b</th>\n",
       "      <th>d25</th>\n",
       "      <th>d63</th>\n",
       "      <th>d1</th>\n",
       "      <th>p1</th>\n",
       "      <th>p2</th>\n",
       "      <th>p3</th>\n",
       "      <th>region_denmark</th>\n",
       "    </tr>\n",
       "  </thead>\n",
       "  <tbody>\n",
       "    <tr>\n",
       "      <th>2</th>\n",
       "      <td>110005575</td>\n",
       "      <td>53</td>\n",
       "      <td>Medium</td>\n",
       "      <td>Very important</td>\n",
       "      <td>Not mentioned</td>\n",
       "      <td>Cyber-attacks and cybercrime such as theft or ...</td>\n",
       "      <td>The difficulty of learning new digital skills ...</td>\n",
       "      <td>Not mentioned</td>\n",
       "      <td>Not mentioned</td>\n",
       "      <td>Not mentioned</td>\n",
       "      <td>...</td>\n",
       "      <td>Woman</td>\n",
       "      <td>Unskilled manual worker, etc.</td>\n",
       "      <td>Inap. (not 1 to 4 in d15a)</td>\n",
       "      <td>Rural area or village</td>\n",
       "      <td>The middle class of society</td>\n",
       "      <td>8</td>\n",
       "      <td>17 Sep 21</td>\n",
       "      <td>13 - 16 h</td>\n",
       "      <td>1738</td>\n",
       "      <td>DK02 - Sjaelland</td>\n",
       "    </tr>\n",
       "    <tr>\n",
       "      <th>3</th>\n",
       "      <td>110005576</td>\n",
       "      <td>70</td>\n",
       "      <td>Medium</td>\n",
       "      <td>Very important</td>\n",
       "      <td>Not mentioned</td>\n",
       "      <td>Cyber-attacks and cybercrime such as theft or ...</td>\n",
       "      <td>Not mentioned</td>\n",
       "      <td>The safety and well-being of children</td>\n",
       "      <td>The difficulty some people have accessing the ...</td>\n",
       "      <td>Not mentioned</td>\n",
       "      <td>...</td>\n",
       "      <td>Man</td>\n",
       "      <td>Retired, unable to work</td>\n",
       "      <td>Middle management, etc.</td>\n",
       "      <td>Rural area or village</td>\n",
       "      <td>The middle class of society</td>\n",
       "      <td>8</td>\n",
       "      <td>17 Sep 21</td>\n",
       "      <td>13 - 16 h</td>\n",
       "      <td>2759</td>\n",
       "      <td>DK02 - Sjaelland</td>\n",
       "    </tr>\n",
       "    <tr>\n",
       "      <th>4</th>\n",
       "      <td>110005577</td>\n",
       "      <td>71</td>\n",
       "      <td>Medium</td>\n",
       "      <td>Fairly important</td>\n",
       "      <td>Not mentioned</td>\n",
       "      <td>Not mentioned</td>\n",
       "      <td>Not mentioned</td>\n",
       "      <td>Not mentioned</td>\n",
       "      <td>Not mentioned</td>\n",
       "      <td>Not mentioned</td>\n",
       "      <td>...</td>\n",
       "      <td>Woman</td>\n",
       "      <td>Employed position, service job</td>\n",
       "      <td>Inap. (not 1 to 4 in d15a)</td>\n",
       "      <td>Small/middle town</td>\n",
       "      <td>The working class of society</td>\n",
       "      <td>5</td>\n",
       "      <td>17 Sep 21</td>\n",
       "      <td>8 - 12 h</td>\n",
       "      <td>1768</td>\n",
       "      <td>DK01 - Hovedstaden</td>\n",
       "    </tr>\n",
       "    <tr>\n",
       "      <th>5</th>\n",
       "      <td>110005578</td>\n",
       "      <td>66</td>\n",
       "      <td>Medium</td>\n",
       "      <td>Very important</td>\n",
       "      <td>Not mentioned</td>\n",
       "      <td>Cyber-attacks and cybercrime such as theft or ...</td>\n",
       "      <td>The difficulty of learning new digital skills ...</td>\n",
       "      <td>The safety and well-being of children</td>\n",
       "      <td>The difficulty some people have accessing the ...</td>\n",
       "      <td>Not mentioned</td>\n",
       "      <td>...</td>\n",
       "      <td>Woman</td>\n",
       "      <td>Retired, unable to work</td>\n",
       "      <td>Skilled manual worker</td>\n",
       "      <td>Small/middle town</td>\n",
       "      <td>The working class of society</td>\n",
       "      <td>5</td>\n",
       "      <td>17 Sep 21</td>\n",
       "      <td>8 - 12 h</td>\n",
       "      <td>3415</td>\n",
       "      <td>DK05 - Nordjylland</td>\n",
       "    </tr>\n",
       "    <tr>\n",
       "      <th>6</th>\n",
       "      <td>110005579</td>\n",
       "      <td>85</td>\n",
       "      <td>Medium</td>\n",
       "      <td>Not at all important</td>\n",
       "      <td>Not mentioned</td>\n",
       "      <td>Not mentioned</td>\n",
       "      <td>Not mentioned</td>\n",
       "      <td>Not mentioned</td>\n",
       "      <td>Not mentioned</td>\n",
       "      <td>The difficulty of disconnecting and finding a ...</td>\n",
       "      <td>...</td>\n",
       "      <td>Man</td>\n",
       "      <td>Retired, unable to work</td>\n",
       "      <td>Skilled manual worker</td>\n",
       "      <td>Rural area or village</td>\n",
       "      <td>The working class of society</td>\n",
       "      <td>3</td>\n",
       "      <td>17 Sep 21</td>\n",
       "      <td>8 - 12 h</td>\n",
       "      <td>2578</td>\n",
       "      <td>DK05 - Nordjylland</td>\n",
       "    </tr>\n",
       "    <tr>\n",
       "      <th>7</th>\n",
       "      <td>110005580</td>\n",
       "      <td>60</td>\n",
       "      <td>Strong</td>\n",
       "      <td>Fairly important</td>\n",
       "      <td>Not mentioned</td>\n",
       "      <td>Cyber-attacks and cybercrime such as theft or ...</td>\n",
       "      <td>The difficulty of learning new digital skills ...</td>\n",
       "      <td>Not mentioned</td>\n",
       "      <td>The difficulty some people have accessing the ...</td>\n",
       "      <td>The difficulty of disconnecting and finding a ...</td>\n",
       "      <td>...</td>\n",
       "      <td>Man</td>\n",
       "      <td>Skilled manual worker</td>\n",
       "      <td>Inap. (not 1 to 4 in d15a)</td>\n",
       "      <td>Rural area or village</td>\n",
       "      <td>The working class of society</td>\n",
       "      <td>6</td>\n",
       "      <td>17 Sep 21</td>\n",
       "      <td>8 - 12 h</td>\n",
       "      <td>2376</td>\n",
       "      <td>DK05 - Nordjylland</td>\n",
       "    </tr>\n",
       "    <tr>\n",
       "      <th>8</th>\n",
       "      <td>110005581</td>\n",
       "      <td>64</td>\n",
       "      <td>Medium</td>\n",
       "      <td>Very important</td>\n",
       "      <td>Use of personal data and information by compan...</td>\n",
       "      <td>Cyber-attacks and cybercrime such as theft or ...</td>\n",
       "      <td>Not mentioned</td>\n",
       "      <td>Not mentioned</td>\n",
       "      <td>Not mentioned</td>\n",
       "      <td>Not mentioned</td>\n",
       "      <td>...</td>\n",
       "      <td>Man</td>\n",
       "      <td>Retired, unable to work</td>\n",
       "      <td>Employed professional (employed doctor, etc.)</td>\n",
       "      <td>Rural area or village</td>\n",
       "      <td>The middle class of society</td>\n",
       "      <td>4</td>\n",
       "      <td>17 Sep 21</td>\n",
       "      <td>13 - 16 h</td>\n",
       "      <td>3461</td>\n",
       "      <td>DK05 - Nordjylland</td>\n",
       "    </tr>\n",
       "    <tr>\n",
       "      <th>9</th>\n",
       "      <td>110005582</td>\n",
       "      <td>77</td>\n",
       "      <td>Not at all</td>\n",
       "      <td>Not at all important</td>\n",
       "      <td>Not mentioned</td>\n",
       "      <td>Not mentioned</td>\n",
       "      <td>Not mentioned</td>\n",
       "      <td>The safety and well-being of children</td>\n",
       "      <td>The difficulty some people have accessing the ...</td>\n",
       "      <td>Not mentioned</td>\n",
       "      <td>...</td>\n",
       "      <td>Woman</td>\n",
       "      <td>Retired, unable to work</td>\n",
       "      <td>Skilled manual worker</td>\n",
       "      <td>Large town</td>\n",
       "      <td>The lower middle class of society</td>\n",
       "      <td>4</td>\n",
       "      <td>17 Sep 21</td>\n",
       "      <td>13 - 16 h</td>\n",
       "      <td>2248</td>\n",
       "      <td>DK03 - Syddanmark</td>\n",
       "    </tr>\n",
       "    <tr>\n",
       "      <th>10</th>\n",
       "      <td>110005583</td>\n",
       "      <td>91</td>\n",
       "      <td>Low</td>\n",
       "      <td>Don't know (SPONTANEOUS)</td>\n",
       "      <td>Not mentioned</td>\n",
       "      <td>Not mentioned</td>\n",
       "      <td>Not mentioned</td>\n",
       "      <td>Not mentioned</td>\n",
       "      <td>Not mentioned</td>\n",
       "      <td>Not mentioned</td>\n",
       "      <td>...</td>\n",
       "      <td>Man</td>\n",
       "      <td>Retired, unable to work</td>\n",
       "      <td>Employed position, travelling</td>\n",
       "      <td>Large town</td>\n",
       "      <td>The working class of society</td>\n",
       "      <td>5</td>\n",
       "      <td>17 Sep 21</td>\n",
       "      <td>13 - 16 h</td>\n",
       "      <td>2636</td>\n",
       "      <td>DK05 - Nordjylland</td>\n",
       "    </tr>\n",
       "  </tbody>\n",
       "</table>\n",
       "<p>9 rows × 23 columns</p>\n",
       "</div>"
      ],
      "text/plain": [
       "       uniqid d11     polintr                       qb1  \\\n",
       "2   110005575  53      Medium            Very important   \n",
       "3   110005576  70      Medium            Very important   \n",
       "4   110005577  71      Medium          Fairly important   \n",
       "5   110005578  66      Medium            Very important   \n",
       "6   110005579  85      Medium      Not at all important   \n",
       "7   110005580  60      Strong          Fairly important   \n",
       "8   110005581  64      Medium            Very important   \n",
       "9   110005582  77  Not at all      Not at all important   \n",
       "10  110005583  91         Low  Don't know (SPONTANEOUS)   \n",
       "\n",
       "                                                qb3_1  \\\n",
       "2                                       Not mentioned   \n",
       "3                                       Not mentioned   \n",
       "4                                       Not mentioned   \n",
       "5                                       Not mentioned   \n",
       "6                                       Not mentioned   \n",
       "7                                       Not mentioned   \n",
       "8   Use of personal data and information by compan...   \n",
       "9                                       Not mentioned   \n",
       "10                                      Not mentioned   \n",
       "\n",
       "                                                qb3_2  \\\n",
       "2   Cyber-attacks and cybercrime such as theft or ...   \n",
       "3   Cyber-attacks and cybercrime such as theft or ...   \n",
       "4                                       Not mentioned   \n",
       "5   Cyber-attacks and cybercrime such as theft or ...   \n",
       "6                                       Not mentioned   \n",
       "7   Cyber-attacks and cybercrime such as theft or ...   \n",
       "8   Cyber-attacks and cybercrime such as theft or ...   \n",
       "9                                       Not mentioned   \n",
       "10                                      Not mentioned   \n",
       "\n",
       "                                                qb3_3  \\\n",
       "2   The difficulty of learning new digital skills ...   \n",
       "3                                       Not mentioned   \n",
       "4                                       Not mentioned   \n",
       "5   The difficulty of learning new digital skills ...   \n",
       "6                                       Not mentioned   \n",
       "7   The difficulty of learning new digital skills ...   \n",
       "8                                       Not mentioned   \n",
       "9                                       Not mentioned   \n",
       "10                                      Not mentioned   \n",
       "\n",
       "                                    qb3_4  \\\n",
       "2                           Not mentioned   \n",
       "3   The safety and well-being of children   \n",
       "4                           Not mentioned   \n",
       "5   The safety and well-being of children   \n",
       "6                           Not mentioned   \n",
       "7                           Not mentioned   \n",
       "8                           Not mentioned   \n",
       "9   The safety and well-being of children   \n",
       "10                          Not mentioned   \n",
       "\n",
       "                                                qb3_5  \\\n",
       "2                                       Not mentioned   \n",
       "3   The difficulty some people have accessing the ...   \n",
       "4                                       Not mentioned   \n",
       "5   The difficulty some people have accessing the ...   \n",
       "6                                       Not mentioned   \n",
       "7   The difficulty some people have accessing the ...   \n",
       "8                                       Not mentioned   \n",
       "9   The difficulty some people have accessing the ...   \n",
       "10                                      Not mentioned   \n",
       "\n",
       "                                                qb3_6  ...    d10  \\\n",
       "2                                       Not mentioned  ...  Woman   \n",
       "3                                       Not mentioned  ...    Man   \n",
       "4                                       Not mentioned  ...  Woman   \n",
       "5                                       Not mentioned  ...  Woman   \n",
       "6   The difficulty of disconnecting and finding a ...  ...    Man   \n",
       "7   The difficulty of disconnecting and finding a ...  ...    Man   \n",
       "8                                       Not mentioned  ...    Man   \n",
       "9                                       Not mentioned  ...  Woman   \n",
       "10                                      Not mentioned  ...    Man   \n",
       "\n",
       "                              d15a  \\\n",
       "2    Unskilled manual worker, etc.   \n",
       "3          Retired, unable to work   \n",
       "4   Employed position, service job   \n",
       "5          Retired, unable to work   \n",
       "6          Retired, unable to work   \n",
       "7            Skilled manual worker   \n",
       "8          Retired, unable to work   \n",
       "9          Retired, unable to work   \n",
       "10         Retired, unable to work   \n",
       "\n",
       "                                             d15b                    d25  \\\n",
       "2                      Inap. (not 1 to 4 in d15a)  Rural area or village   \n",
       "3                         Middle management, etc.  Rural area or village   \n",
       "4                      Inap. (not 1 to 4 in d15a)      Small/middle town   \n",
       "5                           Skilled manual worker      Small/middle town   \n",
       "6                           Skilled manual worker  Rural area or village   \n",
       "7                      Inap. (not 1 to 4 in d15a)  Rural area or village   \n",
       "8   Employed professional (employed doctor, etc.)  Rural area or village   \n",
       "9                           Skilled manual worker             Large town   \n",
       "10                  Employed position, travelling             Large town   \n",
       "\n",
       "                                  d63 d1         p1         p2    p3  \\\n",
       "2         The middle class of society  8  17 Sep 21  13 - 16 h  1738   \n",
       "3         The middle class of society  8  17 Sep 21  13 - 16 h  2759   \n",
       "4        The working class of society  5  17 Sep 21   8 - 12 h  1768   \n",
       "5        The working class of society  5  17 Sep 21   8 - 12 h  3415   \n",
       "6        The working class of society  3  17 Sep 21   8 - 12 h  2578   \n",
       "7        The working class of society  6  17 Sep 21   8 - 12 h  2376   \n",
       "8         The middle class of society  4  17 Sep 21  13 - 16 h  3461   \n",
       "9   The lower middle class of society  4  17 Sep 21  13 - 16 h  2248   \n",
       "10       The working class of society  5  17 Sep 21  13 - 16 h  2636   \n",
       "\n",
       "        region_denmark  \n",
       "2     DK02 - Sjaelland  \n",
       "3     DK02 - Sjaelland  \n",
       "4   DK01 - Hovedstaden  \n",
       "5   DK05 - Nordjylland  \n",
       "6   DK05 - Nordjylland  \n",
       "7   DK05 - Nordjylland  \n",
       "8   DK05 - Nordjylland  \n",
       "9    DK03 - Syddanmark  \n",
       "10  DK05 - Nordjylland  \n",
       "\n",
       "[9 rows x 23 columns]"
      ]
     },
     "execution_count": 100,
     "metadata": {},
     "output_type": "execute_result"
    }
   ],
   "source": [
    "eurob.loc[2:10, :]"
   ]
  },
  {
   "cell_type": "markdown",
   "id": "f58135d2-9291-4bd9-8cdc-65099e5f1144",
   "metadata": {},
   "source": [
    "Selekter bestemte kolonner (specificeres som en liste):"
   ]
  },
  {
   "cell_type": "code",
   "execution_count": 101,
   "id": "7fd57453-1ace-4bb5-887f-572139de97d4",
   "metadata": {},
   "outputs": [
    {
     "data": {
      "text/html": [
       "<div>\n",
       "<style scoped>\n",
       "    .dataframe tbody tr th:only-of-type {\n",
       "        vertical-align: middle;\n",
       "    }\n",
       "\n",
       "    .dataframe tbody tr th {\n",
       "        vertical-align: top;\n",
       "    }\n",
       "\n",
       "    .dataframe thead th {\n",
       "        text-align: right;\n",
       "    }\n",
       "</style>\n",
       "<table border=\"1\" class=\"dataframe\">\n",
       "  <thead>\n",
       "    <tr style=\"text-align: right;\">\n",
       "      <th></th>\n",
       "      <th>d10</th>\n",
       "      <th>polintr</th>\n",
       "    </tr>\n",
       "  </thead>\n",
       "  <tbody>\n",
       "    <tr>\n",
       "      <th>0</th>\n",
       "      <td>Man</td>\n",
       "      <td>Not at all</td>\n",
       "    </tr>\n",
       "    <tr>\n",
       "      <th>1</th>\n",
       "      <td>Man</td>\n",
       "      <td>Medium</td>\n",
       "    </tr>\n",
       "    <tr>\n",
       "      <th>2</th>\n",
       "      <td>Woman</td>\n",
       "      <td>Medium</td>\n",
       "    </tr>\n",
       "    <tr>\n",
       "      <th>3</th>\n",
       "      <td>Man</td>\n",
       "      <td>Medium</td>\n",
       "    </tr>\n",
       "    <tr>\n",
       "      <th>4</th>\n",
       "      <td>Woman</td>\n",
       "      <td>Medium</td>\n",
       "    </tr>\n",
       "  </tbody>\n",
       "</table>\n",
       "</div>"
      ],
      "text/plain": [
       "     d10     polintr\n",
       "0    Man  Not at all\n",
       "1    Man      Medium\n",
       "2  Woman      Medium\n",
       "3    Man      Medium\n",
       "4  Woman      Medium"
      ]
     },
     "execution_count": 101,
     "metadata": {},
     "output_type": "execute_result"
    }
   ],
   "source": [
    "eurob.loc[:, ['d10', 'polintr']].head()"
   ]
  },
  {
   "cell_type": "markdown",
   "id": "05b51168-eae9-4511-850a-26e2e283f0f0",
   "metadata": {},
   "source": [
    "Selekter bestemte rækker og kolonner:"
   ]
  },
  {
   "cell_type": "code",
   "execution_count": 102,
   "id": "67cc3d61-3d5e-49ca-8507-f808223c233d",
   "metadata": {},
   "outputs": [
    {
     "data": {
      "text/html": [
       "<div>\n",
       "<style scoped>\n",
       "    .dataframe tbody tr th:only-of-type {\n",
       "        vertical-align: middle;\n",
       "    }\n",
       "\n",
       "    .dataframe tbody tr th {\n",
       "        vertical-align: top;\n",
       "    }\n",
       "\n",
       "    .dataframe thead th {\n",
       "        text-align: right;\n",
       "    }\n",
       "</style>\n",
       "<table border=\"1\" class=\"dataframe\">\n",
       "  <thead>\n",
       "    <tr style=\"text-align: right;\">\n",
       "      <th></th>\n",
       "      <th>d10</th>\n",
       "      <th>polintr</th>\n",
       "    </tr>\n",
       "  </thead>\n",
       "  <tbody>\n",
       "    <tr>\n",
       "      <th>2</th>\n",
       "      <td>Woman</td>\n",
       "      <td>Medium</td>\n",
       "    </tr>\n",
       "    <tr>\n",
       "      <th>3</th>\n",
       "      <td>Man</td>\n",
       "      <td>Medium</td>\n",
       "    </tr>\n",
       "    <tr>\n",
       "      <th>4</th>\n",
       "      <td>Woman</td>\n",
       "      <td>Medium</td>\n",
       "    </tr>\n",
       "    <tr>\n",
       "      <th>5</th>\n",
       "      <td>Woman</td>\n",
       "      <td>Medium</td>\n",
       "    </tr>\n",
       "    <tr>\n",
       "      <th>6</th>\n",
       "      <td>Man</td>\n",
       "      <td>Medium</td>\n",
       "    </tr>\n",
       "    <tr>\n",
       "      <th>7</th>\n",
       "      <td>Man</td>\n",
       "      <td>Strong</td>\n",
       "    </tr>\n",
       "    <tr>\n",
       "      <th>8</th>\n",
       "      <td>Man</td>\n",
       "      <td>Medium</td>\n",
       "    </tr>\n",
       "    <tr>\n",
       "      <th>9</th>\n",
       "      <td>Woman</td>\n",
       "      <td>Not at all</td>\n",
       "    </tr>\n",
       "    <tr>\n",
       "      <th>10</th>\n",
       "      <td>Man</td>\n",
       "      <td>Low</td>\n",
       "    </tr>\n",
       "  </tbody>\n",
       "</table>\n",
       "</div>"
      ],
      "text/plain": [
       "      d10     polintr\n",
       "2   Woman      Medium\n",
       "3     Man      Medium\n",
       "4   Woman      Medium\n",
       "5   Woman      Medium\n",
       "6     Man      Medium\n",
       "7     Man      Strong\n",
       "8     Man      Medium\n",
       "9   Woman  Not at all\n",
       "10    Man         Low"
      ]
     },
     "execution_count": 102,
     "metadata": {},
     "output_type": "execute_result"
    }
   ],
   "source": [
    "eurob.loc[2:10, ['d10', 'polintr']]"
   ]
  },
  {
   "cell_type": "markdown",
   "id": "14ee300d-9e07-4c56-946c-da58a276ab36",
   "metadata": {},
   "source": [
    "Selekter ud fra kolonneindeks:"
   ]
  },
  {
   "cell_type": "code",
   "execution_count": 103,
   "id": "353a224d-6c11-42ac-b911-367f68984174",
   "metadata": {},
   "outputs": [
    {
     "data": {
      "text/html": [
       "<div>\n",
       "<style scoped>\n",
       "    .dataframe tbody tr th:only-of-type {\n",
       "        vertical-align: middle;\n",
       "    }\n",
       "\n",
       "    .dataframe tbody tr th {\n",
       "        vertical-align: top;\n",
       "    }\n",
       "\n",
       "    .dataframe thead th {\n",
       "        text-align: right;\n",
       "    }\n",
       "</style>\n",
       "<table border=\"1\" class=\"dataframe\">\n",
       "  <thead>\n",
       "    <tr style=\"text-align: right;\">\n",
       "      <th></th>\n",
       "      <th>qb3_5</th>\n",
       "      <th>qb3_2</th>\n",
       "    </tr>\n",
       "  </thead>\n",
       "  <tbody>\n",
       "    <tr>\n",
       "      <th>2</th>\n",
       "      <td>Not mentioned</td>\n",
       "      <td>Cyber-attacks and cybercrime such as theft or ...</td>\n",
       "    </tr>\n",
       "    <tr>\n",
       "      <th>3</th>\n",
       "      <td>The difficulty some people have accessing the ...</td>\n",
       "      <td>Cyber-attacks and cybercrime such as theft or ...</td>\n",
       "    </tr>\n",
       "    <tr>\n",
       "      <th>4</th>\n",
       "      <td>Not mentioned</td>\n",
       "      <td>Not mentioned</td>\n",
       "    </tr>\n",
       "    <tr>\n",
       "      <th>5</th>\n",
       "      <td>The difficulty some people have accessing the ...</td>\n",
       "      <td>Cyber-attacks and cybercrime such as theft or ...</td>\n",
       "    </tr>\n",
       "    <tr>\n",
       "      <th>6</th>\n",
       "      <td>Not mentioned</td>\n",
       "      <td>Not mentioned</td>\n",
       "    </tr>\n",
       "    <tr>\n",
       "      <th>7</th>\n",
       "      <td>The difficulty some people have accessing the ...</td>\n",
       "      <td>Cyber-attacks and cybercrime such as theft or ...</td>\n",
       "    </tr>\n",
       "    <tr>\n",
       "      <th>8</th>\n",
       "      <td>Not mentioned</td>\n",
       "      <td>Cyber-attacks and cybercrime such as theft or ...</td>\n",
       "    </tr>\n",
       "    <tr>\n",
       "      <th>9</th>\n",
       "      <td>The difficulty some people have accessing the ...</td>\n",
       "      <td>Not mentioned</td>\n",
       "    </tr>\n",
       "  </tbody>\n",
       "</table>\n",
       "</div>"
      ],
      "text/plain": [
       "                                               qb3_5  \\\n",
       "2                                      Not mentioned   \n",
       "3  The difficulty some people have accessing the ...   \n",
       "4                                      Not mentioned   \n",
       "5  The difficulty some people have accessing the ...   \n",
       "6                                      Not mentioned   \n",
       "7  The difficulty some people have accessing the ...   \n",
       "8                                      Not mentioned   \n",
       "9  The difficulty some people have accessing the ...   \n",
       "\n",
       "                                               qb3_2  \n",
       "2  Cyber-attacks and cybercrime such as theft or ...  \n",
       "3  Cyber-attacks and cybercrime such as theft or ...  \n",
       "4                                      Not mentioned  \n",
       "5  Cyber-attacks and cybercrime such as theft or ...  \n",
       "6                                      Not mentioned  \n",
       "7  Cyber-attacks and cybercrime such as theft or ...  \n",
       "8  Cyber-attacks and cybercrime such as theft or ...  \n",
       "9                                      Not mentioned  "
      ]
     },
     "execution_count": 103,
     "metadata": {},
     "output_type": "execute_result"
    }
   ],
   "source": [
    "eurob.iloc[2:10, [8, 5]]"
   ]
  },
  {
   "cell_type": "markdown",
   "id": "734d34ae-0e06-4de2-a2e6-a578f9e9b42d",
   "metadata": {},
   "source": [
    "### Dan subset\n",
    "\n",
    "Bemærk at datasæt ikke ændres. Hvis subset skal gemmes, skal det gemmes i et nyt objekt (ny dataframe):"
   ]
  },
  {
   "cell_type": "code",
   "execution_count": 104,
   "id": "81b812cc-6981-43e6-afbe-884d5931b39b",
   "metadata": {},
   "outputs": [
    {
     "data": {
      "text/html": [
       "<div>\n",
       "<style scoped>\n",
       "    .dataframe tbody tr th:only-of-type {\n",
       "        vertical-align: middle;\n",
       "    }\n",
       "\n",
       "    .dataframe tbody tr th {\n",
       "        vertical-align: top;\n",
       "    }\n",
       "\n",
       "    .dataframe thead th {\n",
       "        text-align: right;\n",
       "    }\n",
       "</style>\n",
       "<table border=\"1\" class=\"dataframe\">\n",
       "  <thead>\n",
       "    <tr style=\"text-align: right;\">\n",
       "      <th></th>\n",
       "      <th>d10</th>\n",
       "      <th>polintr</th>\n",
       "    </tr>\n",
       "  </thead>\n",
       "  <tbody>\n",
       "    <tr>\n",
       "      <th>2</th>\n",
       "      <td>Woman</td>\n",
       "      <td>Medium</td>\n",
       "    </tr>\n",
       "    <tr>\n",
       "      <th>3</th>\n",
       "      <td>Man</td>\n",
       "      <td>Medium</td>\n",
       "    </tr>\n",
       "    <tr>\n",
       "      <th>4</th>\n",
       "      <td>Woman</td>\n",
       "      <td>Medium</td>\n",
       "    </tr>\n",
       "    <tr>\n",
       "      <th>5</th>\n",
       "      <td>Woman</td>\n",
       "      <td>Medium</td>\n",
       "    </tr>\n",
       "    <tr>\n",
       "      <th>6</th>\n",
       "      <td>Man</td>\n",
       "      <td>Medium</td>\n",
       "    </tr>\n",
       "  </tbody>\n",
       "</table>\n",
       "</div>"
      ],
      "text/plain": [
       "     d10 polintr\n",
       "2  Woman  Medium\n",
       "3    Man  Medium\n",
       "4  Woman  Medium\n",
       "5  Woman  Medium\n",
       "6    Man  Medium"
      ]
     },
     "execution_count": 104,
     "metadata": {},
     "output_type": "execute_result"
    }
   ],
   "source": [
    "eurob_subset = eurob.loc[2:10, ['d10', 'polintr']]\n",
    "\n",
    "eurob_subset.head()"
   ]
  },
  {
   "cell_type": "markdown",
   "id": "e5d2d12c-aa36-4b3a-8a47-a51c4af23086",
   "metadata": {},
   "source": [
    "### Subsetting med booleans (logiske værdier)\n",
    "\n",
    "I stedet for at specificere indeksnumrene, kan man i stedet specificere betingelser:"
   ]
  },
  {
   "cell_type": "code",
   "execution_count": 107,
   "id": "4efb27f9-62dc-44d3-8da5-0a551cf221ee",
   "metadata": {},
   "outputs": [
    {
     "data": {
      "text/html": [
       "<div>\n",
       "<style scoped>\n",
       "    .dataframe tbody tr th:only-of-type {\n",
       "        vertical-align: middle;\n",
       "    }\n",
       "\n",
       "    .dataframe tbody tr th {\n",
       "        vertical-align: top;\n",
       "    }\n",
       "\n",
       "    .dataframe thead th {\n",
       "        text-align: right;\n",
       "    }\n",
       "</style>\n",
       "<table border=\"1\" class=\"dataframe\">\n",
       "  <thead>\n",
       "    <tr style=\"text-align: right;\">\n",
       "      <th></th>\n",
       "      <th>uniqid</th>\n",
       "      <th>d11</th>\n",
       "      <th>polintr</th>\n",
       "      <th>qb1</th>\n",
       "      <th>qb3_1</th>\n",
       "      <th>qb3_2</th>\n",
       "      <th>qb3_3</th>\n",
       "      <th>qb3_4</th>\n",
       "      <th>qb3_5</th>\n",
       "      <th>qb3_6</th>\n",
       "      <th>...</th>\n",
       "      <th>d10</th>\n",
       "      <th>d15a</th>\n",
       "      <th>d15b</th>\n",
       "      <th>d25</th>\n",
       "      <th>d63</th>\n",
       "      <th>d1</th>\n",
       "      <th>p1</th>\n",
       "      <th>p2</th>\n",
       "      <th>p3</th>\n",
       "      <th>region_denmark</th>\n",
       "    </tr>\n",
       "  </thead>\n",
       "  <tbody>\n",
       "    <tr>\n",
       "      <th>10</th>\n",
       "      <td>110005583</td>\n",
       "      <td>91</td>\n",
       "      <td>Low</td>\n",
       "      <td>Don't know (SPONTANEOUS)</td>\n",
       "      <td>Not mentioned</td>\n",
       "      <td>Not mentioned</td>\n",
       "      <td>Not mentioned</td>\n",
       "      <td>Not mentioned</td>\n",
       "      <td>Not mentioned</td>\n",
       "      <td>Not mentioned</td>\n",
       "      <td>...</td>\n",
       "      <td>Man</td>\n",
       "      <td>Retired, unable to work</td>\n",
       "      <td>Employed position, travelling</td>\n",
       "      <td>Large town</td>\n",
       "      <td>The working class of society</td>\n",
       "      <td>5</td>\n",
       "      <td>17 Sep 21</td>\n",
       "      <td>13 - 16 h</td>\n",
       "      <td>2636</td>\n",
       "      <td>DK05 - Nordjylland</td>\n",
       "    </tr>\n",
       "    <tr>\n",
       "      <th>19</th>\n",
       "      <td>110005592</td>\n",
       "      <td>18</td>\n",
       "      <td>Low</td>\n",
       "      <td>Very important</td>\n",
       "      <td>Use of personal data and information by compan...</td>\n",
       "      <td>Not mentioned</td>\n",
       "      <td>Not mentioned</td>\n",
       "      <td>The safety and well-being of children</td>\n",
       "      <td>Not mentioned</td>\n",
       "      <td>The difficulty of disconnecting and finding a ...</td>\n",
       "      <td>...</td>\n",
       "      <td>Woman</td>\n",
       "      <td>Student</td>\n",
       "      <td>Unskilled manual worker, etc.</td>\n",
       "      <td>Rural area or village</td>\n",
       "      <td>The middle class of society</td>\n",
       "      <td>3</td>\n",
       "      <td>17 Sep 21</td>\n",
       "      <td>13 - 16 h</td>\n",
       "      <td>3252</td>\n",
       "      <td>DK04 - Midtjylland</td>\n",
       "    </tr>\n",
       "    <tr>\n",
       "      <th>24</th>\n",
       "      <td>110005597</td>\n",
       "      <td>66</td>\n",
       "      <td>Low</td>\n",
       "      <td>Not very important</td>\n",
       "      <td>Not mentioned</td>\n",
       "      <td>Not mentioned</td>\n",
       "      <td>Not mentioned</td>\n",
       "      <td>The safety and well-being of children</td>\n",
       "      <td>Not mentioned</td>\n",
       "      <td>Not mentioned</td>\n",
       "      <td>...</td>\n",
       "      <td>Woman</td>\n",
       "      <td>Retired, unable to work</td>\n",
       "      <td>Skilled manual worker</td>\n",
       "      <td>Rural area or village</td>\n",
       "      <td>The middle class of society</td>\n",
       "      <td>8</td>\n",
       "      <td>18 Sep 21</td>\n",
       "      <td>8 - 12 h</td>\n",
       "      <td>2525</td>\n",
       "      <td>DK04 - Midtjylland</td>\n",
       "    </tr>\n",
       "    <tr>\n",
       "      <th>25</th>\n",
       "      <td>110005598</td>\n",
       "      <td>35</td>\n",
       "      <td>Low</td>\n",
       "      <td>Very important</td>\n",
       "      <td>Not mentioned</td>\n",
       "      <td>Cyber-attacks and cybercrime such as theft or ...</td>\n",
       "      <td>Not mentioned</td>\n",
       "      <td>The safety and well-being of children</td>\n",
       "      <td>Not mentioned</td>\n",
       "      <td>The difficulty of disconnecting and finding a ...</td>\n",
       "      <td>...</td>\n",
       "      <td>Woman</td>\n",
       "      <td>Employed position, service job</td>\n",
       "      <td>Inap. (not 1 to 4 in d15a)</td>\n",
       "      <td>Rural area or village</td>\n",
       "      <td>The middle class of society</td>\n",
       "      <td>7</td>\n",
       "      <td>18 Sep 21</td>\n",
       "      <td>8 - 12 h</td>\n",
       "      <td>2659</td>\n",
       "      <td>DK04 - Midtjylland</td>\n",
       "    </tr>\n",
       "    <tr>\n",
       "      <th>53</th>\n",
       "      <td>110005626</td>\n",
       "      <td>73</td>\n",
       "      <td>Low</td>\n",
       "      <td>Fairly important</td>\n",
       "      <td>Use of personal data and information by compan...</td>\n",
       "      <td>Cyber-attacks and cybercrime such as theft or ...</td>\n",
       "      <td>The difficulty of learning new digital skills ...</td>\n",
       "      <td>The safety and well-being of children</td>\n",
       "      <td>Not mentioned</td>\n",
       "      <td>Not mentioned</td>\n",
       "      <td>...</td>\n",
       "      <td>Man</td>\n",
       "      <td>Retired, unable to work</td>\n",
       "      <td>Skilled manual worker</td>\n",
       "      <td>Rural area or village</td>\n",
       "      <td>The middle class of society</td>\n",
       "      <td>8</td>\n",
       "      <td>18 Sep 21</td>\n",
       "      <td>13 - 16 h</td>\n",
       "      <td>5069</td>\n",
       "      <td>DK04 - Midtjylland</td>\n",
       "    </tr>\n",
       "  </tbody>\n",
       "</table>\n",
       "<p>5 rows × 23 columns</p>\n",
       "</div>"
      ],
      "text/plain": [
       "       uniqid d11 polintr                       qb1  \\\n",
       "10  110005583  91     Low  Don't know (SPONTANEOUS)   \n",
       "19  110005592  18     Low            Very important   \n",
       "24  110005597  66     Low        Not very important   \n",
       "25  110005598  35     Low            Very important   \n",
       "53  110005626  73     Low          Fairly important   \n",
       "\n",
       "                                                qb3_1  \\\n",
       "10                                      Not mentioned   \n",
       "19  Use of personal data and information by compan...   \n",
       "24                                      Not mentioned   \n",
       "25                                      Not mentioned   \n",
       "53  Use of personal data and information by compan...   \n",
       "\n",
       "                                                qb3_2  \\\n",
       "10                                      Not mentioned   \n",
       "19                                      Not mentioned   \n",
       "24                                      Not mentioned   \n",
       "25  Cyber-attacks and cybercrime such as theft or ...   \n",
       "53  Cyber-attacks and cybercrime such as theft or ...   \n",
       "\n",
       "                                                qb3_3  \\\n",
       "10                                      Not mentioned   \n",
       "19                                      Not mentioned   \n",
       "24                                      Not mentioned   \n",
       "25                                      Not mentioned   \n",
       "53  The difficulty of learning new digital skills ...   \n",
       "\n",
       "                                    qb3_4          qb3_5  \\\n",
       "10                          Not mentioned  Not mentioned   \n",
       "19  The safety and well-being of children  Not mentioned   \n",
       "24  The safety and well-being of children  Not mentioned   \n",
       "25  The safety and well-being of children  Not mentioned   \n",
       "53  The safety and well-being of children  Not mentioned   \n",
       "\n",
       "                                                qb3_6  ...    d10  \\\n",
       "10                                      Not mentioned  ...    Man   \n",
       "19  The difficulty of disconnecting and finding a ...  ...  Woman   \n",
       "24                                      Not mentioned  ...  Woman   \n",
       "25  The difficulty of disconnecting and finding a ...  ...  Woman   \n",
       "53                                      Not mentioned  ...    Man   \n",
       "\n",
       "                              d15a                           d15b  \\\n",
       "10         Retired, unable to work  Employed position, travelling   \n",
       "19                         Student  Unskilled manual worker, etc.   \n",
       "24         Retired, unable to work          Skilled manual worker   \n",
       "25  Employed position, service job     Inap. (not 1 to 4 in d15a)   \n",
       "53         Retired, unable to work          Skilled manual worker   \n",
       "\n",
       "                      d25                           d63 d1         p1  \\\n",
       "10             Large town  The working class of society  5  17 Sep 21   \n",
       "19  Rural area or village   The middle class of society  3  17 Sep 21   \n",
       "24  Rural area or village   The middle class of society  8  18 Sep 21   \n",
       "25  Rural area or village   The middle class of society  7  18 Sep 21   \n",
       "53  Rural area or village   The middle class of society  8  18 Sep 21   \n",
       "\n",
       "           p2    p3      region_denmark  \n",
       "10  13 - 16 h  2636  DK05 - Nordjylland  \n",
       "19  13 - 16 h  3252  DK04 - Midtjylland  \n",
       "24   8 - 12 h  2525  DK04 - Midtjylland  \n",
       "25   8 - 12 h  2659  DK04 - Midtjylland  \n",
       "53  13 - 16 h  5069  DK04 - Midtjylland  \n",
       "\n",
       "[5 rows x 23 columns]"
      ]
     },
     "execution_count": 107,
     "metadata": {},
     "output_type": "execute_result"
    }
   ],
   "source": [
    "eurob.loc[eurob['polintr'] == \"Low\", :].head()"
   ]
  },
  {
   "cell_type": "code",
   "execution_count": 108,
   "id": "db310efc-2133-4538-b22c-1e7c30f88015",
   "metadata": {},
   "outputs": [
    {
     "data": {
      "text/html": [
       "<div>\n",
       "<style scoped>\n",
       "    .dataframe tbody tr th:only-of-type {\n",
       "        vertical-align: middle;\n",
       "    }\n",
       "\n",
       "    .dataframe tbody tr th {\n",
       "        vertical-align: top;\n",
       "    }\n",
       "\n",
       "    .dataframe thead th {\n",
       "        text-align: right;\n",
       "    }\n",
       "</style>\n",
       "<table border=\"1\" class=\"dataframe\">\n",
       "  <thead>\n",
       "    <tr style=\"text-align: right;\">\n",
       "      <th></th>\n",
       "      <th>uniqid</th>\n",
       "      <th>d11</th>\n",
       "      <th>polintr</th>\n",
       "      <th>qb1</th>\n",
       "      <th>qb3_1</th>\n",
       "      <th>qb3_2</th>\n",
       "      <th>qb3_3</th>\n",
       "      <th>qb3_4</th>\n",
       "      <th>qb3_5</th>\n",
       "      <th>qb3_6</th>\n",
       "      <th>...</th>\n",
       "      <th>d10</th>\n",
       "      <th>d15a</th>\n",
       "      <th>d15b</th>\n",
       "      <th>d25</th>\n",
       "      <th>d63</th>\n",
       "      <th>d1</th>\n",
       "      <th>p1</th>\n",
       "      <th>p2</th>\n",
       "      <th>p3</th>\n",
       "      <th>region_denmark</th>\n",
       "    </tr>\n",
       "  </thead>\n",
       "  <tbody>\n",
       "    <tr>\n",
       "      <th>19</th>\n",
       "      <td>110005592</td>\n",
       "      <td>18</td>\n",
       "      <td>Low</td>\n",
       "      <td>Very important</td>\n",
       "      <td>Use of personal data and information by compan...</td>\n",
       "      <td>Not mentioned</td>\n",
       "      <td>Not mentioned</td>\n",
       "      <td>The safety and well-being of children</td>\n",
       "      <td>Not mentioned</td>\n",
       "      <td>The difficulty of disconnecting and finding a ...</td>\n",
       "      <td>...</td>\n",
       "      <td>Woman</td>\n",
       "      <td>Student</td>\n",
       "      <td>Unskilled manual worker, etc.</td>\n",
       "      <td>Rural area or village</td>\n",
       "      <td>The middle class of society</td>\n",
       "      <td>3</td>\n",
       "      <td>17 Sep 21</td>\n",
       "      <td>13 - 16 h</td>\n",
       "      <td>3252</td>\n",
       "      <td>DK04 - Midtjylland</td>\n",
       "    </tr>\n",
       "    <tr>\n",
       "      <th>24</th>\n",
       "      <td>110005597</td>\n",
       "      <td>66</td>\n",
       "      <td>Low</td>\n",
       "      <td>Not very important</td>\n",
       "      <td>Not mentioned</td>\n",
       "      <td>Not mentioned</td>\n",
       "      <td>Not mentioned</td>\n",
       "      <td>The safety and well-being of children</td>\n",
       "      <td>Not mentioned</td>\n",
       "      <td>Not mentioned</td>\n",
       "      <td>...</td>\n",
       "      <td>Woman</td>\n",
       "      <td>Retired, unable to work</td>\n",
       "      <td>Skilled manual worker</td>\n",
       "      <td>Rural area or village</td>\n",
       "      <td>The middle class of society</td>\n",
       "      <td>8</td>\n",
       "      <td>18 Sep 21</td>\n",
       "      <td>8 - 12 h</td>\n",
       "      <td>2525</td>\n",
       "      <td>DK04 - Midtjylland</td>\n",
       "    </tr>\n",
       "    <tr>\n",
       "      <th>25</th>\n",
       "      <td>110005598</td>\n",
       "      <td>35</td>\n",
       "      <td>Low</td>\n",
       "      <td>Very important</td>\n",
       "      <td>Not mentioned</td>\n",
       "      <td>Cyber-attacks and cybercrime such as theft or ...</td>\n",
       "      <td>Not mentioned</td>\n",
       "      <td>The safety and well-being of children</td>\n",
       "      <td>Not mentioned</td>\n",
       "      <td>The difficulty of disconnecting and finding a ...</td>\n",
       "      <td>...</td>\n",
       "      <td>Woman</td>\n",
       "      <td>Employed position, service job</td>\n",
       "      <td>Inap. (not 1 to 4 in d15a)</td>\n",
       "      <td>Rural area or village</td>\n",
       "      <td>The middle class of society</td>\n",
       "      <td>7</td>\n",
       "      <td>18 Sep 21</td>\n",
       "      <td>8 - 12 h</td>\n",
       "      <td>2659</td>\n",
       "      <td>DK04 - Midtjylland</td>\n",
       "    </tr>\n",
       "    <tr>\n",
       "      <th>59</th>\n",
       "      <td>110005632</td>\n",
       "      <td>76</td>\n",
       "      <td>Low</td>\n",
       "      <td>Not at all important</td>\n",
       "      <td>Not mentioned</td>\n",
       "      <td>Cyber-attacks and cybercrime such as theft or ...</td>\n",
       "      <td>The difficulty of learning new digital skills ...</td>\n",
       "      <td>The safety and well-being of children</td>\n",
       "      <td>Not mentioned</td>\n",
       "      <td>Not mentioned</td>\n",
       "      <td>...</td>\n",
       "      <td>Woman</td>\n",
       "      <td>Retired, unable to work</td>\n",
       "      <td>Unskilled manual worker, etc.</td>\n",
       "      <td>Rural area or village</td>\n",
       "      <td>The working class of society</td>\n",
       "      <td>3</td>\n",
       "      <td>19 Sep 21</td>\n",
       "      <td>8 - 12 h</td>\n",
       "      <td>2747</td>\n",
       "      <td>DK03 - Syddanmark</td>\n",
       "    </tr>\n",
       "    <tr>\n",
       "      <th>65</th>\n",
       "      <td>110005638</td>\n",
       "      <td>66</td>\n",
       "      <td>Low</td>\n",
       "      <td>Fairly important</td>\n",
       "      <td>Not mentioned</td>\n",
       "      <td>Cyber-attacks and cybercrime such as theft or ...</td>\n",
       "      <td>Not mentioned</td>\n",
       "      <td>The safety and well-being of children</td>\n",
       "      <td>Not mentioned</td>\n",
       "      <td>Not mentioned</td>\n",
       "      <td>...</td>\n",
       "      <td>Woman</td>\n",
       "      <td>Retired, unable to work</td>\n",
       "      <td>Employed position, at desk</td>\n",
       "      <td>Rural area or village</td>\n",
       "      <td>The middle class of society</td>\n",
       "      <td>Refusal (SPONT.)</td>\n",
       "      <td>19 Sep 21</td>\n",
       "      <td>13 - 16 h</td>\n",
       "      <td>4391</td>\n",
       "      <td>DK04 - Midtjylland</td>\n",
       "    </tr>\n",
       "  </tbody>\n",
       "</table>\n",
       "<p>5 rows × 23 columns</p>\n",
       "</div>"
      ],
      "text/plain": [
       "       uniqid d11 polintr                   qb1  \\\n",
       "19  110005592  18     Low        Very important   \n",
       "24  110005597  66     Low    Not very important   \n",
       "25  110005598  35     Low        Very important   \n",
       "59  110005632  76     Low  Not at all important   \n",
       "65  110005638  66     Low      Fairly important   \n",
       "\n",
       "                                                qb3_1  \\\n",
       "19  Use of personal data and information by compan...   \n",
       "24                                      Not mentioned   \n",
       "25                                      Not mentioned   \n",
       "59                                      Not mentioned   \n",
       "65                                      Not mentioned   \n",
       "\n",
       "                                                qb3_2  \\\n",
       "19                                      Not mentioned   \n",
       "24                                      Not mentioned   \n",
       "25  Cyber-attacks and cybercrime such as theft or ...   \n",
       "59  Cyber-attacks and cybercrime such as theft or ...   \n",
       "65  Cyber-attacks and cybercrime such as theft or ...   \n",
       "\n",
       "                                                qb3_3  \\\n",
       "19                                      Not mentioned   \n",
       "24                                      Not mentioned   \n",
       "25                                      Not mentioned   \n",
       "59  The difficulty of learning new digital skills ...   \n",
       "65                                      Not mentioned   \n",
       "\n",
       "                                    qb3_4          qb3_5  \\\n",
       "19  The safety and well-being of children  Not mentioned   \n",
       "24  The safety and well-being of children  Not mentioned   \n",
       "25  The safety and well-being of children  Not mentioned   \n",
       "59  The safety and well-being of children  Not mentioned   \n",
       "65  The safety and well-being of children  Not mentioned   \n",
       "\n",
       "                                                qb3_6  ...    d10  \\\n",
       "19  The difficulty of disconnecting and finding a ...  ...  Woman   \n",
       "24                                      Not mentioned  ...  Woman   \n",
       "25  The difficulty of disconnecting and finding a ...  ...  Woman   \n",
       "59                                      Not mentioned  ...  Woman   \n",
       "65                                      Not mentioned  ...  Woman   \n",
       "\n",
       "                              d15a                           d15b  \\\n",
       "19                         Student  Unskilled manual worker, etc.   \n",
       "24         Retired, unable to work          Skilled manual worker   \n",
       "25  Employed position, service job     Inap. (not 1 to 4 in d15a)   \n",
       "59         Retired, unable to work  Unskilled manual worker, etc.   \n",
       "65         Retired, unable to work     Employed position, at desk   \n",
       "\n",
       "                      d25                           d63                d1  \\\n",
       "19  Rural area or village   The middle class of society                 3   \n",
       "24  Rural area or village   The middle class of society                 8   \n",
       "25  Rural area or village   The middle class of society                 7   \n",
       "59  Rural area or village  The working class of society                 3   \n",
       "65  Rural area or village   The middle class of society  Refusal (SPONT.)   \n",
       "\n",
       "           p1         p2    p3      region_denmark  \n",
       "19  17 Sep 21  13 - 16 h  3252  DK04 - Midtjylland  \n",
       "24  18 Sep 21   8 - 12 h  2525  DK04 - Midtjylland  \n",
       "25  18 Sep 21   8 - 12 h  2659  DK04 - Midtjylland  \n",
       "59  19 Sep 21   8 - 12 h  2747   DK03 - Syddanmark  \n",
       "65  19 Sep 21  13 - 16 h  4391  DK04 - Midtjylland  \n",
       "\n",
       "[5 rows x 23 columns]"
      ]
     },
     "execution_count": 108,
     "metadata": {},
     "output_type": "execute_result"
    }
   ],
   "source": [
    "eurob.loc[(eurob['polintr'] == \"Low\") & (eurob['d10'] == 'Woman'), :].head()"
   ]
  },
  {
   "cell_type": "markdown",
   "id": "d6566963-7e30-4349-b5f2-78ededb09d9b",
   "metadata": {},
   "source": [
    "## Nye variable\n",
    "\n",
    "Ofte har man brug for at tilføje oplysninger til et datasæt i form af nye variable.\n",
    "\n",
    "Man danner en ny variabel blot ved at referere til et kolonnenavn, som endnu ikke er brugt.\n",
    "\n",
    "I nedenstående dannes en variabel for interviewlængde i minutter:"
   ]
  },
  {
   "cell_type": "code",
   "execution_count": 113,
   "id": "beaa4de3-08fd-457c-8f06-87b0129493d7",
   "metadata": {},
   "outputs": [
    {
     "data": {
      "text/html": [
       "<div>\n",
       "<style scoped>\n",
       "    .dataframe tbody tr th:only-of-type {\n",
       "        vertical-align: middle;\n",
       "    }\n",
       "\n",
       "    .dataframe tbody tr th {\n",
       "        vertical-align: top;\n",
       "    }\n",
       "\n",
       "    .dataframe thead th {\n",
       "        text-align: right;\n",
       "    }\n",
       "</style>\n",
       "<table border=\"1\" class=\"dataframe\">\n",
       "  <thead>\n",
       "    <tr style=\"text-align: right;\">\n",
       "      <th></th>\n",
       "      <th>uniqid</th>\n",
       "      <th>d11</th>\n",
       "      <th>polintr</th>\n",
       "      <th>qb1</th>\n",
       "      <th>qb3_1</th>\n",
       "      <th>qb3_2</th>\n",
       "      <th>qb3_3</th>\n",
       "      <th>qb3_4</th>\n",
       "      <th>qb3_5</th>\n",
       "      <th>qb3_6</th>\n",
       "      <th>...</th>\n",
       "      <th>d15b</th>\n",
       "      <th>d25</th>\n",
       "      <th>d63</th>\n",
       "      <th>d1</th>\n",
       "      <th>p1</th>\n",
       "      <th>p2</th>\n",
       "      <th>p3</th>\n",
       "      <th>region_denmark</th>\n",
       "      <th>inwth</th>\n",
       "      <th>inwtm</th>\n",
       "    </tr>\n",
       "  </thead>\n",
       "  <tbody>\n",
       "    <tr>\n",
       "      <th>0</th>\n",
       "      <td>110005573</td>\n",
       "      <td>71</td>\n",
       "      <td>Not at all</td>\n",
       "      <td>Fairly important</td>\n",
       "      <td>Not mentioned</td>\n",
       "      <td>Not mentioned</td>\n",
       "      <td>Not mentioned</td>\n",
       "      <td>Not mentioned</td>\n",
       "      <td>Not mentioned</td>\n",
       "      <td>Not mentioned</td>\n",
       "      <td>...</td>\n",
       "      <td>Middle management, etc.</td>\n",
       "      <td>Large town</td>\n",
       "      <td>The middle class of society</td>\n",
       "      <td>9</td>\n",
       "      <td>16 Sep 21</td>\n",
       "      <td>13 - 16 h</td>\n",
       "      <td>2099</td>\n",
       "      <td>DK05 - Nordjylland</td>\n",
       "      <td>34.983333</td>\n",
       "      <td>34.983333</td>\n",
       "    </tr>\n",
       "    <tr>\n",
       "      <th>1</th>\n",
       "      <td>110005574</td>\n",
       "      <td>23</td>\n",
       "      <td>Medium</td>\n",
       "      <td>Very important</td>\n",
       "      <td>Use of personal data and information by compan...</td>\n",
       "      <td>Cyber-attacks and cybercrime such as theft or ...</td>\n",
       "      <td>Not mentioned</td>\n",
       "      <td>Not mentioned</td>\n",
       "      <td>Not mentioned</td>\n",
       "      <td>Not mentioned</td>\n",
       "      <td>...</td>\n",
       "      <td>Unskilled manual worker, etc.</td>\n",
       "      <td>Large town</td>\n",
       "      <td>The middle class of society</td>\n",
       "      <td>6</td>\n",
       "      <td>16 Sep 21</td>\n",
       "      <td>17 - 19 h</td>\n",
       "      <td>2784</td>\n",
       "      <td>DK05 - Nordjylland</td>\n",
       "      <td>46.400000</td>\n",
       "      <td>46.400000</td>\n",
       "    </tr>\n",
       "    <tr>\n",
       "      <th>2</th>\n",
       "      <td>110005575</td>\n",
       "      <td>53</td>\n",
       "      <td>Medium</td>\n",
       "      <td>Very important</td>\n",
       "      <td>Not mentioned</td>\n",
       "      <td>Cyber-attacks and cybercrime such as theft or ...</td>\n",
       "      <td>The difficulty of learning new digital skills ...</td>\n",
       "      <td>Not mentioned</td>\n",
       "      <td>Not mentioned</td>\n",
       "      <td>Not mentioned</td>\n",
       "      <td>...</td>\n",
       "      <td>Inap. (not 1 to 4 in d15a)</td>\n",
       "      <td>Rural area or village</td>\n",
       "      <td>The middle class of society</td>\n",
       "      <td>8</td>\n",
       "      <td>17 Sep 21</td>\n",
       "      <td>13 - 16 h</td>\n",
       "      <td>1738</td>\n",
       "      <td>DK02 - Sjaelland</td>\n",
       "      <td>28.966667</td>\n",
       "      <td>28.966667</td>\n",
       "    </tr>\n",
       "    <tr>\n",
       "      <th>3</th>\n",
       "      <td>110005576</td>\n",
       "      <td>70</td>\n",
       "      <td>Medium</td>\n",
       "      <td>Very important</td>\n",
       "      <td>Not mentioned</td>\n",
       "      <td>Cyber-attacks and cybercrime such as theft or ...</td>\n",
       "      <td>Not mentioned</td>\n",
       "      <td>The safety and well-being of children</td>\n",
       "      <td>The difficulty some people have accessing the ...</td>\n",
       "      <td>Not mentioned</td>\n",
       "      <td>...</td>\n",
       "      <td>Middle management, etc.</td>\n",
       "      <td>Rural area or village</td>\n",
       "      <td>The middle class of society</td>\n",
       "      <td>8</td>\n",
       "      <td>17 Sep 21</td>\n",
       "      <td>13 - 16 h</td>\n",
       "      <td>2759</td>\n",
       "      <td>DK02 - Sjaelland</td>\n",
       "      <td>45.983333</td>\n",
       "      <td>45.983333</td>\n",
       "    </tr>\n",
       "    <tr>\n",
       "      <th>4</th>\n",
       "      <td>110005577</td>\n",
       "      <td>71</td>\n",
       "      <td>Medium</td>\n",
       "      <td>Fairly important</td>\n",
       "      <td>Not mentioned</td>\n",
       "      <td>Not mentioned</td>\n",
       "      <td>Not mentioned</td>\n",
       "      <td>Not mentioned</td>\n",
       "      <td>Not mentioned</td>\n",
       "      <td>Not mentioned</td>\n",
       "      <td>...</td>\n",
       "      <td>Inap. (not 1 to 4 in d15a)</td>\n",
       "      <td>Small/middle town</td>\n",
       "      <td>The working class of society</td>\n",
       "      <td>5</td>\n",
       "      <td>17 Sep 21</td>\n",
       "      <td>8 - 12 h</td>\n",
       "      <td>1768</td>\n",
       "      <td>DK01 - Hovedstaden</td>\n",
       "      <td>29.466667</td>\n",
       "      <td>29.466667</td>\n",
       "    </tr>\n",
       "  </tbody>\n",
       "</table>\n",
       "<p>5 rows × 25 columns</p>\n",
       "</div>"
      ],
      "text/plain": [
       "      uniqid d11     polintr               qb1  \\\n",
       "0  110005573  71  Not at all  Fairly important   \n",
       "1  110005574  23      Medium    Very important   \n",
       "2  110005575  53      Medium    Very important   \n",
       "3  110005576  70      Medium    Very important   \n",
       "4  110005577  71      Medium  Fairly important   \n",
       "\n",
       "                                               qb3_1  \\\n",
       "0                                      Not mentioned   \n",
       "1  Use of personal data and information by compan...   \n",
       "2                                      Not mentioned   \n",
       "3                                      Not mentioned   \n",
       "4                                      Not mentioned   \n",
       "\n",
       "                                               qb3_2  \\\n",
       "0                                      Not mentioned   \n",
       "1  Cyber-attacks and cybercrime such as theft or ...   \n",
       "2  Cyber-attacks and cybercrime such as theft or ...   \n",
       "3  Cyber-attacks and cybercrime such as theft or ...   \n",
       "4                                      Not mentioned   \n",
       "\n",
       "                                               qb3_3  \\\n",
       "0                                      Not mentioned   \n",
       "1                                      Not mentioned   \n",
       "2  The difficulty of learning new digital skills ...   \n",
       "3                                      Not mentioned   \n",
       "4                                      Not mentioned   \n",
       "\n",
       "                                   qb3_4  \\\n",
       "0                          Not mentioned   \n",
       "1                          Not mentioned   \n",
       "2                          Not mentioned   \n",
       "3  The safety and well-being of children   \n",
       "4                          Not mentioned   \n",
       "\n",
       "                                               qb3_5          qb3_6  ...  \\\n",
       "0                                      Not mentioned  Not mentioned  ...   \n",
       "1                                      Not mentioned  Not mentioned  ...   \n",
       "2                                      Not mentioned  Not mentioned  ...   \n",
       "3  The difficulty some people have accessing the ...  Not mentioned  ...   \n",
       "4                                      Not mentioned  Not mentioned  ...   \n",
       "\n",
       "                            d15b                    d25  \\\n",
       "0        Middle management, etc.             Large town   \n",
       "1  Unskilled manual worker, etc.             Large town   \n",
       "2     Inap. (not 1 to 4 in d15a)  Rural area or village   \n",
       "3        Middle management, etc.  Rural area or village   \n",
       "4     Inap. (not 1 to 4 in d15a)      Small/middle town   \n",
       "\n",
       "                            d63 d1         p1         p2    p3  \\\n",
       "0   The middle class of society  9  16 Sep 21  13 - 16 h  2099   \n",
       "1   The middle class of society  6  16 Sep 21  17 - 19 h  2784   \n",
       "2   The middle class of society  8  17 Sep 21  13 - 16 h  1738   \n",
       "3   The middle class of society  8  17 Sep 21  13 - 16 h  2759   \n",
       "4  The working class of society  5  17 Sep 21   8 - 12 h  1768   \n",
       "\n",
       "       region_denmark      inwth      inwtm  \n",
       "0  DK05 - Nordjylland  34.983333  34.983333  \n",
       "1  DK05 - Nordjylland  46.400000  46.400000  \n",
       "2    DK02 - Sjaelland  28.966667  28.966667  \n",
       "3    DK02 - Sjaelland  45.983333  45.983333  \n",
       "4  DK01 - Hovedstaden  29.466667  29.466667  \n",
       "\n",
       "[5 rows x 25 columns]"
      ]
     },
     "execution_count": 113,
     "metadata": {},
     "output_type": "execute_result"
    }
   ],
   "source": [
    "eurob['inwtm'] = eurob['p3'] / 60\n",
    "\n",
    "eurob.head()"
   ]
  },
  {
   "cell_type": "markdown",
   "id": "3b440dfc-fe8c-41cc-805b-ea8e1b0b625b",
   "metadata": {},
   "source": [
    "## Rekodning\n",
    "\n",
    "Ofte har man brug for at rekode variable.\n",
    "\n",
    "Variable rekodes ved at overskrive værdier i en eksisterende variabel.\n",
    "\n",
    "Det er god praksis ikke at rekode de oprindelige variable i datasættet, så man vil i stedet lave en kopi af variablen og så rekode den i stedet.\n",
    "\n",
    "Hvis man fx vil rekode en kontinuerlig variabel til kategorisk, kan man gøre brug af booleans. \n",
    "\n",
    "I nedenstående dannes en kategorisk variabel over interviewlængde:"
   ]
  },
  {
   "cell_type": "code",
   "execution_count": 116,
   "id": "6742e246-83fb-4689-8b29-9684a73335f2",
   "metadata": {},
   "outputs": [
    {
     "data": {
      "text/html": [
       "<div>\n",
       "<style scoped>\n",
       "    .dataframe tbody tr th:only-of-type {\n",
       "        vertical-align: middle;\n",
       "    }\n",
       "\n",
       "    .dataframe tbody tr th {\n",
       "        vertical-align: top;\n",
       "    }\n",
       "\n",
       "    .dataframe thead th {\n",
       "        text-align: right;\n",
       "    }\n",
       "</style>\n",
       "<table border=\"1\" class=\"dataframe\">\n",
       "  <thead>\n",
       "    <tr style=\"text-align: right;\">\n",
       "      <th></th>\n",
       "      <th>uniqid</th>\n",
       "      <th>d11</th>\n",
       "      <th>polintr</th>\n",
       "      <th>qb1</th>\n",
       "      <th>qb3_1</th>\n",
       "      <th>qb3_2</th>\n",
       "      <th>qb3_3</th>\n",
       "      <th>qb3_4</th>\n",
       "      <th>qb3_5</th>\n",
       "      <th>qb3_6</th>\n",
       "      <th>...</th>\n",
       "      <th>d25</th>\n",
       "      <th>d63</th>\n",
       "      <th>d1</th>\n",
       "      <th>p1</th>\n",
       "      <th>p2</th>\n",
       "      <th>p3</th>\n",
       "      <th>region_denmark</th>\n",
       "      <th>inwth</th>\n",
       "      <th>inwtm</th>\n",
       "      <th>intl_cat</th>\n",
       "    </tr>\n",
       "  </thead>\n",
       "  <tbody>\n",
       "    <tr>\n",
       "      <th>0</th>\n",
       "      <td>110005573</td>\n",
       "      <td>71</td>\n",
       "      <td>Not at all</td>\n",
       "      <td>Fairly important</td>\n",
       "      <td>Not mentioned</td>\n",
       "      <td>Not mentioned</td>\n",
       "      <td>Not mentioned</td>\n",
       "      <td>Not mentioned</td>\n",
       "      <td>Not mentioned</td>\n",
       "      <td>Not mentioned</td>\n",
       "      <td>...</td>\n",
       "      <td>Large town</td>\n",
       "      <td>The middle class of society</td>\n",
       "      <td>9</td>\n",
       "      <td>16 Sep 21</td>\n",
       "      <td>13 - 16 h</td>\n",
       "      <td>2099</td>\n",
       "      <td>DK05 - Nordjylland</td>\n",
       "      <td>34.983333</td>\n",
       "      <td>34.983333</td>\n",
       "      <td>short interview</td>\n",
       "    </tr>\n",
       "    <tr>\n",
       "      <th>1</th>\n",
       "      <td>110005574</td>\n",
       "      <td>23</td>\n",
       "      <td>Medium</td>\n",
       "      <td>Very important</td>\n",
       "      <td>Use of personal data and information by compan...</td>\n",
       "      <td>Cyber-attacks and cybercrime such as theft or ...</td>\n",
       "      <td>Not mentioned</td>\n",
       "      <td>Not mentioned</td>\n",
       "      <td>Not mentioned</td>\n",
       "      <td>Not mentioned</td>\n",
       "      <td>...</td>\n",
       "      <td>Large town</td>\n",
       "      <td>The middle class of society</td>\n",
       "      <td>6</td>\n",
       "      <td>16 Sep 21</td>\n",
       "      <td>17 - 19 h</td>\n",
       "      <td>2784</td>\n",
       "      <td>DK05 - Nordjylland</td>\n",
       "      <td>46.400000</td>\n",
       "      <td>46.400000</td>\n",
       "      <td>long interview</td>\n",
       "    </tr>\n",
       "    <tr>\n",
       "      <th>2</th>\n",
       "      <td>110005575</td>\n",
       "      <td>53</td>\n",
       "      <td>Medium</td>\n",
       "      <td>Very important</td>\n",
       "      <td>Not mentioned</td>\n",
       "      <td>Cyber-attacks and cybercrime such as theft or ...</td>\n",
       "      <td>The difficulty of learning new digital skills ...</td>\n",
       "      <td>Not mentioned</td>\n",
       "      <td>Not mentioned</td>\n",
       "      <td>Not mentioned</td>\n",
       "      <td>...</td>\n",
       "      <td>Rural area or village</td>\n",
       "      <td>The middle class of society</td>\n",
       "      <td>8</td>\n",
       "      <td>17 Sep 21</td>\n",
       "      <td>13 - 16 h</td>\n",
       "      <td>1738</td>\n",
       "      <td>DK02 - Sjaelland</td>\n",
       "      <td>28.966667</td>\n",
       "      <td>28.966667</td>\n",
       "      <td>short interview</td>\n",
       "    </tr>\n",
       "    <tr>\n",
       "      <th>3</th>\n",
       "      <td>110005576</td>\n",
       "      <td>70</td>\n",
       "      <td>Medium</td>\n",
       "      <td>Very important</td>\n",
       "      <td>Not mentioned</td>\n",
       "      <td>Cyber-attacks and cybercrime such as theft or ...</td>\n",
       "      <td>Not mentioned</td>\n",
       "      <td>The safety and well-being of children</td>\n",
       "      <td>The difficulty some people have accessing the ...</td>\n",
       "      <td>Not mentioned</td>\n",
       "      <td>...</td>\n",
       "      <td>Rural area or village</td>\n",
       "      <td>The middle class of society</td>\n",
       "      <td>8</td>\n",
       "      <td>17 Sep 21</td>\n",
       "      <td>13 - 16 h</td>\n",
       "      <td>2759</td>\n",
       "      <td>DK02 - Sjaelland</td>\n",
       "      <td>45.983333</td>\n",
       "      <td>45.983333</td>\n",
       "      <td>long interview</td>\n",
       "    </tr>\n",
       "    <tr>\n",
       "      <th>4</th>\n",
       "      <td>110005577</td>\n",
       "      <td>71</td>\n",
       "      <td>Medium</td>\n",
       "      <td>Fairly important</td>\n",
       "      <td>Not mentioned</td>\n",
       "      <td>Not mentioned</td>\n",
       "      <td>Not mentioned</td>\n",
       "      <td>Not mentioned</td>\n",
       "      <td>Not mentioned</td>\n",
       "      <td>Not mentioned</td>\n",
       "      <td>...</td>\n",
       "      <td>Small/middle town</td>\n",
       "      <td>The working class of society</td>\n",
       "      <td>5</td>\n",
       "      <td>17 Sep 21</td>\n",
       "      <td>8 - 12 h</td>\n",
       "      <td>1768</td>\n",
       "      <td>DK01 - Hovedstaden</td>\n",
       "      <td>29.466667</td>\n",
       "      <td>29.466667</td>\n",
       "      <td>short interview</td>\n",
       "    </tr>\n",
       "  </tbody>\n",
       "</table>\n",
       "<p>5 rows × 26 columns</p>\n",
       "</div>"
      ],
      "text/plain": [
       "      uniqid d11     polintr               qb1  \\\n",
       "0  110005573  71  Not at all  Fairly important   \n",
       "1  110005574  23      Medium    Very important   \n",
       "2  110005575  53      Medium    Very important   \n",
       "3  110005576  70      Medium    Very important   \n",
       "4  110005577  71      Medium  Fairly important   \n",
       "\n",
       "                                               qb3_1  \\\n",
       "0                                      Not mentioned   \n",
       "1  Use of personal data and information by compan...   \n",
       "2                                      Not mentioned   \n",
       "3                                      Not mentioned   \n",
       "4                                      Not mentioned   \n",
       "\n",
       "                                               qb3_2  \\\n",
       "0                                      Not mentioned   \n",
       "1  Cyber-attacks and cybercrime such as theft or ...   \n",
       "2  Cyber-attacks and cybercrime such as theft or ...   \n",
       "3  Cyber-attacks and cybercrime such as theft or ...   \n",
       "4                                      Not mentioned   \n",
       "\n",
       "                                               qb3_3  \\\n",
       "0                                      Not mentioned   \n",
       "1                                      Not mentioned   \n",
       "2  The difficulty of learning new digital skills ...   \n",
       "3                                      Not mentioned   \n",
       "4                                      Not mentioned   \n",
       "\n",
       "                                   qb3_4  \\\n",
       "0                          Not mentioned   \n",
       "1                          Not mentioned   \n",
       "2                          Not mentioned   \n",
       "3  The safety and well-being of children   \n",
       "4                          Not mentioned   \n",
       "\n",
       "                                               qb3_5          qb3_6  ...  \\\n",
       "0                                      Not mentioned  Not mentioned  ...   \n",
       "1                                      Not mentioned  Not mentioned  ...   \n",
       "2                                      Not mentioned  Not mentioned  ...   \n",
       "3  The difficulty some people have accessing the ...  Not mentioned  ...   \n",
       "4                                      Not mentioned  Not mentioned  ...   \n",
       "\n",
       "                     d25                           d63 d1         p1  \\\n",
       "0             Large town   The middle class of society  9  16 Sep 21   \n",
       "1             Large town   The middle class of society  6  16 Sep 21   \n",
       "2  Rural area or village   The middle class of society  8  17 Sep 21   \n",
       "3  Rural area or village   The middle class of society  8  17 Sep 21   \n",
       "4      Small/middle town  The working class of society  5  17 Sep 21   \n",
       "\n",
       "          p2    p3      region_denmark      inwth      inwtm         intl_cat  \n",
       "0  13 - 16 h  2099  DK05 - Nordjylland  34.983333  34.983333  short interview  \n",
       "1  17 - 19 h  2784  DK05 - Nordjylland  46.400000  46.400000   long interview  \n",
       "2  13 - 16 h  1738    DK02 - Sjaelland  28.966667  28.966667  short interview  \n",
       "3  13 - 16 h  2759    DK02 - Sjaelland  45.983333  45.983333   long interview  \n",
       "4   8 - 12 h  1768  DK01 - Hovedstaden  29.466667  29.466667  short interview  \n",
       "\n",
       "[5 rows x 26 columns]"
      ]
     },
     "execution_count": 116,
     "metadata": {},
     "output_type": "execute_result"
    }
   ],
   "source": [
    "eurob['intl_cat'] = np.nan # Danner en \"tom\" variabel bestående af missing\n",
    "\n",
    "eurob.loc[eurob['inwtm'] <= 40, 'intl_cat'] = \"short interview\"\n",
    "eurob.loc[eurob['inwtm'] > 40, 'intl_cat'] = \"long interview\"\n",
    "\n",
    "eurob.head()"
   ]
  },
  {
   "cell_type": "code",
   "execution_count": 117,
   "id": "99013c83-dd22-443b-a331-58d4db599bdf",
   "metadata": {},
   "outputs": [
    {
     "data": {
      "text/plain": [
       "short interview    546\n",
       "long interview     447\n",
       "Name: intl_cat, dtype: int64"
      ]
     },
     "execution_count": 117,
     "metadata": {},
     "output_type": "execute_result"
    }
   ],
   "source": [
    "eurob['intl_cat'].value_counts()"
   ]
  },
  {
   "cell_type": "markdown",
   "id": "a5d98cd2-1e3b-45fe-86d6-f4af4c7a076b",
   "metadata": {},
   "source": [
    "## Datatyper\n",
    "\n",
    "Pandas adskiller mellem forskellige typer af information i kolonnerne i en data frame. Ligesom at variable i Python har forskellige *classes*, der dikterer, hvad der er muligt, dikterer datatypen for en kolonne i en data frame, hvad der kan lade sig gøre.\n",
    "\n",
    "Man kan inspicere datatypen for en kolonne via attribute `.dtypes` (virker både på hel data frame eller enkelt kolonne / series):"
   ]
  },
  {
   "cell_type": "code",
   "execution_count": 38,
   "id": "453ae973-6e36-4f85-a224-7efdb151b237",
   "metadata": {},
   "outputs": [
    {
     "data": {
      "text/plain": [
       "dtype('O')"
      ]
     },
     "execution_count": 38,
     "metadata": {},
     "output_type": "execute_result"
    }
   ],
   "source": [
    "eurob['d11'].dtypes"
   ]
  },
  {
   "cell_type": "markdown",
   "id": "5ca91b0e-2775-4d1f-ad9a-2ee6b1930789",
   "metadata": {},
   "source": [
    "Datatype `'O'` står for `object`. Denne kan betragtes som en midlertidig type, da det ikke er angivet, hvilken type data det er (tal, tekst, dato eller andet)."
   ]
  },
  {
   "cell_type": "markdown",
   "id": "3b32fe50-0d86-4cdd-9a20-09b4cc0f9c2e",
   "metadata": {},
   "source": [
    "### Typecasting\n",
    "\n",
    "Typecasting (dvs. at tvinge en datatype om til en anden) kan gøres på flere måder i pandas. Den mest generelle er metoden `.astype()`, hvor man angiver datatypen som argument.\n",
    "\n",
    "Ellers findes der også specifikke funktioner til at tvinge datatypen om. Herunder bruges funktionen `pd.to_numeric()` til at tvinge datatypen for `d11` om. **BEMÆRK**: I nedenstående tvinges ikke gyldige værdier om til missing:"
   ]
  },
  {
   "cell_type": "code",
   "execution_count": 55,
   "id": "94b0e3a4-4c43-4b65-8d4b-c082440b4252",
   "metadata": {},
   "outputs": [],
   "source": [
    "eurob['d11_num'] = pd.to_numeric(eurob['d11'], errors = \"coerce\")"
   ]
  },
  {
   "cell_type": "markdown",
   "id": "0a5d514a-397c-4fff-be6c-d9f9ecac7778",
   "metadata": {
    "jp-MarkdownHeadingCollapsed": true,
    "tags": []
   },
   "source": [
    "# Rekodning med mappings (live coding)"
   ]
  },
  {
   "cell_type": "markdown",
   "id": "8eaf0e82-965c-4829-b1b5-154c67e67aff",
   "metadata": {},
   "source": [
    "## Missingværdier: NaN\n",
    "\n",
    "`NaN` angiver missingværdi. En missingværdi er en ikke-gyldig værdi; fx hvis en person ikke svarer, informationen ikke har været muligt at skaffe eller andet.\n",
    "\n",
    "For at man kan kode med missing, skal selve missingværdien importeres. Denne kan hents fra pakken `numpy`:"
   ]
  },
  {
   "cell_type": "code",
   "execution_count": 121,
   "id": "1364ef1e-2944-40bd-bd1c-341b6a012b54",
   "metadata": {},
   "outputs": [
    {
     "name": "stdout",
     "output_type": "stream",
     "text": [
      "nan\n"
     ]
    }
   ],
   "source": [
    "import numpy as np\n",
    "\n",
    "print(np.nan)"
   ]
  },
  {
   "cell_type": "markdown",
   "id": "1df5b970-b9d6-42d5-b920-3879644cd8be",
   "metadata": {},
   "source": [
    "## Rekodning med mapping\n",
    "\n",
    "Tidligere blev der dannet en numerisk udgave af `d11` (alder) ved brug af typecasting. Her blev ikke-gyldige værdier blot tvunget om til missing.\n",
    "\n",
    "Som det ses af nedenstående, var dette ikke hensigtsmæssigt:"
   ]
  },
  {
   "cell_type": "code",
   "execution_count": 122,
   "id": "c5108a13-06de-4202-a5b4-bdbe543c45a0",
   "metadata": {},
   "outputs": [
    {
     "data": {
      "text/plain": [
       "array(['71', '23', '53', '70', '66', '85', '60', '64', '77', '91', '88',\n",
       "       '82', '76', '37', '83', '55', '75', '18', '30', '29', '31', '35',\n",
       "       '36', '41', '51', '45', '50', '78', '79', '46', '54', '48', '63',\n",
       "       '57', '84', '67', '42', '80', '69', '73', '32', '68', '43', '72',\n",
       "       '21', '86', '25', '38', '58', '65', '52', '39', '56', '34', '28',\n",
       "       '22', '49', '16', '24', '26', '62', '27', '89', '93', '17', '92',\n",
       "       '15 years', '47', '81', '40', '74', '87', '61', '19', '59', '44',\n",
       "       '90', '33', 'Refusal', '94', '20'], dtype=object)"
      ]
     },
     "execution_count": 122,
     "metadata": {},
     "output_type": "execute_result"
    }
   ],
   "source": [
    "eurob['d11'].unique()"
   ]
  },
  {
   "cell_type": "markdown",
   "id": "3f80b168-600b-4f36-98c0-db251d5d1999",
   "metadata": {},
   "source": [
    "`\"15 years\"` indgår som svar, så denne skal rekodes manuelt. Dette kunne fx gøres med en mapping:"
   ]
  },
  {
   "cell_type": "code",
   "execution_count": 123,
   "id": "85277f3a-8832-4146-a089-6cb167ce04de",
   "metadata": {},
   "outputs": [],
   "source": [
    "age_recode = {\"15 years\": 15, \"Refusal\": np.nan}"
   ]
  },
  {
   "cell_type": "markdown",
   "id": "efd22c7e-e241-4a95-810b-f730de912b9a",
   "metadata": {},
   "source": [
    "Metoden `.replace()` bruges til at rekode ved brug af en mapping. Derefter kan kolonnen igen laves om til numerisk:"
   ]
  },
  {
   "cell_type": "code",
   "execution_count": 124,
   "id": "448114b8-ef8c-4d1f-b93f-27ca820712e6",
   "metadata": {},
   "outputs": [
    {
     "name": "stdout",
     "output_type": "stream",
     "text": [
      "float64\n"
     ]
    }
   ],
   "source": [
    "eurob['d11'] = eurob['d11'].replace(age_recode)\n",
    "eurob['d11'] = eurob['d11'].astype('float') # float = floatpoint\n",
    "\n",
    "print(eurob['d11'].dtypes)"
   ]
  },
  {
   "cell_type": "markdown",
   "id": "cee940a7-2e70-43df-9b7d-948fd496b5c9",
   "metadata": {
    "editable": true,
    "jp-MarkdownHeadingCollapsed": true,
    "slideshow": {
     "slide_type": ""
    },
    "tags": []
   },
   "source": [
    "# Udforskning af data (live coding)"
   ]
  },
  {
   "cell_type": "markdown",
   "id": "4a4e8774-9fb3-42c1-9c8a-6bd2d4f00e60",
   "metadata": {},
   "source": [
    "## Visualisering med `pandas`\n",
    "\n",
    "`pandas` dataframes har en række indbyggede metoder til at plotte enkelte variable. "
   ]
  },
  {
   "cell_type": "markdown",
   "id": "c33d651c-a2fa-4794-87ba-2e2ad28a3c2e",
   "metadata": {},
   "source": [
    "Vi kan fx bruge metoden `.plot.hist()` til at lave et histogram:"
   ]
  },
  {
   "cell_type": "code",
   "execution_count": 125,
   "id": "5570af2d-27e4-4450-8eb8-7479bd04c590",
   "metadata": {},
   "outputs": [
    {
     "data": {
      "text/plain": [
       "<AxesSubplot:ylabel='Frequency'>"
      ]
     },
     "execution_count": 125,
     "metadata": {},
     "output_type": "execute_result"
    },
    {
     "data": {
      "image/png": "[encoded data removed]",
      "text/plain": [
       "<Figure size 640x480 with 1 Axes>"
      ]
     },
     "metadata": {},
     "output_type": "display_data"
    }
   ],
   "source": [
    "eurob['d11'].plot.hist(bins = 30)"
   ]
  },
  {
   "cell_type": "markdown",
   "id": "03ba7dc4-4d8a-4e61-bdd5-85e5df62c1ce",
   "metadata": {},
   "source": [
    "`.plot.bar()` kan bruges til at lave søjlediagrammer over optællinger fra `.value_counts()` :"
   ]
  },
  {
   "cell_type": "code",
   "execution_count": 126,
   "id": "321d15f5-48b0-4209-a663-0b932d922a1e",
   "metadata": {},
   "outputs": [
    {
     "data": {
      "text/plain": [
       "<AxesSubplot:>"
      ]
     },
     "execution_count": 126,
     "metadata": {},
     "output_type": "execute_result"
    },
    {
     "data": {
      "image/png": "[encoded data removed]",
      "text/plain": [
       "<Figure size 640x480 with 1 Axes>"
      ]
     },
     "metadata": {},
     "output_type": "display_data"
    }
   ],
   "source": [
    "eurob['polintr'].value_counts().plot.bar()"
   ]
  },
  {
   "cell_type": "markdown",
   "id": "e655b1cf-79df-4ee9-a080-8eb37375895f",
   "metadata": {
    "editable": true,
    "slideshow": {
     "slide_type": ""
    },
    "tags": []
   },
   "source": [
    "## Deskriptive mål\n",
    "\n",
    "Metoden `.describe()` danner deskriptive mål for alle (kompatible) variable i datasættet:"
   ]
  },
  {
   "cell_type": "code",
   "execution_count": 127,
   "id": "18a19ba7-0ef3-44dd-8076-319f007625c9",
   "metadata": {
    "editable": true,
    "slideshow": {
     "slide_type": ""
    },
    "tags": []
   },
   "outputs": [
    {
     "data": {
      "text/html": [
       "<div>\n",
       "<style scoped>\n",
       "    .dataframe tbody tr th:only-of-type {\n",
       "        vertical-align: middle;\n",
       "    }\n",
       "\n",
       "    .dataframe tbody tr th {\n",
       "        vertical-align: top;\n",
       "    }\n",
       "\n",
       "    .dataframe thead th {\n",
       "        text-align: right;\n",
       "    }\n",
       "</style>\n",
       "<table border=\"1\" class=\"dataframe\">\n",
       "  <thead>\n",
       "    <tr style=\"text-align: right;\">\n",
       "      <th></th>\n",
       "      <th>uniqid</th>\n",
       "      <th>d11</th>\n",
       "      <th>p3</th>\n",
       "      <th>inwth</th>\n",
       "      <th>inwtm</th>\n",
       "    </tr>\n",
       "  </thead>\n",
       "  <tbody>\n",
       "    <tr>\n",
       "      <th>count</th>\n",
       "      <td>9.930000e+02</td>\n",
       "      <td>992.000000</td>\n",
       "      <td>993.000000</td>\n",
       "      <td>993.000000</td>\n",
       "      <td>993.000000</td>\n",
       "    </tr>\n",
       "    <tr>\n",
       "      <th>mean</th>\n",
       "      <td>1.100106e+08</td>\n",
       "      <td>55.810484</td>\n",
       "      <td>2628.954683</td>\n",
       "      <td>43.815911</td>\n",
       "      <td>43.815911</td>\n",
       "    </tr>\n",
       "    <tr>\n",
       "      <th>std</th>\n",
       "      <td>8.289165e+03</td>\n",
       "      <td>18.695239</td>\n",
       "      <td>2501.948407</td>\n",
       "      <td>41.699140</td>\n",
       "      <td>41.699140</td>\n",
       "    </tr>\n",
       "    <tr>\n",
       "      <th>min</th>\n",
       "      <td>1.100056e+08</td>\n",
       "      <td>15.000000</td>\n",
       "      <td>709.000000</td>\n",
       "      <td>11.816667</td>\n",
       "      <td>11.816667</td>\n",
       "    </tr>\n",
       "    <tr>\n",
       "      <th>25%</th>\n",
       "      <td>1.100058e+08</td>\n",
       "      <td>42.000000</td>\n",
       "      <td>1839.000000</td>\n",
       "      <td>30.650000</td>\n",
       "      <td>30.650000</td>\n",
       "    </tr>\n",
       "    <tr>\n",
       "      <th>50%</th>\n",
       "      <td>1.100061e+08</td>\n",
       "      <td>57.000000</td>\n",
       "      <td>2308.000000</td>\n",
       "      <td>38.466667</td>\n",
       "      <td>38.466667</td>\n",
       "    </tr>\n",
       "    <tr>\n",
       "      <th>75%</th>\n",
       "      <td>1.100063e+08</td>\n",
       "      <td>72.000000</td>\n",
       "      <td>2925.000000</td>\n",
       "      <td>48.750000</td>\n",
       "      <td>48.750000</td>\n",
       "    </tr>\n",
       "    <tr>\n",
       "      <th>max</th>\n",
       "      <td>1.100265e+08</td>\n",
       "      <td>94.000000</td>\n",
       "      <td>64628.000000</td>\n",
       "      <td>1077.133333</td>\n",
       "      <td>1077.133333</td>\n",
       "    </tr>\n",
       "  </tbody>\n",
       "</table>\n",
       "</div>"
      ],
      "text/plain": [
       "             uniqid         d11            p3        inwth        inwtm\n",
       "count  9.930000e+02  992.000000    993.000000   993.000000   993.000000\n",
       "mean   1.100106e+08   55.810484   2628.954683    43.815911    43.815911\n",
       "std    8.289165e+03   18.695239   2501.948407    41.699140    41.699140\n",
       "min    1.100056e+08   15.000000    709.000000    11.816667    11.816667\n",
       "25%    1.100058e+08   42.000000   1839.000000    30.650000    30.650000\n",
       "50%    1.100061e+08   57.000000   2308.000000    38.466667    38.466667\n",
       "75%    1.100063e+08   72.000000   2925.000000    48.750000    48.750000\n",
       "max    1.100265e+08   94.000000  64628.000000  1077.133333  1077.133333"
      ]
     },
     "execution_count": 127,
     "metadata": {},
     "output_type": "execute_result"
    }
   ],
   "source": [
    "eurob.describe()"
   ]
  },
  {
   "cell_type": "markdown",
   "id": "839da735-83e7-48d7-8d89-93ca521ca6ed",
   "metadata": {},
   "source": [
    "Metoden fungerer også på enkeltvariable:"
   ]
  },
  {
   "cell_type": "code",
   "execution_count": 128,
   "id": "1e4dc5b6-6280-4382-b156-5e1efca64305",
   "metadata": {},
   "outputs": [
    {
     "data": {
      "text/plain": [
       "count    992.000000\n",
       "mean      55.810484\n",
       "std       18.695239\n",
       "min       15.000000\n",
       "25%       42.000000\n",
       "50%       57.000000\n",
       "75%       72.000000\n",
       "max       94.000000\n",
       "Name: d11, dtype: float64"
      ]
     },
     "execution_count": 128,
     "metadata": {},
     "output_type": "execute_result"
    }
   ],
   "source": [
    "eurob['d11'].describe()"
   ]
  },
  {
   "cell_type": "markdown",
   "id": "8c9011a8-f2e9-4e97-9ac5-39da787bfbe7",
   "metadata": {},
   "source": [
    "`.describe()` danner følgende mål:\n",
    "- `count`: Antal svar ekskl. missing\n",
    "- `mean`: Middelværdien\n",
    "- `std`: Standardafvigelsen\n",
    "- `min`: Minimumværdien\n",
    "- `25%`: 1. kvartil\n",
    "- `50%`: 2. kvartil\n",
    "- `75%`: 3. kvartil\n",
    "- `max`: Maksimumværdien"
   ]
  },
  {
   "cell_type": "markdown",
   "id": "57411b00-859d-4fe3-8a33-9d4c6b03cb2f",
   "metadata": {},
   "source": [
    "Der knytter sig også en række metoder til at danne de enkelte deskriptive mål.\n",
    "\n",
    "Herunder printes fx middelværdien, standardafvigelsen, minimums- og maksimumsværdien for variablen `weight`:"
   ]
  },
  {
   "cell_type": "code",
   "execution_count": 129,
   "id": "a2078cc3-d904-4d19-9f3d-88b5bd01121f",
   "metadata": {
    "editable": true,
    "slideshow": {
     "slide_type": ""
    },
    "tags": []
   },
   "outputs": [
    {
     "name": "stdout",
     "output_type": "stream",
     "text": [
      "55.810483870967744\n",
      "18.69523946829065\n",
      "15.0\n",
      "94.0\n"
     ]
    }
   ],
   "source": [
    "print(eurob['d11'].mean())\n",
    "print(eurob['d11'].std())\n",
    "print(eurob['d11'].min())\n",
    "print(eurob['d11'].max())"
   ]
  },
  {
   "cell_type": "markdown",
   "id": "9acfd873-2f81-4427-a45f-f14e50476ad8",
   "metadata": {
    "editable": true,
    "slideshow": {
     "slide_type": "slide"
    },
    "tags": []
   },
   "source": [
    "## Split-apply-combine"
   ]
  },
  {
   "cell_type": "markdown",
   "id": "3fee6ba2-a065-42d9-9f42-793a89beae6c",
   "metadata": {
    "editable": true,
    "slideshow": {
     "slide_type": "slide"
    },
    "tags": []
   },
   "source": [
    "![sac](https://unlhcc.github.io/r-novice-gapminder/fig/12-plyr-fig1.png)\n",
    "\n",
    "*Billede fra [Software Carpentry](https://unlhcc.github.io/r-novice-gapminder/16-plyr/)*"
   ]
  },
  {
   "cell_type": "markdown",
   "id": "17d397db-bc62-4591-bbb4-368216afe22b",
   "metadata": {
    "editable": true,
    "slideshow": {
     "slide_type": "slide"
    },
    "tags": []
   },
   "source": [
    "## Split-apply-combine\n",
    "\n",
    "**Split**: Opdel (split) data i grupper baseret på et eller flere kriterier.\n",
    "\n",
    "**Apply**: Anvend (apply) en funktion (fx en beregning, filtrering eller andet) til hver gruppering.\n",
    "\n",
    "**Combine**: Kombinér (combine) resultaterne til en ny datastruktur."
   ]
  },
  {
   "cell_type": "code",
   "execution_count": 11,
   "id": "4f8d1a64-83e7-4078-8b95-8feec23ddde6",
   "metadata": {
    "editable": true,
    "slideshow": {
     "slide_type": "slide"
    },
    "tags": []
   },
   "outputs": [
    {
     "data": {
      "text/html": [
       "<div>\n",
       "<style scoped>\n",
       "    .dataframe tbody tr th:only-of-type {\n",
       "        vertical-align: middle;\n",
       "    }\n",
       "\n",
       "    .dataframe tbody tr th {\n",
       "        vertical-align: top;\n",
       "    }\n",
       "\n",
       "    .dataframe thead th {\n",
       "        text-align: right;\n",
       "    }\n",
       "</style>\n",
       "<table border=\"1\" class=\"dataframe\">\n",
       "  <thead>\n",
       "    <tr style=\"text-align: right;\">\n",
       "      <th></th>\n",
       "      <th>d10</th>\n",
       "      <th>d11</th>\n",
       "    </tr>\n",
       "  </thead>\n",
       "  <tbody>\n",
       "    <tr>\n",
       "      <th>0</th>\n",
       "      <td>Man</td>\n",
       "      <td>56.792233</td>\n",
       "    </tr>\n",
       "    <tr>\n",
       "      <th>1</th>\n",
       "      <td>Woman</td>\n",
       "      <td>54.750524</td>\n",
       "    </tr>\n",
       "  </tbody>\n",
       "</table>\n",
       "</div>"
      ],
      "text/plain": [
       "     d10        d11\n",
       "0    Man  56.792233\n",
       "1  Woman  54.750524"
      ]
     },
     "execution_count": 11,
     "metadata": {},
     "output_type": "execute_result"
    }
   ],
   "source": [
    "eurob.groupby(['d10'])['d11'].mean().to_frame().reset_index()"
   ]
  },
  {
   "cell_type": "markdown",
   "id": "85a0b440-a41f-48cb-97a7-f0c8a761c069",
   "metadata": {
    "editable": true,
    "slideshow": {
     "slide_type": ""
    },
    "tags": []
   },
   "source": [
    "**Split**: `.groupby()` - Hvilke variable skal der grupperes efter? (her `d10` - køn).\n",
    "\n",
    "**Apply**: `.mean()` - Funktion der anvendes på hver gruppering (her middelværdi for `d11` - alder).\n",
    "\n",
    "**Combine**: Pandas returnerer automatisk en ny datastruktur ved brug af en funktion. Dog kan strukturen tilpasses.\n",
    "- `.to_frame()` - Tving om til data frame\n",
    "- `.reset_index()` - Nulstil index (rækkenavne)"
   ]
  },
  {
   "cell_type": "markdown",
   "id": "8f13bc6c-8677-4988-8158-ac21823ae37b",
   "metadata": {
    "editable": true,
    "slideshow": {
     "slide_type": ""
    },
    "tags": []
   },
   "source": [
    "## Split-apply-combine med pandas (groupby)"
   ]
  },
  {
   "cell_type": "markdown",
   "id": "e6d7b9b4-c5dc-4a35-881e-02df8e323da8",
   "metadata": {
    "editable": true,
    "slideshow": {
     "slide_type": ""
    },
    "tags": []
   },
   "source": [
    "Her skal vi se på nogen forskellige måder, hvor der kan udregnes deskriptive mål og dannes visualiseringer for grupper i data\n",
    "\n",
    "Vi starter med at indlæse de nødvendige pakker og data. Aldersvariablen (som også blev tilføjet i lektion 3) tilføjes igen:"
   ]
  },
  {
   "cell_type": "markdown",
   "id": "6cb92ca9-66eb-40b4-985d-157c5f8f46b4",
   "metadata": {
    "editable": true,
    "slideshow": {
     "slide_type": ""
    },
    "tags": []
   },
   "source": [
    "### Brug af split-apply til at opsummere data (aggregeringer)\n",
    "\n",
    "Metoden `.groupby()` grupperer datasæt efter de givne variable:"
   ]
  },
  {
   "cell_type": "code",
   "execution_count": 130,
   "id": "a7c79fe6-0cf6-4d17-b3bd-d433671366b4",
   "metadata": {},
   "outputs": [],
   "source": [
    "grouped_df = eurob.groupby(['d10'])"
   ]
  },
  {
   "cell_type": "markdown",
   "id": "631a222a-173a-4aea-ade9-f9a96c2fa748",
   "metadata": {},
   "source": [
    "Selve objektet, som bliver dannet, indeholder ikke information, der bare kan kaldes frem direkte:"
   ]
  },
  {
   "cell_type": "code",
   "execution_count": 131,
   "id": "d3723401-8ac0-4786-9dcf-e536f6b293d9",
   "metadata": {},
   "outputs": [
    {
     "data": {
      "text/plain": [
       "<pandas.core.groupby.generic.DataFrameGroupBy object at 0x000001BE41471188>"
      ]
     },
     "execution_count": 131,
     "metadata": {},
     "output_type": "execute_result"
    }
   ],
   "source": [
    "grouped_df"
   ]
  },
  {
   "cell_type": "markdown",
   "id": "7e9c8e72-55ac-4677-b5bc-19b8ea8cd0df",
   "metadata": {},
   "source": [
    "Dog kan vi danne de samme deskriptive mål, som vi kan for hele datasættet, men hvor de opsummeres på gruppeniveauet:"
   ]
  },
  {
   "cell_type": "code",
   "execution_count": 132,
   "id": "b12e2f24-3af9-460c-ad28-694251f0b283",
   "metadata": {},
   "outputs": [
    {
     "data": {
      "text/html": [
       "<div>\n",
       "<style scoped>\n",
       "    .dataframe tbody tr th:only-of-type {\n",
       "        vertical-align: middle;\n",
       "    }\n",
       "\n",
       "    .dataframe tbody tr th {\n",
       "        vertical-align: top;\n",
       "    }\n",
       "\n",
       "    .dataframe thead th {\n",
       "        text-align: right;\n",
       "    }\n",
       "</style>\n",
       "<table border=\"1\" class=\"dataframe\">\n",
       "  <thead>\n",
       "    <tr style=\"text-align: right;\">\n",
       "      <th></th>\n",
       "      <th>uniqid</th>\n",
       "      <th>d11</th>\n",
       "      <th>p3</th>\n",
       "      <th>inwth</th>\n",
       "      <th>inwtm</th>\n",
       "    </tr>\n",
       "    <tr>\n",
       "      <th>d10</th>\n",
       "      <th></th>\n",
       "      <th></th>\n",
       "      <th></th>\n",
       "      <th></th>\n",
       "      <th></th>\n",
       "    </tr>\n",
       "  </thead>\n",
       "  <tbody>\n",
       "    <tr>\n",
       "      <th>Man</th>\n",
       "      <td>1.100101e+08</td>\n",
       "      <td>56.792233</td>\n",
       "      <td>2593.071705</td>\n",
       "      <td>43.217862</td>\n",
       "      <td>43.217862</td>\n",
       "    </tr>\n",
       "    <tr>\n",
       "      <th>Woman</th>\n",
       "      <td>1.100111e+08</td>\n",
       "      <td>54.750524</td>\n",
       "      <td>2667.771488</td>\n",
       "      <td>44.462858</td>\n",
       "      <td>44.462858</td>\n",
       "    </tr>\n",
       "  </tbody>\n",
       "</table>\n",
       "</div>"
      ],
      "text/plain": [
       "             uniqid        d11           p3      inwth      inwtm\n",
       "d10                                                              \n",
       "Man    1.100101e+08  56.792233  2593.071705  43.217862  43.217862\n",
       "Woman  1.100111e+08  54.750524  2667.771488  44.462858  44.462858"
      ]
     },
     "execution_count": 132,
     "metadata": {},
     "output_type": "execute_result"
    }
   ],
   "source": [
    "grouped_df.mean()"
   ]
  },
  {
   "cell_type": "markdown",
   "id": "218d71a6-f994-42e4-b4e7-add6ccef0325",
   "metadata": {},
   "source": [
    "Det samme kan gøres for enkeltvariable:"
   ]
  },
  {
   "cell_type": "code",
   "execution_count": 133,
   "id": "26d5b4bf-ef72-4320-ac30-9f643992e6f4",
   "metadata": {},
   "outputs": [
    {
     "data": {
      "text/plain": [
       "d10\n",
       "Man      56.792233\n",
       "Woman    54.750524\n",
       "Name: d11, dtype: float64"
      ]
     },
     "execution_count": 133,
     "metadata": {},
     "output_type": "execute_result"
    }
   ],
   "source": [
    "grouped_df['d11'].mean()"
   ]
  },
  {
   "cell_type": "markdown",
   "id": "e68158a6-790e-493e-94d9-dcc3c8104553",
   "metadata": {},
   "source": [
    "En lang række metoder kan bruges på grupperede data. Se dem alle her: https://pandas.pydata.org/pandas-docs/stable/user_guide/groupby.html.\n",
    "\n",
    "- `mean()`: Middelværdi for grupperne\n",
    "\n",
    "- `size()`: Størrelse af grupperne\n",
    "\n",
    "- `count()`: Tællinger inden for grupperne\n",
    "\n",
    "- `describe()`: Deskriptive mål inden for grupperne\n",
    "\n",
    "- `min()`: Minimum for grupperne\n",
    "\n",
    "- `max()`: Maximum for grupperne"
   ]
  },
  {
   "cell_type": "markdown",
   "id": "db2675fb-d1f8-44c7-9a34-6a24eefe4f1c",
   "metadata": {},
   "source": [
    "Metoden `value_counts()` kan bruges til at lave optællinger af kategoriske inden for grupperne.\n",
    "\n",
    "Herunder laves optælling for variablen `vote` fordelt på køn:"
   ]
  },
  {
   "cell_type": "code",
   "execution_count": 134,
   "id": "e538a072-dc94-4d13-9157-ac9f43be7a7b",
   "metadata": {},
   "outputs": [
    {
     "data": {
      "text/plain": [
       "d10    polintr   \n",
       "Man    Medium        268\n",
       "       Strong        144\n",
       "       Low            68\n",
       "       Not at all     36\n",
       "Woman  Medium        240\n",
       "       Low            91\n",
       "       Strong         90\n",
       "       Not at all     56\n",
       "Name: polintr, dtype: int64"
      ]
     },
     "execution_count": 134,
     "metadata": {},
     "output_type": "execute_result"
    }
   ],
   "source": [
    "grouped_df['polintr'].value_counts()"
   ]
  },
  {
   "cell_type": "markdown",
   "id": "bd708a7c-b13c-44a5-9e4e-0aa7f1ef0e25",
   "metadata": {},
   "source": [
    "### Brug af split-apply til at filtrere data\n",
    "\n",
    "Split-apply kan også bruges til at filtrere data - fx ved kun at beholde grupper over en vis størrelse:"
   ]
  },
  {
   "cell_type": "code",
   "execution_count": 136,
   "id": "0bc82967-5ad7-47c5-af1f-cbbca8853343",
   "metadata": {},
   "outputs": [
    {
     "data": {
      "text/plain": [
       "DEN:Upper secondary (in Danish; stx, hhx, htx, hf)         246\n",
       "DEN:Diploma Degree                                         191\n",
       "DEN:Master or equivalent                                   158\n",
       "DEN:Short cycle tertiary                                   139\n",
       "DEN:Primary school 8-11 years                              122\n",
       "DEN:Bachelor or equivalent                                 101\n",
       "DEN:Doctoral or equivalent                                  14\n",
       "DEN:No Education                                             9\n",
       "DEN:Primary school, less than 7 years                        9\n",
       "DEN:Primary school, completed first 7 years (class 0-6)      4\n",
       "Name: d9b, dtype: int64"
      ]
     },
     "execution_count": 136,
     "metadata": {},
     "output_type": "execute_result"
    }
   ],
   "source": [
    "eurob['d9b'].value_counts() # Enkelte uddannelsesgrupper meget små"
   ]
  },
  {
   "cell_type": "code",
   "execution_count": 141,
   "id": "92d1d2cf-3d97-486e-918e-b43aa262c91c",
   "metadata": {},
   "outputs": [],
   "source": [
    "eurob_groupfilter = eurob.groupby('d9b').filter(lambda x: len(x) > 20)"
   ]
  },
  {
   "cell_type": "code",
   "execution_count": 142,
   "id": "1d153adc-36a2-49f5-9327-3394b064e541",
   "metadata": {},
   "outputs": [
    {
     "data": {
      "text/plain": [
       "DEN:Upper secondary (in Danish; stx, hhx, htx, hf)    246\n",
       "DEN:Diploma Degree                                    191\n",
       "DEN:Master or equivalent                              158\n",
       "DEN:Short cycle tertiary                              139\n",
       "DEN:Primary school 8-11 years                         122\n",
       "DEN:Bachelor or equivalent                            101\n",
       "Name: d9b, dtype: int64"
      ]
     },
     "execution_count": 142,
     "metadata": {},
     "output_type": "execute_result"
    }
   ],
   "source": [
    "eurob_groupfilter['d9b'].value_counts()"
   ]
  }
 ],
 "metadata": {
  "kernelspec": {
   "display_name": "Python 3 (ipykernel)",
   "language": "python",
   "name": "python3"
  },
  "language_info": {
   "codemirror_mode": {
    "name": "ipython",
    "version": 3
   },
   "file_extension": ".py",
   "mimetype": "text/x-python",
   "name": "python",
   "nbconvert_exporter": "python",
   "pygments_lexer": "ipython3",
   "version": "3.8.17"
  }
 },
 "nbformat": 4,
 "nbformat_minor": 5
}
