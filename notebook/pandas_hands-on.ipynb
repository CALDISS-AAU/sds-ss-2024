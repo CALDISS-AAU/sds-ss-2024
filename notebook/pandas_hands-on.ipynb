{
 "cells": [
  {
   "cell_type": "markdown",
   "id": "8caa10b1-171c-482f-8f3c-d67f21f91e36",
   "metadata": {},
   "source": [
    "## HANDS-ON EXERCISE: Data Management in Python\r\n",
    "\r\n",
    "**About the Exercise**\r\n",
    "\r\n",
    "In this exercise, you will use various data management techniques from Python and specifically from the pandas package. There are multiple ways to solve the exerc so please play around with different techniques. You can always find help and guidance for the various pandas functions from the pandas documentation: https://pandas.pydata.org/docs (or some LLM chatbot, of course).\r\n",
    "\r\n",
    "**Purpose**\r\n",
    "\r\n",
    "We would like to investigate the correlation between political orientation (left- or right-leaning) and concerns about digital technology and the internet. The Eurobarometer dataset contains data that can be used to examine this. However, the dataset is not immediately ready for this invest Link to data:https://github.com/CALDISS-AAU/sds-ss-2024/raw/master/datasets/eurobarometer-96_dk_subset.csv.\r\n",
    "\r\n",
    "**1.**\r\n",
    "\r\n",
    "Load the Eurobarometer dataset as a pandas dataframe. You can load the data directly via the URL. A variable overview can be found here: https://github.com/CALDISS-AAU/sds-ss-2024/raw/master/datasets/varlist_eurobarometer-96_dk_subset.pdf.\r\n",
    "\r\n",
    "Note: The dataset is a .csv file.\r\n",
    "\r\n",
    "**2.**\r\n",
    "\r\n",
    "A measure of the respondents' concern about digital technology is needed. The columns qb3_1-qb3_7 indicate areas within digital technology and the internet that the respondent is concerned about (if there is an answer: concerned; otherwise, they are not concerned).\r\n",
    "\r\n",
    "Create an index (composite measure) for how concerned one is about digital technology and the internet based on the columns qb3_1-qb3-7.\r\n",
    "\r\n",
    "Note: The columns should be recoded to dummy variables (0/1) before they are summed. (see, for example, the section on recoding with mappings and the documentation for the pandas method .replace(): https://pandas.pydata.org/pandas-docs/stable/reference/api/pandas.DataFrame.replace.html).\r\n",
    "\r\n",
    "**3.**\r\n",
    "\r\n",
    "The dataset already contains a measure for political stance. The column d1 contains respondents' political placement on a left-right scale (1: left-leaning, 10: right-leaning). However, Python does not recognize this as a numeric column.\r\n",
    "\r\n",
    "Convert d1 to a numeric variable.\r\n",
    "\r\n",
    "Note: Some of the values need to be recoded before they can be changed to numeric. Moreover, the column's datatype must be forced to numeric (see, for example, the section on typecasting from the first Python session and documentation for the pandas method .astype(): https://pandas.pydata.org/pandas-docs/stable/reference/api/pandas.Series.astype.html).\r\n",
    "\r\n",
    "**4.**\r\n",
    "\r\n",
    "Investigate whether the index of concern for digital technologies and political stance correlate (use, for example, pd.Series.corr(): https://pandas.pydata.org/pandas-docs/stable/reference/api/pandas.Series.corr.html#pandas.Series.corr).\r\n",
    "\r\n",
    "**5.**\r\n",
    "\r\n",
    "Explore differences in the index - for example, differences between gender, education level, region, or other factors (see the pandas guide about the use of Group by/split-apply-combine techniques: https://pandas.pydata.org/pandas-docs/stable/user_guide/groupby.html).ation level, region, or other factors."
   ]
  },
  {
   "cell_type": "code",
   "execution_count": 1,
   "id": "c7a7058d-7025-402a-b6c5-ef3e3d3bf284",
   "metadata": {},
   "outputs": [],
   "source": [
    "# you code starts here..."
   ]
  }
 ],
 "metadata": {
  "kernelspec": {
   "display_name": "Python 3 (ipykernel)",
   "language": "python",
   "name": "python3"
  },
  "language_info": {
   "codemirror_mode": {
    "name": "ipython",
    "version": 3
   },
   "file_extension": ".py",
   "mimetype": "text/x-python",
   "name": "python",
   "nbconvert_exporter": "python",
   "pygments_lexer": "ipython3",
   "version": "3.8.17"
  }
 },
 "nbformat": 4,
 "nbformat_minor": 5
}
