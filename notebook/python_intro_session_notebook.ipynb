{
  "nbformat": 4,
  "nbformat_minor": 0,
  "metadata": {
    "colab": {
      "provenance": []
    },
    "kernelspec": {
      "name": "python3",
      "display_name": "Python 3"
    },
    "language_info": {
      "name": "python"
    }
  },
  "cells": [
    {
      "cell_type": "markdown",
      "source": [
        "## Introduction to Python for data science\n",
        "\n",
        "This notebook contains the code examples from Monday of the MASSHINE Social Data Science summer school 2024."
      ],
      "metadata": {
        "id": "0KEkzKdW1sZ0"
      }
    },
    {
      "cell_type": "markdown",
      "source": [
        "## Python notebooks\n",
        "\n",
        "This file is a Python notebook. It is one way of interacting with Python. A notebook consists of two types of cells: code cells and text (/markdown) cells.\n",
        "\n",
        "Code cells can contain and run Python code.\n",
        "\n",
        "Text cells contain normal text (written in [Markdown](https://www.markdownguide.org/)).\n",
        "\n",
        "### Python code\n",
        "\n",
        "Code cells can only contain Python code. Use text cells to write documentation and notes for the code. If you want to add comments to the code itself, use #. Everything followed by # will be ignored by the Python interpreter.\n",
        "\n",
        "Spaces affects the interpretation of the code if the line begins with spaces (indented). Otherwise Python ignores spaces but they are often added for readability."
      ],
      "metadata": {
        "id": "Q-7ahADdHyA0"
      }
    },
    {
      "cell_type": "code",
      "execution_count": 1,
      "metadata": {
        "colab": {
          "base_uri": "https://localhost:8080/"
        },
        "id": "5b9rUyt1FWh9",
        "outputId": "b79e92f8-8dfd-4178-e153-beda95bfc47a"
      },
      "outputs": [
        {
          "output_type": "execute_result",
          "data": {
            "text/plain": [
              "4"
            ]
          },
          "metadata": {},
          "execution_count": 1
        }
      ],
      "source": [
        "# Example of a code cell\n",
        "2+2"
      ]
    },
    {
      "cell_type": "markdown",
      "source": [
        "## Variables and types\n",
        "\n",
        "Use = to define variables."
      ],
      "metadata": {
        "id": "jkD8_fBD4LpD"
      }
    },
    {
      "cell_type": "code",
      "source": [
        "a = 10 # numeric type\n",
        "b = \"hello\" # string type\n",
        "c = True # boolean type"
      ],
      "metadata": {
        "id": "tGbWSE5-Wz_u"
      },
      "execution_count": 2,
      "outputs": []
    },
    {
      "cell_type": "markdown",
      "source": [
        "### Types matter\n",
        "\n",
        "The variable supports operations based on its type/class."
      ],
      "metadata": {
        "id": "f6FyebDN4fVy"
      }
    },
    {
      "cell_type": "code",
      "source": [
        "# works - numeric + numeric\n",
        "a + 5"
      ],
      "metadata": {
        "colab": {
          "base_uri": "https://localhost:8080/"
        },
        "id": "X8sBj7bkajqR",
        "outputId": "3c1546bf-38f0-4a5a-e5e3-43840de69d33"
      },
      "execution_count": 3,
      "outputs": [
        {
          "output_type": "execute_result",
          "data": {
            "text/plain": [
              "15"
            ]
          },
          "metadata": {},
          "execution_count": 3
        }
      ]
    },
    {
      "cell_type": "code",
      "source": [
        "# gives error - numeric + string = ?\n",
        "b + 5"
      ],
      "metadata": {
        "colab": {
          "base_uri": "https://localhost:8080/",
          "height": 162
        },
        "id": "qFknt-85amk4",
        "outputId": "60a2df8b-1777-4cd2-bed5-0f94b37d721d"
      },
      "execution_count": 4,
      "outputs": [
        {
          "output_type": "error",
          "ename": "TypeError",
          "evalue": "can only concatenate str (not \"int\") to str",
          "traceback": [
            "\u001b[0;31m---------------------------------------------------------------------------\u001b[0m",
            "\u001b[0;31mTypeError\u001b[0m                                 Traceback (most recent call last)",
            "\u001b[0;32m<ipython-input-4-82b95dd9f545>\u001b[0m in \u001b[0;36m<cell line: 2>\u001b[0;34m()\u001b[0m\n\u001b[1;32m      1\u001b[0m \u001b[0;31m# gives error - numeric + string = ?\u001b[0m\u001b[0;34m\u001b[0m\u001b[0;34m\u001b[0m\u001b[0m\n\u001b[0;32m----> 2\u001b[0;31m \u001b[0mb\u001b[0m \u001b[0;34m+\u001b[0m \u001b[0;36m5\u001b[0m\u001b[0;34m\u001b[0m\u001b[0;34m\u001b[0m\u001b[0m\n\u001b[0m",
            "\u001b[0;31mTypeError\u001b[0m: can only concatenate str (not \"int\") to str"
          ]
        }
      ]
    },
    {
      "cell_type": "markdown",
      "source": [
        "### The boolean type\n",
        "\n",
        "Booleans can only be `True` or `False`. A range of operators *always* return a boolean:\n",
        "\n",
        "- `<` less than\n",
        "- `>` greater than\n",
        "- `==` equals\n",
        "- `<=` less than or equal\n",
        "- `>=` greater than or equal\n",
        "- `not` negates the boolean"
      ],
      "metadata": {
        "id": "PspzXUBw4xv3"
      }
    },
    {
      "cell_type": "code",
      "source": [
        "this_is_true = 5 > 2\n",
        "\n",
        "print(this_is_true)"
      ],
      "metadata": {
        "colab": {
          "base_uri": "https://localhost:8080/"
        },
        "id": "8QjF23435amt",
        "outputId": "33b03035-e160-4dd1-be31-f6d0cbe1b4f6"
      },
      "execution_count": 5,
      "outputs": [
        {
          "output_type": "stream",
          "name": "stdout",
          "text": [
            "True\n"
          ]
        }
      ]
    },
    {
      "cell_type": "code",
      "source": [
        "print(not this_is_true)"
      ],
      "metadata": {
        "id": "xwn7K3pl5k-w",
        "colab": {
          "base_uri": "https://localhost:8080/"
        },
        "outputId": "c4eb5d67-784f-4512-8bd6-09e6488f36e5"
      },
      "execution_count": 6,
      "outputs": [
        {
          "output_type": "stream",
          "name": "stdout",
          "text": [
            "False\n"
          ]
        }
      ]
    },
    {
      "cell_type": "markdown",
      "source": [
        "## Defining functions"
      ],
      "metadata": {
        "id": "4CJ_yVXm5rjm"
      }
    },
    {
      "cell_type": "code",
      "source": [
        "def say_hello(name): # say_hello is the name of the function. name is a placeholder variable - the name used for the input (argumet)\n",
        "  print(\"Hello \" + \"there \" + name) # the function concatenates/pastes the strings \"Hello \", \"there \" and the input variable (name). Notice the strings contain spaces.\n",
        "  return"
      ],
      "metadata": {
        "id": "HFtwID6EapAq"
      },
      "execution_count": 7,
      "outputs": []
    },
    {
      "cell_type": "code",
      "source": [
        "# running the function with \"Mathieu\" as input\n",
        "say_hello(\"Mathieu\")"
      ],
      "metadata": {
        "colab": {
          "base_uri": "https://localhost:8080/"
        },
        "id": "QrYZqeFVeOxi",
        "outputId": "01aab42e-0589-406f-e1ad-e48dc1f4e81c"
      },
      "execution_count": 8,
      "outputs": [
        {
          "output_type": "stream",
          "name": "stdout",
          "text": [
            "Hello there Mathieu\n"
          ]
        }
      ]
    },
    {
      "cell_type": "markdown",
      "source": [
        "## Cell order vs. running order\n",
        "\n",
        "In Python notebooks, cells can be ordered in any way you want and run in any order you want. As soon as a code cell is run, it will be assigned a running number (the number in the square brackets [] to the right of the code cell). Removing a code cell does not remove whatever variables were defined in the code cell.\n",
        "\n",
        "Good practice entails making sure that the cell order reflects the running order. Otherwise you risk ending up in a situation where code works while in the same session but it may not work in a new session because some cell accidentally was deleted at some point.\n",
        "\n",
        "The example below is purely illustrative:\n",
        "\n",
        "Imagine you have written a lot of code that you are using to produce your analysis (`my_entire_phd`). This code expects a variable defined outside the function (`really_important_variable`). Assume, then, that you keep working on your code but during this work, you accidentally deletes the cell defining `really_important_variable`. As long as you are in the same session, all the code will still work, as the variable is still defined (part of the vocabulary - the \"namespace\"). When you restart the session and run the cells again, the code will all the sudden not work anymore, as the cell with `really_important_variable` was lost."
      ],
      "metadata": {
        "id": "ovAcGvuz6iVW"
      }
    },
    {
      "cell_type": "code",
      "source": [
        "# I hope I don't lose this\n",
        "really_important_variable = 42"
      ],
      "metadata": {
        "id": "ozd4JBgqeeqN"
      },
      "execution_count": 9,
      "outputs": []
    },
    {
      "cell_type": "code",
      "source": [
        "def my_entire_phd(mywork):\n",
        "  some_work = (mywork + 4 + 4 + 2)*2\n",
        "\n",
        "  really_important_result = really_important_variable + some_work\n",
        "\n",
        "  return(really_important_result)\n",
        "\n"
      ],
      "metadata": {
        "id": "hvRp07yefeLR"
      },
      "execution_count": 10,
      "outputs": []
    },
    {
      "cell_type": "code",
      "source": [
        "my_entire_phd(9000)"
      ],
      "metadata": {
        "colab": {
          "base_uri": "https://localhost:8080/"
        },
        "id": "WczwEbp_fwRo",
        "outputId": "a2e91ff9-4d51-43d1-936a-5b5f77c98d3e"
      },
      "execution_count": 11,
      "outputs": [
        {
          "output_type": "execute_result",
          "data": {
            "text/plain": [
              "18062"
            ]
          },
          "metadata": {},
          "execution_count": 11
        }
      ]
    },
    {
      "cell_type": "markdown",
      "source": [
        "## Hands-on: Defining a function\n",
        "\n",
        "How can we create a function that calculates the area of a circle from a given radius?\n",
        "\n",
        "$A = pi∗r^2$"
      ],
      "metadata": {
        "id": "Y7fnDh58hB9f"
      }
    },
    {
      "cell_type": "code",
      "source": [
        "def area(r): # function is called \"area\". \"r\" is the name of the placeholder variable\n",
        "\n",
        "  pi=3.1415926 # python does not know the pi value so it is defined within the function\n",
        "\n",
        "  calc = pi*r**2 # calculating the area based on input r and pi as defined above\n",
        "\n",
        "  return(calc) # return the calculation"
      ],
      "metadata": {
        "id": "F_X4ou5FgMYi"
      },
      "execution_count": 12,
      "outputs": []
    },
    {
      "cell_type": "code",
      "source": [
        "# using the function\n",
        "area(8)"
      ],
      "metadata": {
        "colab": {
          "base_uri": "https://localhost:8080/"
        },
        "id": "_qtaA28IhyZd",
        "outputId": "545035b4-4618-46e8-e8de-0c5645027996"
      },
      "execution_count": 13,
      "outputs": [
        {
          "output_type": "execute_result",
          "data": {
            "text/plain": [
              "201.0619264"
            ]
          },
          "metadata": {},
          "execution_count": 13
        }
      ]
    },
    {
      "cell_type": "markdown",
      "source": [
        "## Packages\n",
        "\n",
        "Packages are imported using `import` followed by the package name."
      ],
      "metadata": {
        "id": "R5i1A_7b9JB4"
      }
    },
    {
      "cell_type": "code",
      "source": [
        "import math"
      ],
      "metadata": {
        "id": "aM4h2MgVjyZr"
      },
      "execution_count": 14,
      "outputs": []
    },
    {
      "cell_type": "code",
      "source": [
        "# pi can now be accessed from the math package\n",
        "\n",
        "math.pi"
      ],
      "metadata": {
        "colab": {
          "base_uri": "https://localhost:8080/"
        },
        "id": "eFKk3h67kHEH",
        "outputId": "1229e410-db0c-45e2-94dd-4d4799ac8565"
      },
      "execution_count": 15,
      "outputs": [
        {
          "output_type": "execute_result",
          "data": {
            "text/plain": [
              "3.141592653589793"
            ]
          },
          "metadata": {},
          "execution_count": 15
        }
      ]
    },
    {
      "cell_type": "code",
      "source": [
        "# Version 2 of the area function using pi from the math package\n",
        "def areav2(r):\n",
        "\n",
        "  calc = math.pi*r**2\n",
        "\n",
        "  return(calc)"
      ],
      "metadata": {
        "id": "1vuGMQuZkOIo"
      },
      "execution_count": 16,
      "outputs": []
    },
    {
      "cell_type": "code",
      "source": [
        "# using the function\n",
        "areav2(8)"
      ],
      "metadata": {
        "colab": {
          "base_uri": "https://localhost:8080/"
        },
        "id": "DsoMnGPekbTT",
        "outputId": "0e08c531-be8e-4d00-c3a1-2917d43b4f4b"
      },
      "execution_count": 17,
      "outputs": [
        {
          "output_type": "execute_result",
          "data": {
            "text/plain": [
              "201.06192982974676"
            ]
          },
          "metadata": {},
          "execution_count": 17
        }
      ]
    },
    {
      "cell_type": "code",
      "source": [
        "# importing specific function/variables from a package\n",
        "\n",
        "from math import pi"
      ],
      "metadata": {
        "id": "6VZUjf4RkcjM"
      },
      "execution_count": 18,
      "outputs": []
    },
    {
      "cell_type": "code",
      "source": [
        "pi"
      ],
      "metadata": {
        "colab": {
          "base_uri": "https://localhost:8080/"
        },
        "id": "OahQY7Gvk2Zc",
        "outputId": "18c06edb-c4d8-47e9-eb41-b70a1bd55f76"
      },
      "execution_count": 19,
      "outputs": [
        {
          "output_type": "execute_result",
          "data": {
            "text/plain": [
              "3.141592653589793"
            ]
          },
          "metadata": {},
          "execution_count": 19
        }
      ]
    },
    {
      "cell_type": "code",
      "source": [
        "# importing and assigning a nickname (silly example)\n",
        "\n",
        "from math import pi as ploptidoo"
      ],
      "metadata": {
        "id": "kwttlrZnk790"
      },
      "execution_count": 20,
      "outputs": []
    },
    {
      "cell_type": "code",
      "source": [
        "ploptidoo"
      ],
      "metadata": {
        "colab": {
          "base_uri": "https://localhost:8080/"
        },
        "id": "dAakIseYlYR_",
        "outputId": "c165c882-7d46-4883-9802-9fefc5e76fa4"
      },
      "execution_count": 21,
      "outputs": [
        {
          "output_type": "execute_result",
          "data": {
            "text/plain": [
              "3.141592653589793"
            ]
          },
          "metadata": {},
          "execution_count": 21
        }
      ]
    },
    {
      "cell_type": "markdown",
      "source": [
        "## Lists\n",
        "\n",
        "Lists are defined using `[]` with elements separated by `,`.\n",
        "\n",
        "Each element in a list is assigned an index based on the order of the elements. Indices start with 0."
      ],
      "metadata": {
        "id": "kczvJNuo9j2S"
      }
    },
    {
      "cell_type": "code",
      "source": [
        "numbers = [3,5,7,9,10]"
      ],
      "metadata": {
        "id": "nnpbo6KbohaH"
      },
      "execution_count": 22,
      "outputs": []
    },
    {
      "cell_type": "code",
      "source": [
        "numbers"
      ],
      "metadata": {
        "colab": {
          "base_uri": "https://localhost:8080/"
        },
        "id": "I5TTLuw-qSfx",
        "outputId": "53b1998a-691b-4237-8b03-caf1a9425ccc"
      },
      "execution_count": 23,
      "outputs": [
        {
          "output_type": "execute_result",
          "data": {
            "text/plain": [
              "[3, 5, 7, 9, 10]"
            ]
          },
          "metadata": {},
          "execution_count": 23
        }
      ]
    },
    {
      "cell_type": "code",
      "source": [
        "numbers[0] # accessing the first element - index 0"
      ],
      "metadata": {
        "colab": {
          "base_uri": "https://localhost:8080/"
        },
        "id": "g9_eDcFrqU6B",
        "outputId": "1fe2d173-80ac-40dd-f941-6abf36bb6142"
      },
      "execution_count": 24,
      "outputs": [
        {
          "output_type": "execute_result",
          "data": {
            "text/plain": [
              "3"
            ]
          },
          "metadata": {},
          "execution_count": 24
        }
      ]
    },
    {
      "cell_type": "code",
      "source": [
        "numbers[4] # accessing the last element - index 4"
      ],
      "metadata": {
        "colab": {
          "base_uri": "https://localhost:8080/"
        },
        "id": "AAGcldu0qjEd",
        "outputId": "5ded08f3-9cf1-46fc-88c8-d44d843b6eb7"
      },
      "execution_count": 25,
      "outputs": [
        {
          "output_type": "execute_result",
          "data": {
            "text/plain": [
              "10"
            ]
          },
          "metadata": {},
          "execution_count": 25
        }
      ]
    },
    {
      "cell_type": "code",
      "source": [
        "numbers[0] * 2 # operation on specific element (does not change the element)"
      ],
      "metadata": {
        "colab": {
          "base_uri": "https://localhost:8080/"
        },
        "id": "2QYjqMEFqujK",
        "outputId": "31968bf5-1c8c-462d-903f-569facd2ce80"
      },
      "execution_count": 26,
      "outputs": [
        {
          "output_type": "execute_result",
          "data": {
            "text/plain": [
              "6"
            ]
          },
          "metadata": {},
          "execution_count": 26
        }
      ]
    },
    {
      "cell_type": "code",
      "source": [
        "things = [27, \"hej\", True, [2,3,4]] # list with mixed types: numeric, string, boolean, list"
      ],
      "metadata": {
        "id": "55tWE8n7q1lU"
      },
      "execution_count": 27,
      "outputs": []
    },
    {
      "cell_type": "code",
      "source": [
        "things"
      ],
      "metadata": {
        "colab": {
          "base_uri": "https://localhost:8080/"
        },
        "id": "68mMrQ9frFsc",
        "outputId": "4d08d519-490c-4295-e8c1-360457ec13bb"
      },
      "execution_count": 28,
      "outputs": [
        {
          "output_type": "execute_result",
          "data": {
            "text/plain": [
              "[27, 'hej', True, [2, 3, 4]]"
            ]
          },
          "metadata": {},
          "execution_count": 28
        }
      ]
    },
    {
      "cell_type": "code",
      "source": [
        "things[1]"
      ],
      "metadata": {
        "colab": {
          "base_uri": "https://localhost:8080/",
          "height": 35
        },
        "id": "0gePzc_FrGsw",
        "outputId": "58b4133b-1580-4832-dbdd-b3582156e215"
      },
      "execution_count": 29,
      "outputs": [
        {
          "output_type": "execute_result",
          "data": {
            "text/plain": [
              "'hej'"
            ],
            "application/vnd.google.colaboratory.intrinsic+json": {
              "type": "string"
            }
          },
          "metadata": {},
          "execution_count": 29
        }
      ]
    },
    {
      "cell_type": "code",
      "source": [
        "things[3][1] # last item (index 3) is a list which also can be indexed"
      ],
      "metadata": {
        "colab": {
          "base_uri": "https://localhost:8080/"
        },
        "id": "JAeW3XRfrJ0M",
        "outputId": "acb61ce6-6f66-4077-cb9a-f78666a3471c"
      },
      "execution_count": 30,
      "outputs": [
        {
          "output_type": "execute_result",
          "data": {
            "text/plain": [
              "3"
            ]
          },
          "metadata": {},
          "execution_count": 30
        }
      ]
    },
    {
      "cell_type": "markdown",
      "source": [
        "## Dictionaries\n",
        "\n",
        "Dictionaries store data in key-value pairs. They are defined using `{}`. Keys are input as strings; values added following the `:`. Each key-value pair is separated by a comma `,`.\n",
        "\n",
        "Keys in a dictionary must be unique.\n",
        "\n",
        "Values can be of any type (including other dictionaries).\n",
        "\n",
        "Dictionaries correspond to the JSON data format."
      ],
      "metadata": {
        "id": "1ER47pFL-Mif"
      }
    },
    {
      "cell_type": "code",
      "source": [
        "student_ages = {\n",
        "    \"Alice\": 29,\n",
        "    \"Ole\": 41,\n",
        "    \"Yurgio\": 33,\n",
        "    \"Unknown\": [\"Carl\", \"Maria\", \"Frido\"], # a list\n",
        "    \"Aalborg\": { # another dictionary\n",
        "        \"Rolf\": 38,\n",
        "        \"Kristian\": 35\n",
        "    }\n",
        "}"
      ],
      "metadata": {
        "id": "f92TdJRhrLly"
      },
      "execution_count": 31,
      "outputs": []
    },
    {
      "cell_type": "code",
      "source": [
        "student_ages"
      ],
      "metadata": {
        "id": "SLiLmVNi_L8Y",
        "colab": {
          "base_uri": "https://localhost:8080/"
        },
        "outputId": "1c3b1241-577f-468e-d4e7-676c7345b12f"
      },
      "execution_count": 32,
      "outputs": [
        {
          "output_type": "execute_result",
          "data": {
            "text/plain": [
              "{'Alice': 29,\n",
              " 'Ole': 41,\n",
              " 'Yurgio': 33,\n",
              " 'Unknown': ['Carl', 'Maria', 'Frido'],\n",
              " 'Aalborg': {'Rolf': 38, 'Kristian': 35}}"
            ]
          },
          "metadata": {},
          "execution_count": 32
        }
      ]
    },
    {
      "cell_type": "code",
      "source": [
        "student_ages[\"Unknown\"] # accessing the element with key \"Unknown\" - the list"
      ],
      "metadata": {
        "colab": {
          "base_uri": "https://localhost:8080/"
        },
        "id": "zGJSWrJqsSGe",
        "outputId": "2e2eeda7-7e20-4f02-86e4-9ccfdb5c84aa"
      },
      "execution_count": 33,
      "outputs": [
        {
          "output_type": "execute_result",
          "data": {
            "text/plain": [
              "['Carl', 'Maria', 'Frido']"
            ]
          },
          "metadata": {},
          "execution_count": 33
        }
      ]
    },
    {
      "cell_type": "code",
      "source": [
        "student_ages[\"Tom\"] = 10 # adding a new key to the list (Tom) with value 10"
      ],
      "metadata": {
        "id": "UKur3CIItsO9"
      },
      "execution_count": 34,
      "outputs": []
    },
    {
      "cell_type": "code",
      "source": [
        "student_ages"
      ],
      "metadata": {
        "colab": {
          "base_uri": "https://localhost:8080/"
        },
        "id": "-dfLxBOuty1p",
        "outputId": "c0f3962e-4ae8-4dfc-b496-bf75e5899552"
      },
      "execution_count": 35,
      "outputs": [
        {
          "output_type": "execute_result",
          "data": {
            "text/plain": [
              "{'Alice': 29,\n",
              " 'Ole': 41,\n",
              " 'Yurgio': 33,\n",
              " 'Unknown': ['Carl', 'Maria', 'Frido'],\n",
              " 'Aalborg': {'Rolf': 38, 'Kristian': 35},\n",
              " 'Tom': 10}"
            ]
          },
          "metadata": {},
          "execution_count": 35
        }
      ]
    },
    {
      "cell_type": "code",
      "source": [
        "student_ages[\"Unknown\"].append(\"Paul\") # adding element to the \"Unknown\"-list"
      ],
      "metadata": {
        "id": "U7ArvTTQyo3W"
      },
      "execution_count": 36,
      "outputs": []
    },
    {
      "cell_type": "code",
      "source": [
        "student_ages"
      ],
      "metadata": {
        "colab": {
          "base_uri": "https://localhost:8080/"
        },
        "id": "0n3UArWv_aVQ",
        "outputId": "39a9c191-e531-472e-ba36-85c6e182d845"
      },
      "execution_count": 37,
      "outputs": [
        {
          "output_type": "execute_result",
          "data": {
            "text/plain": [
              "{'Alice': 29,\n",
              " 'Ole': 41,\n",
              " 'Yurgio': 33,\n",
              " 'Unknown': ['Carl', 'Maria', 'Frido', 'Paul'],\n",
              " 'Aalborg': {'Rolf': 38, 'Kristian': 35},\n",
              " 'Tom': 10}"
            ]
          },
          "metadata": {},
          "execution_count": 37
        }
      ]
    },
    {
      "cell_type": "markdown",
      "source": [
        "## Sets\n",
        "\n",
        "`{}` are also used to define sets. Sets are collection of unique values."
      ],
      "metadata": {
        "id": "1zHXIn_p_gyN"
      }
    },
    {
      "cell_type": "code",
      "source": [
        "something = {2,3,4,4}"
      ],
      "metadata": {
        "id": "2GY7vYE6vJuS"
      },
      "execution_count": 38,
      "outputs": []
    },
    {
      "cell_type": "code",
      "source": [
        "something\n"
      ],
      "metadata": {
        "colab": {
          "base_uri": "https://localhost:8080/"
        },
        "id": "XtrJEQlGvN8x",
        "outputId": "82a55eb4-2726-47fb-a6b0-80442751ccf5"
      },
      "execution_count": 39,
      "outputs": [
        {
          "output_type": "execute_result",
          "data": {
            "text/plain": [
              "{2, 3, 4}"
            ]
          },
          "metadata": {},
          "execution_count": 39
        }
      ]
    },
    {
      "cell_type": "markdown",
      "source": [
        "## Classes\n",
        "\n",
        "All variables are instances of a specific *class* with its own attributes and methods.\n",
        "\n",
        "Classes differ in terms of how calling a method affects the variable."
      ],
      "metadata": {
        "id": "hvZJTnPI_zQ9"
      }
    },
    {
      "cell_type": "code",
      "source": [
        "word = \"tree\" # instance of a string class\n",
        "things = [3,6,8] # instance of a list class"
      ],
      "metadata": {
        "id": "CevqWXrytci6"
      },
      "execution_count": 40,
      "outputs": []
    },
    {
      "cell_type": "code",
      "source": [
        "word.upper() # strings contain string manipulation methods like .upper() - converts to upper-case"
      ],
      "metadata": {
        "colab": {
          "base_uri": "https://localhost:8080/",
          "height": 35
        },
        "id": "H4K6Kg2FxJUl",
        "outputId": "77a1f949-02d1-498b-dc31-8346ae55fda4"
      },
      "execution_count": 41,
      "outputs": [
        {
          "output_type": "execute_result",
          "data": {
            "text/plain": [
              "'TREE'"
            ],
            "application/vnd.google.colaboratory.intrinsic+json": {
              "type": "string"
            }
          },
          "metadata": {},
          "execution_count": 41
        }
      ]
    },
    {
      "cell_type": "code",
      "source": [
        "word # notice that the variable has not changed by calling the method"
      ],
      "metadata": {
        "colab": {
          "base_uri": "https://localhost:8080/",
          "height": 35
        },
        "id": "usjEsBfMxVaa",
        "outputId": "71cf5105-209c-460f-8472-8d3c790183fc"
      },
      "execution_count": 42,
      "outputs": [
        {
          "output_type": "execute_result",
          "data": {
            "text/plain": [
              "'tree'"
            ],
            "application/vnd.google.colaboratory.intrinsic+json": {
              "type": "string"
            }
          },
          "metadata": {},
          "execution_count": 42
        }
      ]
    },
    {
      "cell_type": "code",
      "source": [
        "things.append(12) # lists contain the .append() method for adding elements to a list"
      ],
      "metadata": {
        "id": "Sddwl7BgxZ0L"
      },
      "execution_count": 43,
      "outputs": []
    },
    {
      "cell_type": "code",
      "source": [
        "things # notice that the variable has been changed - 12 is not added to the list"
      ],
      "metadata": {
        "colab": {
          "base_uri": "https://localhost:8080/"
        },
        "id": "GcVEkb6ZyChQ",
        "outputId": "1add59c1-5218-49cb-fcb9-7e79dee2c443"
      },
      "execution_count": 44,
      "outputs": [
        {
          "output_type": "execute_result",
          "data": {
            "text/plain": [
              "[3, 6, 8, 12]"
            ]
          },
          "metadata": {},
          "execution_count": 44
        }
      ]
    },
    {
      "cell_type": "markdown",
      "source": [
        "## if-else statements"
      ],
      "metadata": {
        "id": "cqW4WI6lAcgl"
      }
    },
    {
      "cell_type": "code",
      "source": [
        "age = 20\n",
        "\n",
        "if age < 18: # if the variable age is below 18 (evaluate to True), execute the code below (notice the indent)\n",
        "  print(\"Minor\")\n",
        "elif age >= 18: # if the variable age if above or equals 18, execure the code below\n",
        "  print(\"Adult\")\n",
        "else: # if all conditions evaluate to False, execute the code below\n",
        "  print(\"whatever\")"
      ],
      "metadata": {
        "colab": {
          "base_uri": "https://localhost:8080/"
        },
        "id": "NJqJqqVX7bms",
        "outputId": "bc8c51f9-176d-4126-9fb7-921d4e4bba92"
      },
      "execution_count": 45,
      "outputs": [
        {
          "output_type": "stream",
          "name": "stdout",
          "text": [
            "Adult\n"
          ]
        }
      ]
    },
    {
      "cell_type": "markdown",
      "source": [
        "## Functions and keyword arguments\n",
        "\n",
        "Functions can have many different arguments (input). Functions can have both non-keyword arguments and keyword arguments. Keyword arguments are named arguments that are usually assigned some default value. This means than when running the function without setting the keyword arguments, you are running the function with whatever the default setting is for those keyword arguments.\n",
        "\n",
        "**Example with print**\n",
        "\n",
        "The `print()` function prints out variables. Each variable to be printed is separated by comma `,`. These are the non-keyword arguments.\n",
        "\n",
        "`print()` also has a range of keyword-arguments, including `sep`. This argument sets what character(s) should separate the variables to be printed. The default `sep = ' '` (separate by a space) is how the function is run if it is not changed when running the function, but it can be changed to something else."
      ],
      "metadata": {
        "id": "-Y00Xn-kCuTM"
      }
    },
    {
      "cell_type": "code",
      "source": [
        "print(\"hello\", \"there\", \"darth\")"
      ],
      "metadata": {
        "colab": {
          "base_uri": "https://localhost:8080/"
        },
        "id": "t-oo1UIc-LSm",
        "outputId": "78359f64-40fc-4295-e09a-71b1ab3f71a2"
      },
      "execution_count": 46,
      "outputs": [
        {
          "output_type": "stream",
          "name": "stdout",
          "text": [
            "hello there darth\n"
          ]
        }
      ]
    },
    {
      "cell_type": "code",
      "source": [
        "print(\"hello\", \"there\", \"darth\", sep = \"-\")"
      ],
      "metadata": {
        "colab": {
          "base_uri": "https://localhost:8080/"
        },
        "id": "uSnKiSGz8u8C",
        "outputId": "11ae681e-f97e-495e-ad52-1a85d5306481"
      },
      "execution_count": 47,
      "outputs": [
        {
          "output_type": "stream",
          "name": "stdout",
          "text": [
            "hello-there-darth\n"
          ]
        }
      ]
    },
    {
      "cell_type": "markdown",
      "source": [
        "## Hands-on: Writing a function using data and control structures\n",
        "\n",
        "Write a function that returns all even numbers in a list of numbers.\n",
        "\n",
        "*Tip*: Use % for remainder division (fx 9%2 will return 1 as there is only 1 left after 9 has been divided by 2)."
      ],
      "metadata": {
        "id": "EIGMf_tD-bOY"
      }
    },
    {
      "cell_type": "code",
      "source": [
        "def even_numbers(input_list): # even_numbers is the name of the function; input_list the placeholder variable (main argument)\n",
        "\n",
        "  even_number_list = [] # create an empty list inside the function - used to store the even numbers\n",
        "\n",
        "  for e in input_list: # iterate over numbers in the input list with \"e\" as a placeholder\n",
        "\n",
        "    remainder = e%2 # using remainder division on number in list (e)\n",
        "\n",
        "    if remainder == 0: # if the remainder == 0 (i.e. the number is even), execute the code below\n",
        "      even_number_list.append(e) # add the number to the even_number_list\n",
        "\n",
        "  return(even_number_list) # return the list - notice the indent! Should be the same indent as the for-statement. If further indented, it will return after running through the first number"
      ],
      "metadata": {
        "id": "xRtQmsblErDU"
      },
      "execution_count": 48,
      "outputs": []
    },
    {
      "cell_type": "code",
      "source": [
        "# list of numbers\n",
        "numbers = [2,52,3,15,976,231,251,24,57,10]"
      ],
      "metadata": {
        "id": "lgc8Ns8VFlEC"
      },
      "execution_count": 49,
      "outputs": []
    },
    {
      "cell_type": "code",
      "source": [
        "# run the function and store output in new list\n",
        "keep_numbers = even_numbers(numbers)"
      ],
      "metadata": {
        "id": "l7IlvJW1Ft1X"
      },
      "execution_count": 50,
      "outputs": []
    },
    {
      "cell_type": "code",
      "source": [
        "keep_numbers"
      ],
      "metadata": {
        "id": "D9W6CqL5G0SH",
        "outputId": "68ea0aaa-3f36-4d91-bec7-5dc738b64ff6",
        "colab": {
          "base_uri": "https://localhost:8080/"
        }
      },
      "execution_count": 51,
      "outputs": [
        {
          "output_type": "execute_result",
          "data": {
            "text/plain": [
              "[2, 52, 976, 24, 10]"
            ]
          },
          "metadata": {},
          "execution_count": 51
        }
      ]
    },
    {
      "cell_type": "code",
      "source": [],
      "metadata": {
        "id": "y3faeVXnG2N0"
      },
      "execution_count": null,
      "outputs": []
    }
  ]
}