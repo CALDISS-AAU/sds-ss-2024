{
  "nbformat": 4,
  "nbformat_minor": 0,
  "metadata": {
    "colab": {
      "provenance": []
    },
    "kernelspec": {
      "name": "python3",
      "display_name": "Python 3"
    },
    "language_info": {
      "name": "python"
    }
  },
  "cells": [
    {
      "cell_type": "code",
      "source": [
        "# Install required packages if not already installed\n",
        "!pip install newspaper3k aiohttp tqdm -qqq"
      ],
      "metadata": {
        "id": "d2ZAoq95G7Vh"
      },
      "execution_count": null,
      "outputs": []
    },
    {
      "cell_type": "code",
      "source": [
        "# Wired Article Scraper Notebook\n",
        "\n",
        "import asyncio\n",
        "import aiohttp\n",
        "from newspaper import Article\n",
        "import pandas as pd\n",
        "from tqdm.notebook import tqdm\n",
        "import nest_asyncio"
      ],
      "metadata": {
        "id": "Bza4wgZhG90i"
      },
      "execution_count": null,
      "outputs": []
    },
    {
      "cell_type": "code",
      "source": [
        "# Apply nest_asyncio to allow asyncio to work in Jupyter\n",
        "nest_asyncio.apply()"
      ],
      "metadata": {
        "id": "yltT3kJKIdqg"
      },
      "execution_count": null,
      "outputs": []
    },
    {
      "cell_type": "code",
      "source": [
        "# Function to extract text from a single URL\n",
        "async def extract_article_text(session, url):\n",
        "    try:\n",
        "        headers = {\n",
        "            'User-Agent': 'Mozilla/5.0 (Windows NT 10.0; Win64; x64) AppleWebKit/537.36 (KHTML, like Gecko) Chrome/91.0.4472.124 Safari/537.36'\n",
        "        }\n",
        "\n",
        "        async with session.get(url, headers=headers) as response:\n",
        "            html = await response.text()\n",
        "            article = Article(url)\n",
        "            article.set_html(html)\n",
        "            article.parse()\n",
        "\n",
        "            return {\n",
        "                'url': url,\n",
        "                'title': article.title,\n",
        "                'text': article.text,\n",
        "                'authors': article.authors,\n",
        "                'publish_date': article.publish_date\n",
        "            }\n",
        "    except Exception as e:\n",
        "        print(f\"Error processing {url}: {str(e)}\")\n",
        "        return None\n"
      ],
      "metadata": {
        "id": "vS7eia_LG_qG"
      },
      "execution_count": null,
      "outputs": []
    },
    {
      "cell_type": "code",
      "source": [
        "# Main function to process all URLs\n",
        "async def process_urls(urls):\n",
        "    async with aiohttp.ClientSession() as session:\n",
        "        tasks = []\n",
        "        for url in urls:\n",
        "            task = asyncio.ensure_future(extract_article_text(session, url))\n",
        "            tasks.append(task)\n",
        "\n",
        "        results = []\n",
        "        for future in tqdm(asyncio.as_completed(tasks), total=len(tasks), desc=\"Processing articles\"):\n",
        "            result = await future\n",
        "            if result:\n",
        "                results.append(result)\n",
        "            # Add a small delay between requests\n",
        "            await asyncio.sleep(1)\n",
        "\n",
        "        return results"
      ],
      "metadata": {
        "id": "bslLdTMBHz9A"
      },
      "execution_count": null,
      "outputs": []
    },
    {
      "cell_type": "code",
      "source": [
        "# Load your URLs (replace this with your actual method of loading URLs)\n",
        "urls = [\n",
        "    \"https://www.wired.com/story/applebot-extended-apple-ai-scraping/\",\n",
        "    \"https://www.wired.com/story/undress-app-ai-harm-google-apple-login/\",\n",
        "    # Add more URLs here\n",
        "]"
      ],
      "metadata": {
        "id": "4cbY6iYsH8c4"
      },
      "execution_count": null,
      "outputs": []
    },
    {
      "cell_type": "code",
      "source": [
        "# Run the async function\n",
        "results = asyncio.run(process_urls(urls))"
      ],
      "metadata": {
        "id": "lx4dBrGwIKTV"
      },
      "execution_count": null,
      "outputs": []
    },
    {
      "cell_type": "code",
      "source": [
        "# Convert results to a DataFrame\n",
        "df = pd.DataFrame(results)"
      ],
      "metadata": {
        "id": "1wBKwAOOIvRo"
      },
      "execution_count": null,
      "outputs": []
    },
    {
      "cell_type": "code",
      "source": [
        "# Display the first few rows\n",
        "df.head()"
      ],
      "metadata": {
        "id": "4kE_YM48Iw0F"
      },
      "execution_count": null,
      "outputs": []
    },
    {
      "cell_type": "code",
      "source": [
        "# Save to a parquet file\n",
        "df.to_parquet('wired_articles.parquet', index=False)"
      ],
      "metadata": {
        "id": "oW4jeh_0JBVv"
      },
      "execution_count": null,
      "outputs": []
    }
  ]
}