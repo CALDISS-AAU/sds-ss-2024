{
 "cells": [
  {
   "cell_type": "markdown",
   "id": "0a5251a1-0ded-4948-92a0-af8d9ca0066e",
   "metadata": {
    "editable": true,
    "slideshow": {
     "slide_type": "slide"
    },
    "tags": []
   },
   "source": [
    "# Introduction to Python"
   ]
  },
  {
   "cell_type": "markdown",
   "id": "7f51db9a-f86e-491d-8b91-2f6a8a750301",
   "metadata": {
    "editable": true,
    "jp-MarkdownHeadingCollapsed": true,
    "slideshow": {
     "slide_type": "slide"
    },
    "tags": []
   },
   "source": [
    "## Program\n",
    "\n",
    "- What is Python?\n",
    "- Interacting with Python with Jupyter Notebooks (via Google Colab)\n",
    "- Basic concepts (variables, types, functions, classes)\n",
    "- Basic data structures (lists, dictionaries)\n",
    "- Basic control structures (if-statements and loops)\n",
    "- Introduction to pandas data frames"
   ]
  },
  {
   "cell_type": "markdown",
   "id": "dec523e7-5c22-4f68-8533-9b582df638c9",
   "metadata": {
    "editable": true,
    "slideshow": {
     "slide_type": "slide"
    },
    "tags": []
   },
   "source": [
    "## What is python?\n",
    "\n",
    "- Python as a programming language\n",
    "- Python as an interpreter\n",
    "- One works with Python through commands that are evaluated\n",
    "- “Object-oriented”: Everything is defined as “variables” which can be used for different purposes depending on the type/class"
   ]
  },
  {
   "cell_type": "markdown",
   "id": "060f0092-a9a0-4a87-9dd2-c5a08bb2c75f",
   "metadata": {
    "editable": true,
    "slideshow": {
     "slide_type": "slide"
    },
    "tags": []
   },
   "source": [
    "## Python as a language\n",
    "\n",
    "Limited vocabulary - the rest \"made up\" or imported!\n",
    "\n",
    "```\n",
    "and       del       global     not    with\n",
    "as        elif      if         or    yield\n",
    "assert    else      import     pass\n",
    "break     except    in         raise\n",
    "class     finally   is         return\n",
    "continue  for       lambda     try\n",
    "def       from      nonlocal   while\n",
    "```"
   ]
  },
  {
   "cell_type": "markdown",
   "id": "b61ce702-c246-4b4e-9879-551ce1b3069a",
   "metadata": {
    "editable": true,
    "slideshow": {
     "slide_type": "slide"
    },
    "tags": []
   },
   "source": [
    "## Python as an interpreter\n",
    "\n",
    "Commands written in Python are evaluated by a \"python interpreter\".\n",
    "\n",
    "Very literal language: An error is given if the command is not understood."
   ]
  },
  {
   "cell_type": "markdown",
   "id": "d047084f-58ed-4e1d-9894-02b3a563768b",
   "metadata": {
    "editable": true,
    "slideshow": {
     "slide_type": "slide"
    },
    "tags": []
   },
   "source": [
    "## Python as “object-oriented”\n",
    "\n",
    "One interacts with Python by defining and redefining *objects*.\n",
    "\n",
    "*Objects* in Python are called *variables* - a name to call up information.\n",
    "\n",
    "All *variables* are a specific *class*.\n",
    "\n",
    "The *class* sets conditions for what the *variable* can."
   ]
  },
  {
   "cell_type": "markdown",
   "id": "d6720e43-12a3-4bd1-9847-7187ab350903",
   "metadata": {
    "editable": true,
    "slideshow": {
     "slide_type": "slide"
    },
    "tags": []
   },
   "source": [
    "![dog1](https://github.com/CALDISS-AAU/sds-ss-2024/raw/master/slides/img/python-dog_eng.png)"
   ]
  },
  {
   "cell_type": "code",
   "execution_count": 2,
   "id": "6934255e-7108-409b-8cc0-51b0ac6e4cdb",
   "metadata": {
    "editable": true,
    "slideshow": {
     "slide_type": ""
    },
    "tags": []
   },
   "outputs": [],
   "source": [
    "the_ball = [2, 4, 6, 10, 21]"
   ]
  },
  {
   "cell_type": "markdown",
   "id": "1879fab3-00cd-4c70-92c0-34709a646581",
   "metadata": {
    "editable": true,
    "slideshow": {
     "slide_type": "slide"
    },
    "tags": []
   },
   "source": [
    "<img src=\"https://github.com/CALDISS-AAU/sds-ss-2024/raw/master/slides/img/conf-dog_eng.png\" style=\"width: 65%;\" />"
   ]
  },
  {
   "cell_type": "code",
   "execution_count": 5,
   "id": "dd8b1eca-d0ed-41aa-b885-10235f733a09",
   "metadata": {
    "editable": true,
    "slideshow": {
     "slide_type": ""
    },
    "tags": []
   },
   "outputs": [
    {
     "ename": "NameError",
     "evalue": "name 'ball' is not defined",
     "output_type": "error",
     "traceback": [
      "\u001b[1;31m---------------------------------------------------------------------------\u001b[0m",
      "\u001b[1;31mNameError\u001b[0m                                 Traceback (most recent call last)",
      "Cell \u001b[1;32mIn[5], line 1\u001b[0m\n\u001b[1;32m----> 1\u001b[0m \u001b[38;5;28mprint\u001b[39m(\u001b[43mball\u001b[49m)\n",
      "\u001b[1;31mNameError\u001b[0m: name 'ball' is not defined"
     ]
    }
   ],
   "source": [
    "print(ball)"
   ]
  },
  {
   "cell_type": "markdown",
   "id": "afec9b58-4250-45e2-a284-4565078a925c",
   "metadata": {
    "editable": true,
    "slideshow": {
     "slide_type": "slide"
    },
    "tags": []
   },
   "source": [
    "![dog1](https://github.com/CALDISS-AAU/sds-ss-2024/raw/master/slides/img/dog-happy-text_eng.png)"
   ]
  },
  {
   "cell_type": "code",
   "execution_count": 6,
   "id": "392b6920-50d0-414c-8ca6-1e0f3eced7a0",
   "metadata": {
    "editable": true,
    "slideshow": {
     "slide_type": ""
    },
    "tags": []
   },
   "outputs": [
    {
     "name": "stdout",
     "output_type": "stream",
     "text": [
      "[2, 4, 6, 10, 21]\n"
     ]
    }
   ],
   "source": [
    "print(the_ball)"
   ]
  },
  {
   "cell_type": "markdown",
   "id": "aaaffc21-c24b-4dd4-aae4-e85d8658ecbe",
   "metadata": {
    "editable": true,
    "slideshow": {
     "slide_type": "slide"
    },
    "tags": []
   },
   "source": [
    "## Basic types\n",
    "\n",
    "Python provides several basic types that are used to differentiate between types of data.\n",
    "\n",
    "The most basic types are *numeric*, *string*, *boolean*.\n",
    "- Numeric: Includes numbers (integers, floats and complex)\n",
    "- Strings: Sequence of characters (like words)\n",
    "- Boolean: Can *only* be `True` or `False`. Used in control structures, filtering etc."
   ]
  },
  {
   "cell_type": "markdown",
   "id": "989cbaa5-790b-4460-8b2f-1f379014468d",
   "metadata": {
    "editable": true,
    "slideshow": {
     "slide_type": "slide"
    },
    "tags": []
   },
   "source": [
    "## Basic types\n",
    "\n",
    "Why do types matter?"
   ]
  },
  {
   "cell_type": "code",
   "execution_count": 9,
   "id": "4c2d365c-043e-4e14-8b4f-4844eb25cf74",
   "metadata": {
    "editable": true,
    "slideshow": {
     "slide_type": "fragment"
    },
    "tags": []
   },
   "outputs": [],
   "source": [
    "number_a = 5\n",
    "number_b = \"6\""
   ]
  },
  {
   "cell_type": "code",
   "execution_count": 10,
   "id": "65c588de-c8f5-4683-9fdf-59e4b1b240d4",
   "metadata": {
    "editable": true,
    "slideshow": {
     "slide_type": "fragment"
    },
    "tags": []
   },
   "outputs": [
    {
     "name": "stdout",
     "output_type": "stream",
     "text": [
      "10\n"
     ]
    }
   ],
   "source": [
    "print(number_a * 2)"
   ]
  },
  {
   "cell_type": "code",
   "execution_count": 11,
   "id": "e02f3738-f71c-401b-a38d-c79423d78bae",
   "metadata": {
    "editable": true,
    "slideshow": {
     "slide_type": "fragment"
    },
    "tags": []
   },
   "outputs": [
    {
     "name": "stdout",
     "output_type": "stream",
     "text": [
      "66\n"
     ]
    }
   ],
   "source": [
    "print(number_b * 2)"
   ]
  },
  {
   "cell_type": "markdown",
   "id": "c2d272ef-342c-4160-8e80-e4b3606cd61f",
   "metadata": {
    "editable": true,
    "slideshow": {
     "slide_type": "slide"
    },
    "tags": []
   },
   "source": [
    "## Functions and packages\n",
    "\n",
    "Defining variables is one way of expanding the Python vocabulary - remember: limited vocabulary initially!\n",
    "\n",
    "Other ways of expanding the vocabulary is by:\n",
    "- Writing functions\n",
    "- Importing packages (containing functions, variables, etc.)"
   ]
  },
  {
   "cell_type": "markdown",
   "id": "e1fb39bc-4ccc-4f76-a434-a6d92308c6bf",
   "metadata": {
    "editable": true,
    "slideshow": {
     "slide_type": "slide"
    },
    "tags": []
   },
   "source": [
    "## Writing functions\n",
    "\n",
    "A function is a block of code that runs when it is called.\n",
    "\r\n",
    "It can take parameters (inputs) and retr  nsome output. \n",
    "\n",
    "Functions are defined with `def` followed by a name for the function, followed by the parameters in parenthesis.\n",
    "\n",
    "When functios sare od return output, use `return`. Functions end when reaching a `return` statement."
   ]
  },
  {
   "cell_type": "code",
   "execution_count": 1,
   "id": "6ecabbb0-f633-406e-be25-3258f03ce8e2",
   "metadata": {
    "editable": true,
    "slideshow": {
     "slide_type": "fragment"
    },
    "tags": []
   },
   "outputs": [
    {
     "data": {
      "text/plain": [
       "9"
      ]
     },
     "execution_count": 1,
     "metadata": {},
     "output_type": "execute_result"
    }
   ],
   "source": [
    "def add_numbers(a, b):\n",
    "    result = a + b\n",
    "    return result\n",
    "\n",
    "add_numbers(2, 7)"
   ]
  },
  {
   "cell_type": "markdown",
   "id": "b046a3df-7c5d-41bd-bfe2-718a5a8c2204",
   "metadata": {
    "editable": true,
    "slideshow": {
     "slide_type": "slide"
    },
    "tags": []
   },
   "source": [
    "## Joint exercise: Simple problem solving with Python\n",
    "\n",
    "How can we create a function that calculates the area of a circle from a given radius?\n",
    "\n",
    "$ A = \\ pi * r^2 $"
   ]
  },
  {
   "cell_type": "markdown",
   "id": "01978f7f-253b-4a8c-96d2-18752c02e52e",
   "metadata": {
    "editable": true,
    "slideshow": {
     "slide_type": "slide"
    },
    "tags": []
   },
   "source": [
    "## Using packages\n",
    "\n",
    "Packages in Python are a way of organizing and reusing code. \n",
    "\n",
    "They contain functions, classes, and variables defined by others. \n",
    "\n",
    "One reason why Python is prefered for data science and machine learning is the extensive library of packages for these tasks.\n",
    "\n",
    "Packages are first *installed* and then *imported*. This separation is important in order to control and maintain a specific Python *environment*."
   ]
  },
  {
   "cell_type": "markdown",
   "id": "3e13a44e-c2ca-4693-b842-d1050102c8cc",
   "metadata": {
    "editable": true,
    "slideshow": {
     "slide_type": "slide"
    },
    "tags": []
   },
   "source": [
    "## Using packages"
   ]
  },
  {
   "cell_type": "code",
   "execution_count": 3,
   "id": "6b2fc7b2-4c1e-409f-9d05-f11f346b38b8",
   "metadata": {
    "editable": true,
    "slideshow": {
     "slide_type": ""
    },
    "tags": []
   },
   "outputs": [],
   "source": [
    "import math\n",
    "\n",
    "def comparea(r):\n",
    "    A = math.pi * r**2\n",
    "    return(A)"
   ]
  },
  {
   "cell_type": "markdown",
   "id": "8e0e84b9-f592-4b45-89f4-6dd35c923855",
   "metadata": {
    "editable": true,
    "slideshow": {
     "slide_type": "slide"
    },
    "tags": []
   },
   "source": [
    "## Using packages\n",
    "\n",
    "<img src=\"https://github.com/CALDISS-AAU/sds-ss-2024/raw/master/slides/img/environment_books.png\" style=\"width: 70%;\" />"
   ]
  },
  {
   "cell_type": "markdown",
   "id": "cd9b856b-e5f5-4ada-ac51-c35cc06696ad",
   "metadata": {
    "editable": true,
    "slideshow": {
     "slide_type": "slide"
    },
    "tags": []
   },
   "source": [
    "## Data structures\n",
    "\n",
    "You will encounter many different data structures when working with Python. \n",
    "\n",
    "There are both built-in data structures but many packages use their own data structures as well. \n",
    "\n",
    "Many data handling tasks involve transforming data from one data structure to another."
   ]
  },
  {
   "cell_type": "markdown",
   "id": "597f014f-289e-46e2-bfb1-db920b6d9b34",
   "metadata": {
    "editable": true,
    "slideshow": {
     "slide_type": "slide"
    },
    "tags": []
   },
   "source": [
    "## Lists\n",
    "\n",
    "A fundamental Python data structure is the *list*. *Lists* are versatile, allowing you to store a sequence of items and modify them later. \n",
    "\n",
    "A list in Python is *ordered* and items can be of mixed types/different classes (you can even create lists of lists!).\n",
    "\n",
    "Lists are defined by having values separated by commas between square brackets `[ ]`.\n",
    "\n",
    "**Key features**:\n",
    "- Ordered: The order of items in a list is preserved, which means items can be accessed by their position (index).\n",
    "- \"Mutable\": You can add, remove, or change items in a list after it has been created\n",
    "- Dynamic: Lists can grow or shrink in size as items are added or removed."
   ]
  },
  {
   "cell_type": "code",
   "execution_count": 12,
   "id": "4994dbc3-bd6b-426f-a550-39b9e74ad955",
   "metadata": {
    "editable": true,
    "slideshow": {
     "slide_type": "fragment"
    },
    "tags": []
   },
   "outputs": [
    {
     "name": "stdout",
     "output_type": "stream",
     "text": [
      "[10, 20, 30, 40, 50]\n"
     ]
    }
   ],
   "source": [
    "numbers = [10, 20, 30, 40, 50]\n",
    "\n",
    "print(numbers)"
   ]
  },
  {
   "cell_type": "markdown",
   "id": "d786df56-436a-492b-85fa-b32eed33dcf1",
   "metadata": {
    "editable": true,
    "slideshow": {
     "slide_type": "slide"
    },
    "tags": []
   },
   "source": [
    "## Dictionaries\n",
    "\n",
    "Dictionaries are another fundamental data structure in Python. They store data in a key-value pair format, making them incredibly useful for associating information with unique identifiers.\n",
    "\n",
    "Dictionaries are defined by enclosing items in curly braces `{}` where each item consists of a key followed by a colon (:) and then the value.\n",
    "\n",
    "**Key features**:\n",
    "- Unordered: The order of items does not matter and it is not possible to access items by position\n",
    "- Mutable: You can add, remove, or modify entries after the dictionary is created\n",
    "- Indexed by keys: Instead of numeric indices, dictionaries use key to retrieve values\n",
    "- No duplicate keys: Each key must be unique within a dictionary."
   ]
  },
  {
   "cell_type": "markdown",
   "id": "fa8316ee-5e7f-4f97-bc82-0653d65f70aa",
   "metadata": {
    "editable": true,
    "slideshow": {
     "slide_type": "slide"
    },
    "tags": []
   },
   "source": [
    "## Dictionaries"
   ]
  },
  {
   "cell_type": "code",
   "execution_count": 5,
   "id": "00e96d00-b469-4f78-ad65-7ebc2c2a09fa",
   "metadata": {
    "editable": true,
    "slideshow": {
     "slide_type": ""
    },
    "tags": []
   },
   "outputs": [
    {
     "name": "stdout",
     "output_type": "stream",
     "text": [
      "{'Alice': 28, 'Bob': 36, 'Charlie': 20}\n"
     ]
    }
   ],
   "source": [
    "student_ages = {\n",
    "    'Alice': 28,\n",
    "    'Bob': 36,\n",
    "    'Charlie': 20\n",
    "}\n",
    "\n",
    "print(student_ages)"
   ]
  },
  {
   "cell_type": "markdown",
   "id": "ffcf63c5-91d1-4183-8bfb-3e68f1bd54f6",
   "metadata": {
    "editable": true,
    "slideshow": {
     "slide_type": "slide"
    },
    "tags": []
   },
   "source": [
    "## Classes\n",
    "\n",
    "A class in Python is a \"blueprint\" for creating objects/variables. Classes combines containing information/data with functionality for interacting with the information/data in the same object.\n",
    "\n",
    "Classes contain three basic components: *self*, *attributes* and *methods*:\n",
    "- *self*: The object itself\n",
    "- *attributes*: Information and data stored with the object (syntax: `object.attribute`)\n",
    "- *methods*: Functions for interacting with the data in the object (syntax: `object.method(parameters)`)\n",
    "\n",
    "Single values, data structures, models etc. are all instances of specific classes in Python. Attributes and methods are specific to the class - a method in one class does not (necessarily) exist in another."
   ]
  },
  {
   "cell_type": "markdown",
   "id": "ee842831-f8cb-49ea-ada2-8d7a59b8c330",
   "metadata": {
    "editable": true,
    "slideshow": {
     "slide_type": "slide"
    },
    "tags": []
   },
   "source": [
    "## Classes\n",
    "\n",
    "<img src = \"https://github.com/CALDISS-AAU/sds-ss-2024/raw/master/slides/img/classes-example_eng.png\" style = \"width: 85.0%\"/>"
   ]
  },
  {
   "cell_type": "code",
   "execution_count": 8,
   "id": "5d35f896-c24e-4828-9e86-19d4c16beab1",
   "metadata": {
    "editable": true,
    "slideshow": {
     "slide_type": "skip"
    },
    "tags": []
   },
   "outputs": [],
   "source": [
    "class bookcase:\n",
    "    def __init__(self, objects):\n",
    "        self.top_shelf = objects[0]\n",
    "        self.middle_shelf = objects[1]\n",
    "        self.bottom_shelf = objects[2]\n",
    "\n",
    "b = bookcase([\"books\", \"boardgames\", \"vases\"])"
   ]
  },
  {
   "cell_type": "code",
   "execution_count": 10,
   "id": "d1f98e50-e751-45f5-8b1c-28ac2396ce82",
   "metadata": {
    "editable": true,
    "slideshow": {
     "slide_type": "slide"
    },
    "tags": []
   },
   "outputs": [
    {
     "data": {
      "text/plain": [
       "'vases'"
      ]
     },
     "execution_count": 10,
     "metadata": {},
     "output_type": "execute_result"
    }
   ],
   "source": [
    "b.bottom_shelf"
   ]
  },
  {
   "cell_type": "code",
   "execution_count": 11,
   "id": "80257eea-588b-4db4-978d-ae1a4d7862b3",
   "metadata": {
    "editable": true,
    "slideshow": {
     "slide_type": "fragment"
    },
    "tags": []
   },
   "outputs": [
    {
     "ename": "AttributeError",
     "evalue": "'bookcase' object has no attribute 'bottom_drawer'",
     "output_type": "error",
     "traceback": [
      "\u001b[1;31m---------------------------------------------------------------------------\u001b[0m",
      "\u001b[1;31mAttributeError\u001b[0m                            Traceback (most recent call last)",
      "Cell \u001b[1;32mIn[11], line 1\u001b[0m\n\u001b[1;32m----> 1\u001b[0m \u001b[43mb\u001b[49m\u001b[38;5;241;43m.\u001b[39;49m\u001b[43mbottom_drawer\u001b[49m\n",
      "\u001b[1;31mAttributeError\u001b[0m: 'bookcase' object has no attribute 'bottom_drawer'"
     ]
    }
   ],
   "source": [
    "b.bottom_drawer"
   ]
  },
  {
   "cell_type": "markdown",
   "id": "4b806728-6310-4065-895c-755b1170d5fa",
   "metadata": {
    "editable": true,
    "slideshow": {
     "slide_type": "slide"
    },
    "tags": []
   },
   "source": [
    "## Common errors in Python\n",
    "\n",
    "Encountering errors are an integral part of working with Python. \n",
    "\n",
    "When Python does not understand code (cannot evaluate/interpret), an error is given (\"raising exception\"). Inspecting the error provides insights into how to fix the code. \n",
    "\n",
    "Getting familiar with common errors helps identify problems with code faster."
   ]
  },
  {
   "cell_type": "markdown",
   "id": "67377460-1006-4735-8c1f-4f07c6c9bc1f",
   "metadata": {
    "editable": true,
    "slideshow": {
     "slide_type": "slide"
    },
    "tags": []
   },
   "source": [
    "## Common errors in Python\n",
    "\n",
    "`NameError`\n",
    "- Occurs when you try to access a name (usually a variable or function) that Python does not recognize. It typically happens if the name has not been defined, if there is a typo or a package has not been imported.\n",
    "\n",
    "`TypeError`\n",
    "- Occurs when an operation or function is applied to an object of inappropriate type/class. A common cause is trying to perform operations that are not supported between data types.\n",
    "\n",
    "`IndexError`\n",
    "- Occurs when you try to access an index that is outside the range of a sequence (like a list or a string).\n",
    "\n",
    "`AttributeError`\n",
    "- Occurs when trying to access or assign an attribute that a particular object does not possess. This error indicates that either the attribute does not exist within the object’s class, or the operation being attempted is not supported by the attribute."
   ]
  },
  {
   "cell_type": "markdown",
   "id": "81cdab17-5811-4b29-91be-da73e075c93b",
   "metadata": {
    "editable": true,
    "slideshow": {
     "slide_type": "slide"
    },
    "tags": []
   },
   "source": [
    "## Control structures in Python\n",
    "\n",
    "Control structures allow you to control the flow of your code's execution based on conditions or repeating actions. In Python, the main control structures are if-else statements, for loops, and while loops.\n",
    "\n",
    "- *if-else statements*: Executes a code block if a given condition is `True`.\n",
    "- *for loops*: Iterates over a sequence of items (fx a list) and execute a code block for each item.\n",
    "- *while loops*: Repeat a code block as long as a given condition is `True`."
   ]
  },
  {
   "cell_type": "markdown",
   "id": "8983e566-6c3c-420c-b601-e5ebf7f86bd7",
   "metadata": {
    "editable": true,
    "slideshow": {
     "slide_type": "slide"
    },
    "tags": []
   },
   "source": [
    "## Control structures in Python\n",
    "\n",
    "**Example of if-else statement**"
   ]
  },
  {
   "cell_type": "code",
   "execution_count": 14,
   "id": "4da0ab13-42d1-4d7c-afad-d12ca4e4310a",
   "metadata": {
    "editable": true,
    "slideshow": {
     "slide_type": ""
    },
    "tags": []
   },
   "outputs": [
    {
     "name": "stdout",
     "output_type": "stream",
     "text": [
      "Adult\n"
     ]
    }
   ],
   "source": [
    "age = 20\n",
    "\n",
    "if age < 18:\n",
    "    print(\"Minor\")\n",
    "elif age >= 18:\n",
    "    print(\"Adult\")\n",
    "else:\n",
    "    print(\"This can't happen.\")"
   ]
  },
  {
   "cell_type": "markdown",
   "id": "ff3199e8-26f5-423e-85aa-b01bc4c777b4",
   "metadata": {
    "editable": true,
    "slideshow": {
     "slide_type": "slide"
    },
    "tags": []
   },
   "source": [
    "## Control structures in Python\n",
    "\n",
    "**Example of for loop**"
   ]
  },
  {
   "cell_type": "code",
   "execution_count": 16,
   "id": "986d2c10-688e-46dc-87fd-11ec81710b41",
   "metadata": {
    "editable": true,
    "slideshow": {
     "slide_type": ""
    },
    "tags": []
   },
   "outputs": [
    {
     "name": "stdout",
     "output_type": "stream",
     "text": [
      "The number is 2\n",
      "The number is 4\n",
      "The number is 6\n",
      "The number is 8\n",
      "The number is 10\n"
     ]
    }
   ],
   "source": [
    "for i in [2,4,6,8,10]:\n",
    "    print(\"The number is\", i)"
   ]
  },
  {
   "cell_type": "markdown",
   "id": "34962290-400d-49cc-9e2f-609c8422fffd",
   "metadata": {
    "editable": true,
    "slideshow": {
     "slide_type": "slide"
    },
    "tags": []
   },
   "source": [
    "## Control structures in Python\n",
    "\n",
    "**Example of while loop**"
   ]
  },
  {
   "cell_type": "code",
   "execution_count": 17,
   "id": "74648fb7-57b8-47c7-ae05-04079d2da750",
   "metadata": {
    "editable": true,
    "slideshow": {
     "slide_type": ""
    },
    "tags": []
   },
   "outputs": [
    {
     "name": "stdout",
     "output_type": "stream",
     "text": [
      "5\n",
      "4\n",
      "3\n",
      "2\n",
      "1\n"
     ]
    }
   ],
   "source": [
    "count = 5\n",
    "while count > 0:\n",
    "    print(count)\n",
    "    count = count - 1 "
   ]
  }
 ],
 "metadata": {
  "kernelspec": {
   "display_name": "Python 3 ",
   "language": "python",
   "name": "python3"
  },
  "language_info": {
   "codemirror_mode": {
    "name": "ipython",
    "version": 3
   },
   "file_extension": ".py",
   "mimetype": "text/x-python",
   "name": "python",
   "nbconvert_exporter": "python",
   "pygments_lexer": "ipython3",
   "version": "3.10.14"
  }
 },
 "nbformat": 4,
 "nbformat_minor": 5
}
