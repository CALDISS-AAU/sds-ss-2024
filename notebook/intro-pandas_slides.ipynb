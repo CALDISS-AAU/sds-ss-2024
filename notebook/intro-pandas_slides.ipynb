{
 "cells": [
  {
   "cell_type": "code",
   "execution_count": null,
   "id": "a05989df-0ee9-446b-acfb-1cb7c3b41846",
   "metadata": {
    "editable": true,
    "slideshow": {
     "slide_type": "skip"
    },
    "tags": []
   },
   "outputs": [],
   "source": [
    "# Prep\n",
    "import pandas as pd\n",
    "import numpy as np\n",
    "\n",
    "data_path = \"https://github.com/CALDISS-AAU/sds-ss-2024/raw/master/datasets/eurobarometer-96_dk_subset.csv\"\n",
    "\n",
    "eurob = pd.read_csv(data_path)\n",
    "\n",
    "age_recode = {\"15 years\": 15, \"Refusal\": np.nan}\n",
    "\n",
    "eurob['d11'] = eurob['d11'].replace(age_recode)\n",
    "eurob['d11'] = eurob['d11'].astype('float') # float = floatpoint"
   ]
  },
  {
   "cell_type": "markdown",
   "id": "896c6e50-4c94-4a44-bfb6-60e33cd8ef45",
   "metadata": {
    "editable": true,
    "slideshow": {
     "slide_type": "slide"
    },
    "tags": []
   },
   "source": [
    "# Introduction to pandas data frames"
   ]
  },
  {
   "cell_type": "markdown",
   "id": "64ee3dfc-3296-4691-ae83-06aaf49e3740",
   "metadata": {
    "editable": true,
    "slideshow": {
     "slide_type": "slide"
    },
    "tags": []
   },
   "source": [
    "## What is a (pandas) data frame?\n",
    "\n",
    "- a data structure for table data in Python (a representation of data)\n",
    "\n",
    "![DF](https://pandas.pydata.org/pandas-docs/stable/_images/01_table_dataframe.svg)\n",
    "\n",
    "- Each row and column has an *index*\n",
    "- Typically rows identified by *index* (row number - but can also be something else!)\n",
    "- Columns typically identified by column name"
   ]
  },
  {
   "cell_type": "markdown",
   "id": "165f49b2-e13e-4439-868a-e0cce0bcbd13",
   "metadata": {
    "editable": true,
    "slideshow": {
     "slide_type": "slide"
    },
    "tags": []
   },
   "source": [
    "### Each column in a data frame is a `Series`\n",
    "\n",
    "- `Series` a single-column format in Pandas\n",
    "- Compared to a Python List, a `Series` can have only one type of data\n",
    "- Indexes in a `Series` need not start at 0\n",
    "\n",
    "![SERIES](https://pandas.pydata.org/pandas-docs/stable/_images/01_table_series.svg)"
   ]
  },
  {
   "cell_type": "markdown",
   "id": "6db0897e-36e6-4663-82d2-c476a4cd0664",
   "metadata": {
    "editable": true,
    "slideshow": {
     "slide_type": "slide"
    },
    "tags": []
   },
   "source": [
    "## From data to data frame\n",
    "\n",
    "- A data frame is just a representation of data in python\n",
    "- Many data formats can be converted to a data frame\n",
    "- Data frames are usable for many forms of analysis\n",
    "\n",
    "Examples of files that can be read for data frames (if in correct format!):\n",
    "- .csv\n",
    "- .json\n",
    "- .xls (Excel)\n",
    "- .dta (Static)\n",
    "- .SAS7BDAT (SAS)"
   ]
  },
  {
   "cell_type": "markdown",
   "id": "bd40b983-a21d-49df-bc8a-1abe24a45202",
   "metadata": {
    "editable": true,
    "slideshow": {
     "slide_type": "slide"
    },
    "tags": []
   },
   "source": [
    "# Basic data management in pandas"
   ]
  },
  {
   "cell_type": "markdown",
   "id": "cf19c28c-18b1-4906-8da1-0d908c4f9c92",
   "metadata": {
    "editable": true,
    "slideshow": {
     "slide_type": "slide"
    },
    "tags": []
   },
   "source": [
    "## Select columns\n",
    "\n",
    "![Col](https://pandas.pydata.org/pandas-docs/stable/_images/03_subset_columns.svg)"
   ]
  },
  {
   "cell_type": "code",
   "execution_count": 8,
   "id": "f9a99163-d09e-4a36-8369-8d6bb6640cdb",
   "metadata": {
    "editable": true,
    "slideshow": {
     "slide_type": ""
    },
    "tags": []
   },
   "outputs": [
    {
     "data": {
      "text/plain": [
       "0      Not at all\n",
       "1          Medium\n",
       "2          Medium\n",
       "3          Medium\n",
       "4          Medium\n",
       "          ...    \n",
       "988        Strong\n",
       "989        Medium\n",
       "990        Strong\n",
       "991        Medium\n",
       "992           Low\n",
       "Name: polintr, Length: 993, dtype: object"
      ]
     },
     "execution_count": 8,
     "metadata": {},
     "output_type": "execute_result"
    }
   ],
   "source": [
    "eurob['polintr']"
   ]
  },
  {
   "cell_type": "markdown",
   "id": "170675cc-03c8-400a-b6e9-223b5a4b02f0",
   "metadata": {
    "editable": true,
    "slideshow": {
     "slide_type": "slide"
    },
    "tags": []
   },
   "source": [
    "## Select rows\n",
    "\n",
    "![rows](https://pandas.pydata.org/pandas-docs/stable/_images/03_subset_rows.svg)"
   ]
  },
  {
   "cell_type": "code",
   "execution_count": 9,
   "id": "740ef7a4-d685-4911-96e4-15a37d6a2820",
   "metadata": {
    "editable": true,
    "slideshow": {
     "slide_type": ""
    },
    "tags": []
   },
   "outputs": [
    {
     "data": {
      "text/html": [
       "<div>\n",
       "<style scoped>\n",
       "    .dataframe tbody tr th:only-of-type {\n",
       "        vertical-align: middle;\n",
       "    }\n",
       "\n",
       "    .dataframe tbody tr th {\n",
       "        vertical-align: top;\n",
       "    }\n",
       "\n",
       "    .dataframe thead th {\n",
       "        text-align: right;\n",
       "    }\n",
       "</style>\n",
       "<table border=\"1\" class=\"dataframe\">\n",
       "  <thead>\n",
       "    <tr style=\"text-align: right;\">\n",
       "      <th></th>\n",
       "      <th>uniqid</th>\n",
       "      <th>d11</th>\n",
       "      <th>polintr</th>\n",
       "      <th>qb1</th>\n",
       "      <th>qb3_1</th>\n",
       "      <th>qb3_2</th>\n",
       "      <th>qb3_3</th>\n",
       "      <th>qb3_4</th>\n",
       "      <th>qb3_5</th>\n",
       "      <th>qb3_6</th>\n",
       "      <th>...</th>\n",
       "      <th>d10</th>\n",
       "      <th>d15a</th>\n",
       "      <th>d15b</th>\n",
       "      <th>d25</th>\n",
       "      <th>d63</th>\n",
       "      <th>d1</th>\n",
       "      <th>p1</th>\n",
       "      <th>p2</th>\n",
       "      <th>p3</th>\n",
       "      <th>region_denmark</th>\n",
       "    </tr>\n",
       "  </thead>\n",
       "  <tbody>\n",
       "    <tr>\n",
       "      <th>10</th>\n",
       "      <td>110005583</td>\n",
       "      <td>91.0</td>\n",
       "      <td>Low</td>\n",
       "      <td>Don't know (SPONTANEOUS)</td>\n",
       "      <td>Not mentioned</td>\n",
       "      <td>Not mentioned</td>\n",
       "      <td>Not mentioned</td>\n",
       "      <td>Not mentioned</td>\n",
       "      <td>Not mentioned</td>\n",
       "      <td>Not mentioned</td>\n",
       "      <td>...</td>\n",
       "      <td>Man</td>\n",
       "      <td>Retired, unable to work</td>\n",
       "      <td>Employed position, travelling</td>\n",
       "      <td>Large town</td>\n",
       "      <td>The working class of society</td>\n",
       "      <td>5</td>\n",
       "      <td>17 Sep 21</td>\n",
       "      <td>13 - 16 h</td>\n",
       "      <td>2636</td>\n",
       "      <td>DK05 - Nordjylland</td>\n",
       "    </tr>\n",
       "    <tr>\n",
       "      <th>19</th>\n",
       "      <td>110005592</td>\n",
       "      <td>18.0</td>\n",
       "      <td>Low</td>\n",
       "      <td>Very important</td>\n",
       "      <td>Use of personal data and information by compan...</td>\n",
       "      <td>Not mentioned</td>\n",
       "      <td>Not mentioned</td>\n",
       "      <td>The safety and well-being of children</td>\n",
       "      <td>Not mentioned</td>\n",
       "      <td>The difficulty of disconnecting and finding a ...</td>\n",
       "      <td>...</td>\n",
       "      <td>Woman</td>\n",
       "      <td>Student</td>\n",
       "      <td>Unskilled manual worker, etc.</td>\n",
       "      <td>Rural area or village</td>\n",
       "      <td>The middle class of society</td>\n",
       "      <td>3</td>\n",
       "      <td>17 Sep 21</td>\n",
       "      <td>13 - 16 h</td>\n",
       "      <td>3252</td>\n",
       "      <td>DK04 - Midtjylland</td>\n",
       "    </tr>\n",
       "  </tbody>\n",
       "</table>\n",
       "<p>2 rows × 23 columns</p>\n",
       "</div>"
      ],
      "text/plain": [
       "       uniqid   d11 polintr                       qb1  \\\n",
       "10  110005583  91.0     Low  Don't know (SPONTANEOUS)   \n",
       "19  110005592  18.0     Low            Very important   \n",
       "\n",
       "                                                qb3_1          qb3_2  \\\n",
       "10                                      Not mentioned  Not mentioned   \n",
       "19  Use of personal data and information by compan...  Not mentioned   \n",
       "\n",
       "            qb3_3                                  qb3_4          qb3_5  \\\n",
       "10  Not mentioned                          Not mentioned  Not mentioned   \n",
       "19  Not mentioned  The safety and well-being of children  Not mentioned   \n",
       "\n",
       "                                                qb3_6  ...    d10  \\\n",
       "10                                      Not mentioned  ...    Man   \n",
       "19  The difficulty of disconnecting and finding a ...  ...  Woman   \n",
       "\n",
       "                       d15a                           d15b  \\\n",
       "10  Retired, unable to work  Employed position, travelling   \n",
       "19                  Student  Unskilled manual worker, etc.   \n",
       "\n",
       "                      d25                           d63 d1         p1  \\\n",
       "10             Large town  The working class of society  5  17 Sep 21   \n",
       "19  Rural area or village   The middle class of society  3  17 Sep 21   \n",
       "\n",
       "           p2    p3      region_denmark  \n",
       "10  13 - 16 h  2636  DK05 - Nordjylland  \n",
       "19  13 - 16 h  3252  DK04 - Midtjylland  \n",
       "\n",
       "[2 rows x 23 columns]"
      ]
     },
     "execution_count": 9,
     "metadata": {},
     "output_type": "execute_result"
    }
   ],
   "source": [
    "eurob[eurob['polintr'] == \"Low\"].head(2) #boolean indexing"
   ]
  },
  {
   "cell_type": "markdown",
   "id": "aed51e69-fe1b-4053-aec9-3032329a4506",
   "metadata": {
    "editable": true,
    "slideshow": {
     "slide_type": "slide"
    },
    "tags": []
   },
   "source": [
    "## Subsetting with `.loc[]` and `.iloc[]` (specific rows and columns)"
   ]
  },
  {
   "cell_type": "markdown",
   "id": "e830a54d-50dc-49bf-a6a2-93409333a05a",
   "metadata": {
    "editable": true,
    "slideshow": {
     "slide_type": ""
    },
    "tags": []
   },
   "source": [
    "![LOC](https://pandas.pydata.org/pandas-docs/stable/_images/03_subset_columns_rows.svg)"
   ]
  },
  {
   "cell_type": "code",
   "execution_count": 10,
   "id": "09571767-3e24-4a47-bbe1-2f22a7a4664b",
   "metadata": {
    "editable": true,
    "slideshow": {
     "slide_type": ""
    },
    "tags": []
   },
   "outputs": [
    {
     "data": {
      "text/html": [
       "<div>\n",
       "<style scoped>\n",
       "    .dataframe tbody tr th:only-of-type {\n",
       "        vertical-align: middle;\n",
       "    }\n",
       "\n",
       "    .dataframe tbody tr th {\n",
       "        vertical-align: top;\n",
       "    }\n",
       "\n",
       "    .dataframe thead th {\n",
       "        text-align: right;\n",
       "    }\n",
       "</style>\n",
       "<table border=\"1\" class=\"dataframe\">\n",
       "  <thead>\n",
       "    <tr style=\"text-align: right;\">\n",
       "      <th></th>\n",
       "      <th>polintr</th>\n",
       "      <th>d10</th>\n",
       "    </tr>\n",
       "  </thead>\n",
       "  <tbody>\n",
       "    <tr>\n",
       "      <th>10</th>\n",
       "      <td>Low</td>\n",
       "      <td>Man</td>\n",
       "    </tr>\n",
       "    <tr>\n",
       "      <th>19</th>\n",
       "      <td>Low</td>\n",
       "      <td>Woman</td>\n",
       "    </tr>\n",
       "    <tr>\n",
       "      <th>24</th>\n",
       "      <td>Low</td>\n",
       "      <td>Woman</td>\n",
       "    </tr>\n",
       "  </tbody>\n",
       "</table>\n",
       "</div>"
      ],
      "text/plain": [
       "   polintr    d10\n",
       "10     Low    Man\n",
       "19     Low  Woman\n",
       "24     Low  Woman"
      ]
     },
     "execution_count": 10,
     "metadata": {},
     "output_type": "execute_result"
    }
   ],
   "source": [
    "eurob.loc[eurob['polintr'] == \"Low\", ['polintr', 'd10']].head(3) "
   ]
  },
  {
   "cell_type": "markdown",
   "id": "49efbf6d-5f2c-41bf-a739-30829ccbcdff",
   "metadata": {
    "editable": true,
    "slideshow": {
     "slide_type": "slide"
    },
    "tags": []
   },
   "source": [
    "## Subsetting with `.loc[]` and `.iloc[]`\n",
    "\n",
    "- `.loc[]`: \"Label-Based Location\" (based on the naming of rows and columns)\n",
    "- `.iloc[]`: \"Index-Based Location\" (based on index for rows and columns)\n",
    "\n",
    "**Syntax:**\n",
    "\n",
    "`.loc[rows, columns]`\n",
    "\n",
    "- `rows` can be specified as a row names or via conditions (\"Boolean Indexing\")\n",
    "- `columns` can be specified as list of column names"
   ]
  },
  {
   "cell_type": "markdown",
   "id": "246e00b0-2670-420a-801d-21960aebc2da",
   "metadata": {
    "editable": true,
    "slideshow": {
     "slide_type": "slide"
    },
    "tags": []
   },
   "source": [
    "## Recoding with `.loc`\n",
    "\n",
    "- Think recoding as to locate specific parts of data that are overwritten with a value\n",
    "\n",
    "<img src = \"https://github.com/CALDISS-AAU/sds-ss-2024/raw/master/slides/img/loc_example.png\" Style = \"Width: 50.0%\"/>"
   ]
  },
  {
   "cell_type": "markdown",
   "id": "6b7bb67c-fcfc-47ce-ad30-d4fbd77be777",
   "metadata": {
    "editable": true,
    "slideshow": {
     "slide_type": ""
    },
    "tags": []
   },
   "source": [
    "```python\n",
    "df.loc [df ['v1']> 10, 'v1'] = 0\n",
    "```"
   ]
  },
  {
   "cell_type": "markdown",
   "id": "7e2c90b5-0dc9-4c1c-bfae-f07bc7b84270",
   "metadata": {
    "editable": true,
    "slideshow": {
     "slide_type": ""
    },
    "tags": []
   },
   "source": [
    "<img src = \"https://github.com/CALDISS-AAU/sds-ss-2024/raw/master/slides/img/loc_example2.png\" style = \"width: 28.0%\"/>"
   ]
  },
  {
   "cell_type": "markdown",
   "id": "bc822766-1c88-4f7e-b996-00d4a7c133b7",
   "metadata": {
    "editable": true,
    "slideshow": {
     "slide_type": "slide"
    },
    "tags": []
   },
   "source": [
    "## Recoding with mappings"
   ]
  },
  {
   "cell_type": "markdown",
   "id": "be41cbdd-7ddb-4d9d-9f3a-32686840c1b2",
   "metadata": {
    "editable": true,
    "slideshow": {
     "slide_type": ""
    },
    "tags": []
   },
   "source": [
    "- When recoding categories, using `.loc[]` can be difficult\n",
    "- Alternatively you can use a *mapping*, indicating what values ​​to be replaced and what to be replaced with\n",
    "- A mapping can be considered as a form of \"search-and-replace\" used on a column\n",
    "- A mapping is made as a dictionary with old values as keys and new values as values:\n",
    "\n",
    "```\n",
    "mapping = {\"old value X\": \"new value X\", \"old value Y\": \"new value Y\"}\n",
    "```\n",
    "\n",
    "- A mapping can be used to replace values in a column (or `Series`) with the method` .replace ()`"
   ]
  },
  {
   "cell_type": "markdown",
   "id": "d4b0c2c5-7774-4e36-a202-1c2870205bf5",
   "metadata": {
    "editable": true,
    "slideshow": {
     "slide_type": "slide"
    },
    "tags": []
   },
   "source": [
    "## Recoding with Mappings - Example"
   ]
  },
  {
   "cell_type": "code",
   "execution_count": 12,
   "id": "f4e8f869-30db-4d6a-84b7-48c84798db64",
   "metadata": {
    "editable": true,
    "slideshow": {
     "slide_type": ""
    },
    "tags": []
   },
   "outputs": [
    {
     "data": {
      "text/plain": [
       "qb1\n",
       "Very important              716\n",
       "Fairly important            191\n",
       "Not very important           44\n",
       "Not at all important         32\n",
       "Don't know (SPONTANEOUS)     10\n",
       "Name: count, dtype: int64"
      ]
     },
     "execution_count": 12,
     "metadata": {},
     "output_type": "execute_result"
    }
   ],
   "source": [
    "eurob['qb1'].value_counts()"
   ]
  },
  {
   "cell_type": "code",
   "execution_count": 13,
   "id": "ca3fa325-2b8f-4533-acfe-bffc7b4c49b8",
   "metadata": {
    "editable": true,
    "slideshow": {
     "slide_type": ""
    },
    "tags": []
   },
   "outputs": [
    {
     "data": {
      "text/plain": [
       "qb1_bin\n",
       "Important        907\n",
       "Not important     76\n",
       "Name: count, dtype: int64"
      ]
     },
     "execution_count": 13,
     "metadata": {},
     "output_type": "execute_result"
    }
   ],
   "source": [
    "qb1_map = {\"Very important\": \"Important\", \n",
    "          \"Fairly important\": \"Important\", \n",
    "          \"Not very important\": \"Not important\",\n",
    "          \"Not at all important\": \"Not important\",\n",
    "          \"Don't know (SPONTANEOUS)\": np.nan}\n",
    "\n",
    "eurob['qb1_bin'] = eurob['qb1'].replace(qb1_map)\n",
    "\n",
    "eurob['qb1_bin'].value_counts()"
   ]
  }
 ],
 "metadata": {
  "kernelspec": {
   "display_name": "Python 3 ",
   "language": "python",
   "name": "python3"
  },
  "language_info": {
   "codemirror_mode": {
    "name": "ipython",
    "version": 3
   },
   "file_extension": ".py",
   "mimetype": "text/x-python",
   "name": "python",
   "nbconvert_exporter": "python",
   "pygments_lexer": "ipython3",
   "version": "3.10.14"
  }
 },
 "nbformat": 4,
 "nbformat_minor": 5
}
