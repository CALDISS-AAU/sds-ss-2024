{
 "cells": [
  {
   "cell_type": "markdown",
   "metadata": {},
   "source": [
    "# Introduction to Python for Social Science and Humanities Researchers\n",
    "Welcome! This Jupyter Notebook is designed to introduce researchers from the social sciences and humanities to Python, a powerful programming language that can enhance your data analysis capabilities.\n",
    "\n",
    "## Why Python?\n",
    "Python is known for its readability, simplicity, and vast array of libraries that can handle everything from simple calculations to complex machine learning algorithms. Whether you're analyzing survey data, historical documents, or any other form of data, Python has the tools to help you do it effectively and efficiently."
   ]
  },
  {
   "cell_type": "markdown",
   "metadata": {},
   "source": [
    "## Setting Up Your Environment\n",
    "Before we dive into Python itself, let's make sure you have everything set up. To run Python code, you'll need Python installed on your computer, along with Jupyter, which is a tool that allows us to write and execute Python code interactively. Here are some resources to help you get set up:\n",
    "\n",
    "- [Download Python](https://www.python.org/downloads/)\n",
    "- [Installing Jupyter Notebook](https://jupyter.org/install)"
   ]
  },
  {
   "cell_type": "code",
   "execution_count": null,
   "metadata": {},
   "outputs": [],
   "source": [
    "# This is a Python code cell. You can run this cell by clicking on it and pressing 'Shift + Enter'.\n",
    "# Let's try a simple print statement. Running this cell should print 'Hello, World!' below it.\n",
    "print('Hello, World!')"
   ]
  },
  {
   "cell_type": "markdown",
   "metadata": {},
   "source": [
    "## Python Basics\n",
    "### Variables and Data Types\n",
    "In Python, you can store information in variables. Here are some basic types:\n",
    "\n",
    "- **Integers** - whole numbers\n",
    "- **Floats** - decimal numbers\n",
    "- **Strings** - sequences of characters\n",
    "- **Booleans** - `True` or `False` values\n",
    "\n",
    "Here's how you can set variables:"
   ]
  },
  {
   "cell_type": "code",
   "execution_count": null,
   "metadata": {},
   "outputs": [],
   "source": [
    "# Assigning variables\n",
    "age = 30  # An integer\n",
    "temperature = 20.5  # A float\n",
    "name = 'Alice'  # A string\n",
    "is_valid = True  # A boolean\n",
    "\n",
    "# Print the variables\n",
    "print(age, temperature, name, is_valid)"
   ]
  },
  {
   "cell_type": "markdown",
   "metadata": {},
   "source": [
    "### Data Structures\n",
    "Python includes several built-in data structures that are very useful for research:\n",
    "\n",
    "- **Lists** - ordered collections of items\n",
    "- **Dictionaries** - unordered collections of key-value pairs\n",
    "- **Sets** - unordered collections of unique items\n",
    "- **Tuples** - ordered, immutable collections of items\n",
    "\n",
    "Here's a brief introduction to each:"
   ]
  },
  {
   "cell_type": "code",
   "execution_count": null,
   "metadata": {},
   "outputs": [],
   "source": [
    "# Lists\n",
    "participants = ['John', 'Lila', 'Gregory', 'Cynthia']\n",
    "print(participants)\n",
    "\n",
    "# Dictionaries\n",
    "participant_ages = {'John': 28, 'Lila': 22, 'Gregory': 35, 'Cynthia': 29}\n",
    "print(participant_ages)\n",
    "\n",
    "# Sets\n",
    "unique_names = set(participants)\n",
    "print(unique_names)\n",
    "\n",
    "# Tuples\n",
    "immutable_data = (30, 'Yes', 45.6)\n",
    "print(immutable_data)"
   ]
  },
  {
   "cell_type": "markdown",
   "metadata": {},
   "source": [
    "## Control Structures\n",
    "Control structures guide the flow of your code. Here's how you can use `if` statements and loops:"
   ]
  },
  {
   "cell_type": "code",
   "execution_count": null,
   "metadata": {},
   "outputs": [],
   "source": [
    "# If statement\n",
    "if age > 18:\n",
    "    print('You are an adult.')\n",
    "else:\n",
    "    print('You are not an adult.')\n",
    "\n",
    "# For loop\n",
    "for participant in participants:\n",
    "    print(participant)"
   ]
  },
  {
   "cell_type": "markdown",
   "metadata": {},
   "source": [
    "## Working with Data\n",
    "Python's `pandas` library is incredibly powerful for data manipulation. Here's how to use it to read data from a CSV file and perform basic data exploration."
   ]
  },
  {
   "cell_type": "code",
   "execution_count": null,
   "metadata": {},
   "outputs": [],
   "source": [
    "# Importing pandas\n",
    "import pandas as pd\n",
    "\n",
    "# Reading data from a CSV file\n",
    "data = pd.read_csv('example_data.csv')\n",
    "\n",
    "# Displaying the first 5 rows of the dataset\n",
    "print(data.head())"
   ]
  },
  {
   "cell_type": "markdown",
   "metadata": {},
   "source": [
    "## Data Visualization\n",
    "Visualizing your data can provide key insights. Let's use `matplotlib` to create a simple line plot."
   ]
  },
  {
   "cell_type": "code",
   "execution_count": null,
   "metadata": {},
   "outputs": [],
   "source": [
    "# Importing matplotlib\n",
    "import matplotlib.pyplot as plt\n",
    "\n",
    "# Creating a line plot\n",
    "plt.plot([1, 2, 3, 4], [1, 4, 9, 16])\n",
    "plt.ylabel('Some numbers')\n",
    "plt.show()"
   ]
  },
  {
   "cell_type": "markdown",
   "metadata": {},
   "source": [
    "## Exercises and Challenges\n",
    "Here are some exercises to help you practice what you've learned today:\n",
    "\n",
    "1. Load a different CSV file into a DataFrame and display the first 10 rows.\n",
    "2. Create a bar chart using `matplotlib` that displays the number of participants in different age groups.\n",
    "\n",
    "Feel free to experiment with more complex data manipulations and visualizations!"
   ]
  },
  {
   "cell_type": "markdown",
   "metadata": {},
   "source": [
    "## Further Resources\n",
    "To continue your learning journey, consider exploring the following resources:\n",
    "\n",
    "- [Python Data Science Handbook by Jake VanderPlas](https://jakevdp.github.io/PythonDataScienceHandbook/)\n",
    "- [Automate the Boring Stuff with Python by Al Sweigart](https://automatetheboringstuff.com/)\n",
    "- Online courses on platforms like Coursera, edX, and Udemy"
   ]
  }
 ],
 "metadata": {
  "kernelspec": {
   "display_name": "Python 3 (ipykernel)",
   "language": "python",
   "name": "python3"
  },
  "language_info": {
   "codemirror_mode": {
    "name": "ipython",
    "version": 3
   },
   "file_extension": ".py",
   "mimetype": "text/x-python",
   "name": "python",
   "nbconvert_exporter": "python",
   "pygments_lexer": "ipython3",
   "version": "3.8.17"
  }
 },
 "nbformat": 4,
 "nbformat_minor": 4
}
