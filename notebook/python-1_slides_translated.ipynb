{
 "cells": [
  {
   "cell_type": "code",
   "execution_count": 1,
   "id": "58cd6bf5-285e-40d4-8a7b-fd37c4dfe6b0",
   "metadata": {
    "editable": true,
    "slideshow": {
     "slide_type": "skip"
    },
    "tags": []
   },
   "outputs": [],
   "source": [
    "# Prep\n",
    "import pandas as pd\n",
    "import numpy as np\n",
    "\n",
    "data_path = \"/work/809805/data/eurobarometer-96_dk_subset.csv\"\n",
    "\n",
    "eurob = pd.read_csv(data_path)\n",
    "\n",
    "age_recode = {\"15 years\": 15, \"Refusal\": np.nan}\n",
    "\n",
    "eurob['d11'] = eurob['d11'].replace(age_recode)\n",
    "eurob['d11'] = eurob['d11'].astype('float') # float = floatpoint"
   ]
  },
  {
   "cell_type": "markdown",
   "id": "0a5251a1-0ded-4948-92a0-af8d9ca0066e",
   "metadata": {
    "editable": true,
    "slideshow": {
     "slide_type": "slide"
    },
    "tags": []
   },
   "source": [
    "# Introduction to Python"
   ]
  },
  {
   "cell_type": "markdown",
   "id": "7f51db9a-f86e-491d-8b91-2f6a8a750301",
   "metadata": {
    "editable": true,
    "jp-MarkdownHeadingCollapsed": true,
    "slideshow": {
     "slide_type": "slide"
    },
    "tags": []
   },
   "source": [
    "## Program\n",
    "\n",
    "- What is Python?\n",
    "- Interacting with Python with Jupyter Notebooks (via Google Colab)\n",
    "- Introduction to pandas data frames\n",
    "- Data management with pandas\n",
    "- Summary of data with pandas"
   ]
  },
  {
   "cell_type": "markdown",
   "id": "dec523e7-5c22-4f68-8533-9b582df638c9",
   "metadata": {
    "editable": true,
    "slideshow": {
     "slide_type": "slide"
    },
    "tags": []
   },
   "source": [
    "## What is python?\n",
    "\n",
    "- Python as a programming language\n",
    "- Python as an interpreter\n",
    "- One works with Python through commands that are evaluated\n",
    "- “Object-oriented”: Everything is defined as “variables” which can be used for different purposes depending on the type/class"
   ]
  },
  {
   "cell_type": "markdown",
   "id": "060f0092-a9a0-4a87-9dd2-c5a08bb2c75f",
   "metadata": {
    "editable": true,
    "slideshow": {
     "slide_type": "slide"
    },
    "tags": []
   },
   "source": [
    "## Python as a language\n",
    "\n",
    "Limited vocabulary - the rest \"made up\" or imported!\n",
    "\n",
    "```\n",
    "and       del       global     not    with\n",
    "as        elif      if         or    yield\n",
    "assert    else      import     pass\n",
    "break     except    in         raise\n",
    "class     finally   is         return\n",
    "continue  for       lambda     try\n",
    "def       from      nonlocal   while\n",
    "```"
   ]
  },
  {
   "cell_type": "markdown",
   "id": "b61ce702-c246-4b4e-9879-551ce1b3069a",
   "metadata": {
    "editable": true,
    "slideshow": {
     "slide_type": "slide"
    },
    "tags": []
   },
   "source": [
    "## Python as an interpreter\n",
    "\n",
    "Commands written in Python are evaluated by a \"python interpreter\".\n",
    "\n",
    "Very literal language: An error is given if the command is not understood."
   ]
  },
  {
   "cell_type": "markdown",
   "id": "d047084f-58ed-4e1d-9894-02b3a563768b",
   "metadata": {
    "editable": true,
    "slideshow": {
     "slide_type": "slide"
    },
    "tags": []
   },
   "source": [
    "## Python as “object-oriented”\n",
    "\n",
    "One interacts with Python by defining and redefining *objects*.\n",
    "\n",
    "*Objects* are defined as *variables* - a name to call up information.\n",
    "\n",
    "All *variable* are a *class*.\n",
    "\n",
    "The *class* sets conditions for what the *variable* can."
   ]
  },
  {
   "cell_type": "markdown",
   "id": "d6720e43-12a3-4bd1-9847-7187ab350903",
   "metadata": {
    "editable": true,
    "slideshow": {
     "slide_type": "slide"
    },
    "tags": []
   },
   "source": [
    "![dog1](./img/python-dog_eng.png)"
   ]
  },
  {
   "cell_type": "code",
   "execution_count": 2,
   "id": "6934255e-7108-409b-8cc0-51b0ac6e4cdb",
   "metadata": {
    "editable": true,
    "slideshow": {
     "slide_type": ""
    },
    "tags": []
   },
   "outputs": [],
   "source": [
    "the_ball = [2, 4, 6, 10, 21]"
   ]
  },
  {
   "cell_type": "markdown",
   "id": "1879fab3-00cd-4c70-92c0-34709a646581",
   "metadata": {
    "editable": true,
    "slideshow": {
     "slide_type": "slide"
    },
    "tags": []
   },
   "source": [
    "![dog1](../img/conf-dog_eng.png)"
   ]
  },
  {
   "cell_type": "code",
   "execution_count": 5,
   "id": "dd8b1eca-d0ed-41aa-b885-10235f733a09",
   "metadata": {
    "editable": true,
    "slideshow": {
     "slide_type": ""
    },
    "tags": []
   },
   "outputs": [
    {
     "ename": "NameError",
     "evalue": "name 'ball' is not defined",
     "output_type": "error",
     "traceback": [
      "\u001b[1;31m---------------------------------------------------------------------------\u001b[0m",
      "\u001b[1;31mNameError\u001b[0m                                 Traceback (most recent call last)",
      "Cell \u001b[1;32mIn[5], line 1\u001b[0m\n\u001b[1;32m----> 1\u001b[0m \u001b[38;5;28mprint\u001b[39m(\u001b[43mball\u001b[49m)\n",
      "\u001b[1;31mNameError\u001b[0m: name 'ball' is not defined"
     ]
    }
   ],
   "source": [
    "print(ball)"
   ]
  },
  {
   "cell_type": "markdown",
   "id": "afec9b58-4250-45e2-a284-4565078a925c",
   "metadata": {
    "editable": true,
    "slideshow": {
     "slide_type": "slide"
    },
    "tags": []
   },
   "source": [
    "![dog1](./img/dog-happy-text_eng.png)"
   ]
  },
  {
   "cell_type": "code",
   "execution_count": 6,
   "id": "392b6920-50d0-414c-8ca6-1e0f3eced7a0",
   "metadata": {
    "editable": true,
    "slideshow": {
     "slide_type": ""
    },
    "tags": []
   },
   "outputs": [
    {
     "name": "stdout",
     "output_type": "stream",
     "text": [
      "[2, 4, 6, 10, 21]\n"
     ]
    }
   ],
   "source": [
    "print(the_ball)"
   ]
  },
  {
   "cell_type": "markdown",
   "id": "b12342f9-9acd-4fb6-b0ef-73f5be77982a",
   "metadata": {
    "editable": true,
    "slideshow": {
     "slide_type": "slide"
    },
    "tags": []
   },
   "source": [
    "## Classes\n",
    "\n",
    "<img src = \"./img/classes-example_eng.png\" style = \"width: 85.0%\"/>"
   ]
  },
  {
   "cell_type": "code",
   "execution_count": 8,
   "id": "5d35f896-c24e-4828-9e86-19d4c16beab1",
   "metadata": {
    "editable": true,
    "slideshow": {
     "slide_type": "skip"
    },
    "tags": []
   },
   "outputs": [],
   "source": [
    "class bookcase:\n",
    "    def __init__(self, objects):\n",
    "        self.top_shelf = objects[0]\n",
    "        self.middle_shelf = objects[1]\n",
    "        self.bottom_shelf = objects[2]\n",
    "\n",
    "b = bookcase([\"books\", \"boardgames\", \"vases\"])"
   ]
  },
  {
   "cell_type": "code",
   "execution_count": 10,
   "id": "d1f98e50-e751-45f5-8b1c-28ac2396ce82",
   "metadata": {
    "editable": true,
    "slideshow": {
     "slide_type": "slide"
    },
    "tags": []
   },
   "outputs": [
    {
     "data": {
      "text/plain": [
       "'vases'"
      ]
     },
     "execution_count": 10,
     "metadata": {},
     "output_type": "execute_result"
    }
   ],
   "source": [
    "b.bottom_shelf"
   ]
  },
  {
   "cell_type": "code",
   "execution_count": 11,
   "id": "80257eea-588b-4db4-978d-ae1a4d7862b3",
   "metadata": {
    "editable": true,
    "slideshow": {
     "slide_type": "fragment"
    },
    "tags": []
   },
   "outputs": [
    {
     "ename": "AttributeError",
     "evalue": "'bookcase' object has no attribute 'bottom_drawer'",
     "output_type": "error",
     "traceback": [
      "\u001b[1;31m---------------------------------------------------------------------------\u001b[0m",
      "\u001b[1;31mAttributeError\u001b[0m                            Traceback (most recent call last)",
      "Cell \u001b[1;32mIn[11], line 1\u001b[0m\n\u001b[1;32m----> 1\u001b[0m \u001b[43mb\u001b[49m\u001b[38;5;241;43m.\u001b[39;49m\u001b[43mbottom_drawer\u001b[49m\n",
      "\u001b[1;31mAttributeError\u001b[0m: 'bookcase' object has no attribute 'bottom_drawer'"
     ]
    }
   ],
   "source": [
    "b.bottom_drawer"
   ]
  },
  {
   "cell_type": "markdown",
   "id": "c2d272ef-342c-4160-8e80-e4b3606cd61f",
   "metadata": {},
   "source": [
    "# Functions and packages\n",
    "\n",
    "Defining variables is one way of expanding the Python vocabulary - remember: limited vocabulary initially!\n",
    "\n",
    "Other ways of expanding the vocabulary is by:\n",
    "- Writing functions\n",
    "- Importing packages (containing functions, variables, etc.)"
   ]
  },
  {
   "cell_type": "markdown",
   "id": "e1fb39bc-4ccc-4f76-a434-a6d92308c6bf",
   "metadata": {
    "editable": true,
    "slideshow": {
     "slide_type": "slide"
    },
    "tags": []
   },
   "source": [
    "# Writing functions\n",
    "\n",
    "A function is a block of code that runs when it is called.\n",
    "\r\n",
    "It can take parameters (inputs) and returnsome output. \n",
    "\n",
    "Functions are defined with `def` followed by a name for the function, followed by the parameters in parenthesis.\n",
    "\n",
    "When functions should return output, use `return`. Functions end when reaching a `return` statement.."
   ]
  },
  {
   "cell_type": "code",
   "execution_count": 1,
   "id": "6ecabbb0-f633-406e-be25-3258f03ce8e2",
   "metadata": {
    "editable": true,
    "slideshow": {
     "slide_type": "fragment"
    },
    "tags": []
   },
   "outputs": [
    {
     "data": {
      "text/plain": [
       "9"
      ]
     },
     "execution_count": 1,
     "metadata": {},
     "output_type": "execute_result"
    }
   ],
   "source": [
    "def add_numbers(a, b):\n",
    "    result = a + b\n",
    "    return result\n",
    "\n",
    "add_numbers(2, 7)"
   ]
  },
  {
   "cell_type": "markdown",
   "id": "b046a3df-7c5d-41bd-bfe2-718a5a8c2204",
   "metadata": {
    "editable": true,
    "slideshow": {
     "slide_type": "slide"
    },
    "tags": []
   },
   "source": [
    "## Joint exercise: Simple problem solving with python\n",
    "\n",
    "How can we create a feature that calculates the area of ​​a circle from a given radius?\n",
    "\n",
    "$ A = \\ pi * r^2 $"
   ]
  },
  {
   "cell_type": "markdown",
   "id": "01978f7f-253b-4a8c-96d2-18752c02e52e",
   "metadata": {
    "editable": true,
    "slideshow": {
     "slide_type": "slide"
    },
    "tags": []
   },
   "source": [
    "# Using packages\n",
    "\n",
    "Packages in Python are a way of organizing and reusing code. \n",
    "\n",
    "They contain functions, classes, and variables defined by other programmers. \n",
    "\n",
    "One reason why Python is prefered for data science and machine learning is the extensive library of packages for these tasks.\n",
    "\n",
    "Packages are first *installed* and then *imported*. This separation is important in order to control and maintain a specific Python *environment*."
   ]
  },
  {
   "cell_type": "markdown",
   "id": "3e13a44e-c2ca-4693-b842-d1050102c8cc",
   "metadata": {
    "editable": true,
    "slideshow": {
     "slide_type": "slide"
    },
    "tags": []
   },
   "source": [
    "# Using packages"
   ]
  },
  {
   "cell_type": "code",
   "execution_count": 3,
   "id": "6b2fc7b2-4c1e-409f-9d05-f11f346b38b8",
   "metadata": {
    "editable": true,
    "slideshow": {
     "slide_type": ""
    },
    "tags": []
   },
   "outputs": [],
   "source": [
    "import math\n",
    "\n",
    "def comparea(r):\n",
    "    A = math.pi * r**2\n",
    "    return(A)"
   ]
  },
  {
   "cell_type": "markdown",
   "id": "8e0e84b9-f592-4b45-89f4-6dd35c923855",
   "metadata": {
    "editable": true,
    "slideshow": {
     "slide_type": "slide"
    },
    "tags": []
   },
   "source": [
    "# Using packages\n",
    "\n",
    "![envir](./img/environment_books.png)"
   ]
  },
  {
   "cell_type": "markdown",
   "id": "cd9b856b-e5f5-4ada-ac51-c35cc06696ad",
   "metadata": {
    "editable": true,
    "slideshow": {
     "slide_type": "slide"
    },
    "tags": []
   },
   "source": [
    "# Data structures\n",
    "\n",
    "You will encounter many different data structures when working with Pyhthon. \n",
    "\n",
    "There are both built-in data structures but many packages use their own data structures as well. \n",
    "\n",
    "Many data handling tasks involve transforming data from one data structure to another."
   ]
  },
  {
   "cell_type": "markdown",
   "id": "293753f6-a3b9-4f6e-90df-a6efbeec28e0",
   "metadata": {
    "editable": true,
    "slideshow": {
     "slide_type": "slide"
    },
    "tags": []
   },
   "source": [
    "## Lists\n",
    "\n",
    "A fundamental Python data structure is the *list*. *Lists* are versatile, allowing you to store a sequence of items and modify them later. \n",
    "\n",
    "A list in Python is *ordered* and items can be of mixed types/different classes (you can even create lists of lists!).\n",
    "\n",
    "Lists are defined by having values between square brackets [ ].\n",
    "\n",
    "**Key features**:\n",
    "\n",
    "- Ordered: The order of items in a list is preserved, which means items can be accessed by their position (index).\r",
    "- \n",
    "Mutable: You can add, remove, or change items in a list after it has been created\n",
    "- Dynamic: c: Lists can grow or shrink in size as items are added or removed."
   ]
  },
  {
   "cell_type": "code",
   "execution_count": 6,
   "id": "248cb948-3f5d-4cb1-8daf-e3802b115c4c",
   "metadata": {
    "editable": true,
    "slideshow": {
     "slide_type": ""
    },
    "tags": []
   },
   "outputs": [
    {
     "name": "stdout",
     "output_type": "stream",
     "text": [
      "[10, 20, 30, 40, 50]\n"
     ]
    }
   ],
   "source": [
    "numbers = [10, 20, 30, 40, 50]\n",
    "\n",
    "print(numbers)"
   ]
  },
  {
   "cell_type": "markdown",
   "id": "b78e7958-52c9-43b1-9237-e4a9b6cc30fe",
   "metadata": {
    "editable": true,
    "slideshow": {
     "slide_type": ""
    },
    "tags": []
   },
   "source": [
    "## Dictionaries\n",
    "\n",
    "Dictionaries are another fundamental data structure in Python. They store data in a key-value pair format, making them incredibly useful for associating information with unique identifiers. \n",
    "\n",
    "Dictionaries are defined by enclosing items in curly braces {} where each item consists of a key followed by a colon : and then the value.\n",
    "\n",
    "**Key features**:\n",
    "\n",
    "-   Unordered: The order of items does not matter a it is not possible to access items by positione\n",
    "-    Mutable: You can add, remove, or modify entries after the dictionary is creat\n",
    "-     Indexed by keys: Instead of numeric indices, dictionaries use  pe, to retrieve val\n",
    "- \n",
    "    No duplicate keys: Each key must be unique within a dictionary."
   ]
  },
  {
   "cell_type": "markdown",
   "id": "fa8316ee-5e7f-4f97-bc82-0653d65f70aa",
   "metadata": {
    "editable": true,
    "slideshow": {
     "slide_type": "slide"
    },
    "tags": []
   },
   "source": [
    "# Dictionaries"
   ]
  },
  {
   "cell_type": "code",
   "execution_count": 5,
   "id": "00e96d00-b469-4f78-ad65-7ebc2c2a09fa",
   "metadata": {
    "editable": true,
    "slideshow": {
     "slide_type": ""
    },
    "tags": []
   },
   "outputs": [
    {
     "name": "stdout",
     "output_type": "stream",
     "text": [
      "{'Alice': 28, 'Bob': 36, 'Charlie': 20}\n"
     ]
    }
   ],
   "source": [
    "student_ages = {\n",
    "    'Alice': 28,\n",
    "    'Bob': 36,\n",
    "    'Charlie': 20\n",
    "}\n",
    "\n",
    "print(student_ages)"
   ]
  },
  {
   "cell_type": "markdown",
   "id": "867ce91e-7f31-4493-be06-ecb312803181",
   "metadata": {
    "editable": true,
    "slideshow": {
     "slide_type": "slide"
    },
    "tags": []
   },
   "source": [
    "# Introduction to pandas data frames"
   ]
  },
  {
   "cell_type": "markdown",
   "id": "9336bf25-850c-4e47-861c-4ef3d7293654",
   "metadata": {
    "editable": true,
    "slideshow": {
     "slide_type": "slide"
    },
    "tags": []
   },
   "source": [
    "## What is a (pandas) data frame?\n",
    "\n",
    "- a data structure for table data in Python (a representation of data)\n",
    "\n",
    "![DF](https://pandas.pydata.org/pandas-docs/stable/_images/01_table_dataframe.svg)\n",
    "\n",
    "- Each row and column has an *index*\n",
    "- Typically rows identified by *index* (row number - but can also be something else!)\n",
    "- Columns typically identified by column name"
   ]
  },
  {
   "cell_type": "markdown",
   "id": "d229bccd-1e1c-4cc7-ae97-a1ae2105b4ab",
   "metadata": {
    "editable": true,
    "slideshow": {
     "slide_type": "slide"
    },
    "tags": []
   },
   "source": [
    "### Each column in a data frame is a `Series`\n",
    "\n",
    "- `Series` a single-column format in Pandas\n",
    "- Compared to a Python List, a `Series` can have only one type of data\n",
    "- Indexes in a `Series` need not start at 0\n",
    "\n",
    "![SERIES](https://pandas.pydata.org/pandas-docs/stable/_images/01_table_series.svg)"
   ]
  },
  {
   "cell_type": "markdown",
   "id": "ea98f78a-c44a-4b4b-a6d5-62a33a6e7fc2",
   "metadata": {
    "editable": true,
    "slideshow": {
     "slide_type": "slide"
    },
    "tags": []
   },
   "source": [
    "## from data to data frame\n",
    "\n",
    "- A data frame is just a representation of data in python\n",
    "- Many data formats can be converted to a data frame\n",
    "- Data frames are usable for many forms of analysis\n",
    "\n",
    "Examples of files that can be read for data frames (if in correct format!):\n",
    "- .csv\n",
    "- .json\n",
    "- .xls (Excel)\n",
    "- .dta (Static)\n",
    "- .SAS7BDAT (SAS)"
   ]
  },
  {
   "cell_type": "markdown",
   "id": "a31eac5d-a36d-43c8-a8fb-cc0dfae30381",
   "metadata": {
    "editable": true,
    "slideshow": {
     "slide_type": "slide"
    },
    "tags": []
   },
   "source": [
    "# Basal data management in pandas"
   ]
  },
  {
   "cell_type": "markdown",
   "id": "ff6b64c9-29b0-490f-968c-df3fb8994811",
   "metadata": {
    "editable": true,
    "slideshow": {
     "slide_type": "slide"
    },
    "tags": []
   },
   "source": [
    "## Select columns\n",
    "\n",
    "![Col](https://pandas.pydata.org/pandas-docs/stable/_images/03_subset_columns.svg)"
   ]
  },
  {
   "cell_type": "code",
   "execution_count": 8,
   "id": "059b0700-cc30-49a0-a3d0-a17998586e0a",
   "metadata": {
    "editable": true,
    "slideshow": {
     "slide_type": ""
    },
    "tags": []
   },
   "outputs": [
    {
     "data": {
      "text/plain": [
       "0      Not at all\n",
       "1          Medium\n",
       "2          Medium\n",
       "3          Medium\n",
       "4          Medium\n",
       "          ...    \n",
       "988        Strong\n",
       "989        Medium\n",
       "990        Strong\n",
       "991        Medium\n",
       "992           Low\n",
       "Name: polintr, Length: 993, dtype: object"
      ]
     },
     "execution_count": 8,
     "metadata": {},
     "output_type": "execute_result"
    }
   ],
   "source": [
    "eurob['polintr']"
   ]
  },
  {
   "cell_type": "markdown",
   "id": "e407a6bc-828b-4ec7-ae4a-4ec2a836aa35",
   "metadata": {
    "editable": true,
    "slideshow": {
     "slide_type": "slide"
    },
    "tags": []
   },
   "source": [
    "## Select rows\n",
    "\n",
    "![rows](https://pandas.pydata.org/pandas-docs/stable/_images/03_subset_rows.svg)"
   ]
  },
  {
   "cell_type": "code",
   "execution_count": 9,
   "id": "5e7058b8-2eb0-4192-b087-03f2cb630e4c",
   "metadata": {
    "editable": true,
    "slideshow": {
     "slide_type": ""
    },
    "tags": []
   },
   "outputs": [
    {
     "data": {
      "text/html": [
       "<div>\n",
       "<style scoped>\n",
       "    .dataframe tbody tr th:only-of-type {\n",
       "        vertical-align: middle;\n",
       "    }\n",
       "\n",
       "    .dataframe tbody tr th {\n",
       "        vertical-align: top;\n",
       "    }\n",
       "\n",
       "    .dataframe thead th {\n",
       "        text-align: right;\n",
       "    }\n",
       "</style>\n",
       "<table border=\"1\" class=\"dataframe\">\n",
       "  <thead>\n",
       "    <tr style=\"text-align: right;\">\n",
       "      <th></th>\n",
       "      <th>uniqid</th>\n",
       "      <th>d11</th>\n",
       "      <th>polintr</th>\n",
       "      <th>qb1</th>\n",
       "      <th>qb3_1</th>\n",
       "      <th>qb3_2</th>\n",
       "      <th>qb3_3</th>\n",
       "      <th>qb3_4</th>\n",
       "      <th>qb3_5</th>\n",
       "      <th>qb3_6</th>\n",
       "      <th>...</th>\n",
       "      <th>d10</th>\n",
       "      <th>d15a</th>\n",
       "      <th>d15b</th>\n",
       "      <th>d25</th>\n",
       "      <th>d63</th>\n",
       "      <th>d1</th>\n",
       "      <th>p1</th>\n",
       "      <th>p2</th>\n",
       "      <th>p3</th>\n",
       "      <th>region_denmark</th>\n",
       "    </tr>\n",
       "  </thead>\n",
       "  <tbody>\n",
       "    <tr>\n",
       "      <th>10</th>\n",
       "      <td>110005583</td>\n",
       "      <td>91.0</td>\n",
       "      <td>Low</td>\n",
       "      <td>Don't know (SPONTANEOUS)</td>\n",
       "      <td>Not mentioned</td>\n",
       "      <td>Not mentioned</td>\n",
       "      <td>Not mentioned</td>\n",
       "      <td>Not mentioned</td>\n",
       "      <td>Not mentioned</td>\n",
       "      <td>Not mentioned</td>\n",
       "      <td>...</td>\n",
       "      <td>Man</td>\n",
       "      <td>Retired, unable to work</td>\n",
       "      <td>Employed position, travelling</td>\n",
       "      <td>Large town</td>\n",
       "      <td>The working class of society</td>\n",
       "      <td>5</td>\n",
       "      <td>17 Sep 21</td>\n",
       "      <td>13 - 16 h</td>\n",
       "      <td>2636</td>\n",
       "      <td>DK05 - Nordjylland</td>\n",
       "    </tr>\n",
       "    <tr>\n",
       "      <th>19</th>\n",
       "      <td>110005592</td>\n",
       "      <td>18.0</td>\n",
       "      <td>Low</td>\n",
       "      <td>Very important</td>\n",
       "      <td>Use of personal data and information by compan...</td>\n",
       "      <td>Not mentioned</td>\n",
       "      <td>Not mentioned</td>\n",
       "      <td>The safety and well-being of children</td>\n",
       "      <td>Not mentioned</td>\n",
       "      <td>The difficulty of disconnecting and finding a ...</td>\n",
       "      <td>...</td>\n",
       "      <td>Woman</td>\n",
       "      <td>Student</td>\n",
       "      <td>Unskilled manual worker, etc.</td>\n",
       "      <td>Rural area or village</td>\n",
       "      <td>The middle class of society</td>\n",
       "      <td>3</td>\n",
       "      <td>17 Sep 21</td>\n",
       "      <td>13 - 16 h</td>\n",
       "      <td>3252</td>\n",
       "      <td>DK04 - Midtjylland</td>\n",
       "    </tr>\n",
       "  </tbody>\n",
       "</table>\n",
       "<p>2 rows × 23 columns</p>\n",
       "</div>"
      ],
      "text/plain": [
       "       uniqid   d11 polintr                       qb1  \\\n",
       "10  110005583  91.0     Low  Don't know (SPONTANEOUS)   \n",
       "19  110005592  18.0     Low            Very important   \n",
       "\n",
       "                                                qb3_1          qb3_2  \\\n",
       "10                                      Not mentioned  Not mentioned   \n",
       "19  Use of personal data and information by compan...  Not mentioned   \n",
       "\n",
       "            qb3_3                                  qb3_4          qb3_5  \\\n",
       "10  Not mentioned                          Not mentioned  Not mentioned   \n",
       "19  Not mentioned  The safety and well-being of children  Not mentioned   \n",
       "\n",
       "                                                qb3_6  ...    d10  \\\n",
       "10                                      Not mentioned  ...    Man   \n",
       "19  The difficulty of disconnecting and finding a ...  ...  Woman   \n",
       "\n",
       "                       d15a                           d15b  \\\n",
       "10  Retired, unable to work  Employed position, travelling   \n",
       "19                  Student  Unskilled manual worker, etc.   \n",
       "\n",
       "                      d25                           d63 d1         p1  \\\n",
       "10             Large town  The working class of society  5  17 Sep 21   \n",
       "19  Rural area or village   The middle class of society  3  17 Sep 21   \n",
       "\n",
       "           p2    p3      region_denmark  \n",
       "10  13 - 16 h  2636  DK05 - Nordjylland  \n",
       "19  13 - 16 h  3252  DK04 - Midtjylland  \n",
       "\n",
       "[2 rows x 23 columns]"
      ]
     },
     "execution_count": 9,
     "metadata": {},
     "output_type": "execute_result"
    }
   ],
   "source": [
    "eurob[eurob['polintr'] == \"Low\"].head(2) #boolean indexing"
   ]
  },
  {
   "cell_type": "markdown",
   "id": "948e5459-e2b3-4c63-a783-ca13bd058063",
   "metadata": {
    "editable": true,
    "slideshow": {
     "slide_type": "slide"
    },
    "tags": []
   },
   "source": [
    "## Subsetting with `.loc[]` and `.iloc[]` (specific rows and columns)"
   ]
  },
  {
   "cell_type": "markdown",
   "id": "4c75393c-49b4-43bc-8a51-16878c5a800b",
   "metadata": {
    "editable": true,
    "slideshow": {
     "slide_type": ""
    },
    "tags": []
   },
   "source": [
    "![LOC](https://pandas.pydata.org/pandas-docs/stable/_images/03_subset_columns_rows.svg)"
   ]
  },
  {
   "cell_type": "code",
   "execution_count": 10,
   "id": "1b1da811-639f-4e6b-9a41-0466d3378904",
   "metadata": {
    "editable": true,
    "slideshow": {
     "slide_type": ""
    },
    "tags": []
   },
   "outputs": [
    {
     "data": {
      "text/html": [
       "<div>\n",
       "<style scoped>\n",
       "    .dataframe tbody tr th:only-of-type {\n",
       "        vertical-align: middle;\n",
       "    }\n",
       "\n",
       "    .dataframe tbody tr th {\n",
       "        vertical-align: top;\n",
       "    }\n",
       "\n",
       "    .dataframe thead th {\n",
       "        text-align: right;\n",
       "    }\n",
       "</style>\n",
       "<table border=\"1\" class=\"dataframe\">\n",
       "  <thead>\n",
       "    <tr style=\"text-align: right;\">\n",
       "      <th></th>\n",
       "      <th>polintr</th>\n",
       "      <th>d10</th>\n",
       "    </tr>\n",
       "  </thead>\n",
       "  <tbody>\n",
       "    <tr>\n",
       "      <th>10</th>\n",
       "      <td>Low</td>\n",
       "      <td>Man</td>\n",
       "    </tr>\n",
       "    <tr>\n",
       "      <th>19</th>\n",
       "      <td>Low</td>\n",
       "      <td>Woman</td>\n",
       "    </tr>\n",
       "    <tr>\n",
       "      <th>24</th>\n",
       "      <td>Low</td>\n",
       "      <td>Woman</td>\n",
       "    </tr>\n",
       "  </tbody>\n",
       "</table>\n",
       "</div>"
      ],
      "text/plain": [
       "   polintr    d10\n",
       "10     Low    Man\n",
       "19     Low  Woman\n",
       "24     Low  Woman"
      ]
     },
     "execution_count": 10,
     "metadata": {},
     "output_type": "execute_result"
    }
   ],
   "source": [
    "eurob.loc[eurob['polintr'] == \"Low\", ['polintr', 'd10']].head(3) "
   ]
  },
  {
   "cell_type": "markdown",
   "id": "afb114e5-cae4-438d-88cc-0359b9ac46f5",
   "metadata": {
    "editable": true,
    "slideshow": {
     "slide_type": "slide"
    },
    "tags": []
   },
   "source": [
    "## Subsetting with `.loc[]` and `.iloc[]`\n",
    "\n",
    "- `.loc[]`: \"Label-Based Location\" (based on the naming of rows and columns)\n",
    "- `.iloc[]`: \"Index-Based Location\" (based on index for rows and columns)\n",
    "\n",
    "**Syntax:**\n",
    "\n",
    "`.loc[rows, columns]`\n",
    "\n",
    "- `rows` can be specified as a row names or via conditions (\"Boolean Indexing\")\n",
    "- `columns` can be specified as list of column names"
   ]
  },
  {
   "cell_type": "markdown",
   "id": "c3baee0f-b7ca-4172-b35a-ae4536880efa",
   "metadata": {
    "editable": true,
    "slideshow": {
     "slide_type": "slide"
    },
    "tags": []
   },
   "source": [
    "## Recoding with `.loc`\n",
    "\n",
    "- Think recoding as to locate specific parts of data that are overwritten with a value\n",
    "\n",
    "<img src = \"./img/loc_example.png\" Style = \"Width: 50.0%\"/>"
   ]
  },
  {
   "cell_type": "markdown",
   "id": "5b1e0520-bd93-488e-a923-532e03c1cff7",
   "metadata": {
    "editable": true,
    "slideshow": {
     "slide_type": ""
    },
    "tags": []
   },
   "source": [
    "```python\n",
    "df.loc [df ['v1']> 10, 'v1'] = 0\n",
    "```"
   ]
  },
  {
   "cell_type": "markdown",
   "id": "0620fdf6-505b-419f-982d-8ee4c765d429",
   "metadata": {
    "editable": true,
    "slideshow": {
     "slide_type": ""
    },
    "tags": []
   },
   "source": [
    "<img src = \"./img/loc_example2.png\" style = \"width: 28.0%\"/>"
   ]
  },
  {
   "cell_type": "markdown",
   "id": "3410fbb8-6706-4fcf-a7ee-019064c93b66",
   "metadata": {
    "editable": true,
    "slideshow": {
     "slide_type": "slide"
    },
    "tags": []
   },
   "source": [
    "## Recoding with mappings"
   ]
  },
  {
   "cell_type": "markdown",
   "id": "d1ba907e-f407-4550-8aa7-eb61a28b8f0d",
   "metadata": {
    "editable": true,
    "slideshow": {
     "slide_type": ""
    },
    "tags": []
   },
   "source": [
    "- When recoding categories, using `.loc[]` can be difficult\n",
    "- Alternatively you can use a *mapping*, indicating what values ​​to be replaced and what to be replaced with\n",
    "- A mapping can be considered as a form of \"search-and-replace\" used on a column\n",
    "- A mapping is made as a dictionary with old value as keys and new values as values:\n",
    "\n",
    "```\n",
    "mapping = {\"OLD VALUE X\": \"New Value X\", \"Old Value Y\": \"New Value Y\"}\n",
    "```\n",
    "\n",
    "- A mapping can be used to replace values ​​in a column (or `Series`) with the method` .replace ()`"
   ]
  },
  {
   "cell_type": "markdown",
   "id": "3610e1c9-e9a9-4d4c-9d63-196c327690d6",
   "metadata": {
    "editable": true,
    "slideshow": {
     "slide_type": "slide"
    },
    "tags": []
   },
   "source": [
    "## Recoding with Mappings - Example"
   ]
  },
  {
   "cell_type": "code",
   "execution_count": 12,
   "id": "01566c80-5dd1-4ec8-957c-385d9359548b",
   "metadata": {
    "editable": true,
    "slideshow": {
     "slide_type": ""
    },
    "tags": []
   },
   "outputs": [
    {
     "data": {
      "text/plain": [
       "qb1\n",
       "Very important              716\n",
       "Fairly important            191\n",
       "Not very important           44\n",
       "Not at all important         32\n",
       "Don't know (SPONTANEOUS)     10\n",
       "Name: count, dtype: int64"
      ]
     },
     "execution_count": 12,
     "metadata": {},
     "output_type": "execute_result"
    }
   ],
   "source": [
    "eurob['qb1'].value_counts()"
   ]
  },
  {
   "cell_type": "code",
   "execution_count": 13,
   "id": "89f3212b-d6ef-4a5b-8265-60c6e9282321",
   "metadata": {
    "editable": true,
    "slideshow": {
     "slide_type": ""
    },
    "tags": []
   },
   "outputs": [
    {
     "data": {
      "text/plain": [
       "qb1_bin\n",
       "Important        907\n",
       "Not important     76\n",
       "Name: count, dtype: int64"
      ]
     },
     "execution_count": 13,
     "metadata": {},
     "output_type": "execute_result"
    }
   ],
   "source": [
    "qb1_map = {\"Very important\": \"Important\", \n",
    "          \"Fairly important\": \"Important\", \n",
    "          \"Not very important\": \"Not important\",\n",
    "          \"Not at all important\": \"Not important\",\n",
    "          \"Don't know (SPONTANEOUS)\": np.nan}\n",
    "\n",
    "eurob['qb1_bin'] = eurob['qb1'].replace(qb1_map)\n",
    "\n",
    "eurob['qb1_bin'].value_counts()"
   ]
  },
  {
   "cell_type": "markdown",
   "id": "135d31d6-54b5-4c89-a3e2-79fc14d5563d",
   "metadata": {
    "editable": true,
    "slideshow": {
     "slide_type": "slide"
    },
    "tags": []
   },
   "source": [
    "# Summary\n",
    "\n",
    "- Python is a programming language and an interpreter\n",
    "- Python *variables* are names used to call up information\n",
    "- Variables always have a *class*\n",
    "- A pandas data frame is a data structure in python to work with data in tables\n",
    "- A column in a data frame is called a `Series`\n",
    "- `.loc[]` used for both subsetting and recoding of data frames"
   ]
  }
 ],
 "metadata": {
  "kernelspec": {
   "display_name": "Python 3 (ipykernel)",
   "language": "python",
   "name": "python3"
  },
  "language_info": {
   "codemirror_mode": {
    "name": "ipython",
    "version": 3
   },
   "file_extension": ".py",
   "mimetype": "text/x-python",
   "name": "python",
   "nbconvert_exporter": "python",
   "pygments_lexer": "ipython3",
   "version": "3.8.17"
  }
 },
 "nbformat": 4,
 "nbformat_minor": 5
}
